{
 "cells": [
  {
   "cell_type": "markdown",
   "id": "ca6ce93b-bf90-4427-af64-b5b8ac8530ec",
   "metadata": {},
   "source": [
    "## Creating augmenting data"
   ]
  },
  {
   "cell_type": "code",
   "execution_count": 1,
   "id": "2a3800e4-b9b2-48e6-b129-685b8d2e61f5",
   "metadata": {},
   "outputs": [],
   "source": [
    "import numpy as np\n",
    "import pandas as pd\n",
    "import datetime "
   ]
  },
  {
   "cell_type": "code",
   "execution_count": 2,
   "id": "d8ad4d39-b2d1-4659-89cb-cd9e3a311308",
   "metadata": {},
   "outputs": [],
   "source": [
    "df1 = pd.read_excel(\"CustomersData.xlsx\")\n",
    "df2 = pd.read_csv(\"Discount_Coupon.csv\")\n",
    "df3 = pd.read_csv(\"Marketing_Spend.csv\")\n",
    "df4 = pd.read_csv(\"Online_Sales.csv\")\n",
    "df5 = pd.read_excel(\"Tax_amount.xlsx\")"
   ]
  },
  {
   "cell_type": "code",
   "execution_count": 3,
   "id": "411ce3f9-6738-4ba3-8348-85803591fcbf",
   "metadata": {},
   "outputs": [],
   "source": [
    "# merge the dataset\n",
    "df = df1.merge(df4, on = \"CustomerID\", how = \"inner\")\n",
    "df = df.merge(df5, on = \"Product_Category\")\n",
    "df = df.merge(df3, left_on=\"Transaction_Date\", right_on=\"Date\")"
   ]
  },
  {
   "cell_type": "code",
   "execution_count": 4,
   "id": "b10545c0-f466-44b8-9fa3-ce6097a93341",
   "metadata": {},
   "outputs": [
    {
     "data": {
      "text/html": [
       "<div>\n",
       "<style scoped>\n",
       "    .dataframe tbody tr th:only-of-type {\n",
       "        vertical-align: middle;\n",
       "    }\n",
       "\n",
       "    .dataframe tbody tr th {\n",
       "        vertical-align: top;\n",
       "    }\n",
       "\n",
       "    .dataframe thead th {\n",
       "        text-align: right;\n",
       "    }\n",
       "</style>\n",
       "<table border=\"1\" class=\"dataframe\">\n",
       "  <thead>\n",
       "    <tr style=\"text-align: right;\">\n",
       "      <th></th>\n",
       "      <th>CustomerID</th>\n",
       "      <th>Gender</th>\n",
       "      <th>Location</th>\n",
       "      <th>Tenure_Months</th>\n",
       "      <th>Transaction_ID</th>\n",
       "      <th>Transaction_Date</th>\n",
       "      <th>Product_SKU</th>\n",
       "      <th>Product_Description</th>\n",
       "      <th>Product_Category</th>\n",
       "      <th>Quantity</th>\n",
       "      <th>Avg_Price</th>\n",
       "      <th>Delivery_Charges</th>\n",
       "      <th>Coupon_Status</th>\n",
       "      <th>GST</th>\n",
       "      <th>Date</th>\n",
       "      <th>Offline_Spend</th>\n",
       "      <th>Online_Spend</th>\n",
       "    </tr>\n",
       "  </thead>\n",
       "  <tbody>\n",
       "    <tr>\n",
       "      <th>0</th>\n",
       "      <td>17850</td>\n",
       "      <td>M</td>\n",
       "      <td>Chicago</td>\n",
       "      <td>12</td>\n",
       "      <td>16679</td>\n",
       "      <td>1/1/2019</td>\n",
       "      <td>GGOENEBJ079499</td>\n",
       "      <td>Nest Learning Thermostat 3rd Gen-USA - Stainle...</td>\n",
       "      <td>Nest-USA</td>\n",
       "      <td>1</td>\n",
       "      <td>153.71</td>\n",
       "      <td>6.5</td>\n",
       "      <td>Used</td>\n",
       "      <td>0.10</td>\n",
       "      <td>1/1/2019</td>\n",
       "      <td>4500</td>\n",
       "      <td>2424.5</td>\n",
       "    </tr>\n",
       "    <tr>\n",
       "      <th>1</th>\n",
       "      <td>17850</td>\n",
       "      <td>M</td>\n",
       "      <td>Chicago</td>\n",
       "      <td>12</td>\n",
       "      <td>16680</td>\n",
       "      <td>1/1/2019</td>\n",
       "      <td>GGOENEBJ079499</td>\n",
       "      <td>Nest Learning Thermostat 3rd Gen-USA - Stainle...</td>\n",
       "      <td>Nest-USA</td>\n",
       "      <td>1</td>\n",
       "      <td>153.71</td>\n",
       "      <td>6.5</td>\n",
       "      <td>Used</td>\n",
       "      <td>0.10</td>\n",
       "      <td>1/1/2019</td>\n",
       "      <td>4500</td>\n",
       "      <td>2424.5</td>\n",
       "    </tr>\n",
       "    <tr>\n",
       "      <th>2</th>\n",
       "      <td>17850</td>\n",
       "      <td>M</td>\n",
       "      <td>Chicago</td>\n",
       "      <td>12</td>\n",
       "      <td>16681</td>\n",
       "      <td>1/1/2019</td>\n",
       "      <td>GGOEGFKQ020399</td>\n",
       "      <td>Google Laptop and Cell Phone Stickers</td>\n",
       "      <td>Office</td>\n",
       "      <td>1</td>\n",
       "      <td>2.05</td>\n",
       "      <td>6.5</td>\n",
       "      <td>Used</td>\n",
       "      <td>0.10</td>\n",
       "      <td>1/1/2019</td>\n",
       "      <td>4500</td>\n",
       "      <td>2424.5</td>\n",
       "    </tr>\n",
       "    <tr>\n",
       "      <th>3</th>\n",
       "      <td>17850</td>\n",
       "      <td>M</td>\n",
       "      <td>Chicago</td>\n",
       "      <td>12</td>\n",
       "      <td>16682</td>\n",
       "      <td>1/1/2019</td>\n",
       "      <td>GGOEGAAB010516</td>\n",
       "      <td>Google Men's 100% Cotton Short Sleeve Hero Tee...</td>\n",
       "      <td>Apparel</td>\n",
       "      <td>5</td>\n",
       "      <td>17.53</td>\n",
       "      <td>6.5</td>\n",
       "      <td>Not Used</td>\n",
       "      <td>0.18</td>\n",
       "      <td>1/1/2019</td>\n",
       "      <td>4500</td>\n",
       "      <td>2424.5</td>\n",
       "    </tr>\n",
       "    <tr>\n",
       "      <th>4</th>\n",
       "      <td>17850</td>\n",
       "      <td>M</td>\n",
       "      <td>Chicago</td>\n",
       "      <td>12</td>\n",
       "      <td>16682</td>\n",
       "      <td>1/1/2019</td>\n",
       "      <td>GGOEGBJL013999</td>\n",
       "      <td>Google Canvas Tote Natural/Navy</td>\n",
       "      <td>Bags</td>\n",
       "      <td>1</td>\n",
       "      <td>16.50</td>\n",
       "      <td>6.5</td>\n",
       "      <td>Used</td>\n",
       "      <td>0.18</td>\n",
       "      <td>1/1/2019</td>\n",
       "      <td>4500</td>\n",
       "      <td>2424.5</td>\n",
       "    </tr>\n",
       "  </tbody>\n",
       "</table>\n",
       "</div>"
      ],
      "text/plain": [
       "   CustomerID Gender Location  Tenure_Months  Transaction_ID Transaction_Date  \\\n",
       "0       17850      M  Chicago             12           16679         1/1/2019   \n",
       "1       17850      M  Chicago             12           16680         1/1/2019   \n",
       "2       17850      M  Chicago             12           16681         1/1/2019   \n",
       "3       17850      M  Chicago             12           16682         1/1/2019   \n",
       "4       17850      M  Chicago             12           16682         1/1/2019   \n",
       "\n",
       "      Product_SKU                                Product_Description  \\\n",
       "0  GGOENEBJ079499  Nest Learning Thermostat 3rd Gen-USA - Stainle...   \n",
       "1  GGOENEBJ079499  Nest Learning Thermostat 3rd Gen-USA - Stainle...   \n",
       "2  GGOEGFKQ020399              Google Laptop and Cell Phone Stickers   \n",
       "3  GGOEGAAB010516  Google Men's 100% Cotton Short Sleeve Hero Tee...   \n",
       "4  GGOEGBJL013999                    Google Canvas Tote Natural/Navy   \n",
       "\n",
       "  Product_Category  Quantity  Avg_Price  Delivery_Charges Coupon_Status   GST  \\\n",
       "0         Nest-USA         1     153.71               6.5          Used  0.10   \n",
       "1         Nest-USA         1     153.71               6.5          Used  0.10   \n",
       "2           Office         1       2.05               6.5          Used  0.10   \n",
       "3          Apparel         5      17.53               6.5      Not Used  0.18   \n",
       "4             Bags         1      16.50               6.5          Used  0.18   \n",
       "\n",
       "       Date  Offline_Spend  Online_Spend  \n",
       "0  1/1/2019           4500        2424.5  \n",
       "1  1/1/2019           4500        2424.5  \n",
       "2  1/1/2019           4500        2424.5  \n",
       "3  1/1/2019           4500        2424.5  \n",
       "4  1/1/2019           4500        2424.5  "
      ]
     },
     "execution_count": 4,
     "metadata": {},
     "output_type": "execute_result"
    }
   ],
   "source": [
    "df.head()"
   ]
  },
  {
   "cell_type": "code",
   "execution_count": 5,
   "id": "69b0a740-a46b-4e61-93f9-293f44c9ad40",
   "metadata": {},
   "outputs": [
    {
     "name": "stdout",
     "output_type": "stream",
     "text": [
      "<class 'pandas.core.frame.DataFrame'>\n",
      "RangeIndex: 52924 entries, 0 to 52923\n",
      "Data columns (total 17 columns):\n",
      " #   Column               Non-Null Count  Dtype  \n",
      "---  ------               --------------  -----  \n",
      " 0   CustomerID           52924 non-null  int64  \n",
      " 1   Gender               52924 non-null  object \n",
      " 2   Location             52924 non-null  object \n",
      " 3   Tenure_Months        52924 non-null  int64  \n",
      " 4   Transaction_ID       52924 non-null  int64  \n",
      " 5   Transaction_Date     52924 non-null  object \n",
      " 6   Product_SKU          52924 non-null  object \n",
      " 7   Product_Description  52924 non-null  object \n",
      " 8   Product_Category     52924 non-null  object \n",
      " 9   Quantity             52924 non-null  int64  \n",
      " 10  Avg_Price            52924 non-null  float64\n",
      " 11  Delivery_Charges     52924 non-null  float64\n",
      " 12  Coupon_Status        52924 non-null  object \n",
      " 13  GST                  52924 non-null  float64\n",
      " 14  Date                 52924 non-null  object \n",
      " 15  Offline_Spend        52924 non-null  int64  \n",
      " 16  Online_Spend         52924 non-null  float64\n",
      "dtypes: float64(4), int64(5), object(8)\n",
      "memory usage: 6.9+ MB\n"
     ]
    }
   ],
   "source": [
    "df.info()"
   ]
  },
  {
   "cell_type": "code",
   "execution_count": 6,
   "id": "477746b6-db34-4d3e-bc88-91ab698b0493",
   "metadata": {},
   "outputs": [],
   "source": [
    "df[\"Transaction_Date\"] = pd.to_datetime(df[\"Transaction_Date\"], format='%m/%d/%Y')\n",
    "df['Month'] = df[\"Transaction_Date\"].apply(lambda x : x.strftime('%m'))\n",
    "df['Month'] = df['Month'].astype('int')"
   ]
  },
  {
   "cell_type": "code",
   "execution_count": 7,
   "id": "3da09303-d415-4aab-9eb5-20b47d1e0e7e",
   "metadata": {},
   "outputs": [
    {
     "name": "stdout",
     "output_type": "stream",
     "text": [
      "<class 'pandas.core.frame.DataFrame'>\n",
      "RangeIndex: 52924 entries, 0 to 52923\n",
      "Data columns (total 18 columns):\n",
      " #   Column               Non-Null Count  Dtype         \n",
      "---  ------               --------------  -----         \n",
      " 0   CustomerID           52924 non-null  int64         \n",
      " 1   Gender               52924 non-null  object        \n",
      " 2   Location             52924 non-null  object        \n",
      " 3   Tenure_Months        52924 non-null  int64         \n",
      " 4   Transaction_ID       52924 non-null  int64         \n",
      " 5   Transaction_Date     52924 non-null  datetime64[ns]\n",
      " 6   Product_SKU          52924 non-null  object        \n",
      " 7   Product_Description  52924 non-null  object        \n",
      " 8   Product_Category     52924 non-null  object        \n",
      " 9   Quantity             52924 non-null  int64         \n",
      " 10  Avg_Price            52924 non-null  float64       \n",
      " 11  Delivery_Charges     52924 non-null  float64       \n",
      " 12  Coupon_Status        52924 non-null  object        \n",
      " 13  GST                  52924 non-null  float64       \n",
      " 14  Date                 52924 non-null  object        \n",
      " 15  Offline_Spend        52924 non-null  int64         \n",
      " 16  Online_Spend         52924 non-null  float64       \n",
      " 17  Month                52924 non-null  int32         \n",
      "dtypes: datetime64[ns](1), float64(4), int32(1), int64(5), object(7)\n",
      "memory usage: 7.1+ MB\n"
     ]
    }
   ],
   "source": [
    "df.info()"
   ]
  },
  {
   "cell_type": "code",
   "execution_count": 8,
   "id": "e9f9aa39-9178-47a9-b943-4f48ab216975",
   "metadata": {},
   "outputs": [
    {
     "data": {
      "text/plain": [
       "0    Jan\n",
       "1    Feb\n",
       "2    Mar\n",
       "3    Jan\n",
       "4    Feb\n",
       "Name: Month, dtype: object"
      ]
     },
     "execution_count": 8,
     "metadata": {},
     "output_type": "execute_result"
    }
   ],
   "source": [
    "df2['Month'].head()"
   ]
  },
  {
   "cell_type": "code",
   "execution_count": 9,
   "id": "5a3e7943-2d6b-4b86-b7be-7277a1b33593",
   "metadata": {},
   "outputs": [
    {
     "data": {
      "text/plain": [
       "0    1\n",
       "1    1\n",
       "2    1\n",
       "3    1\n",
       "4    1\n",
       "Name: Month, dtype: int32"
      ]
     },
     "execution_count": 9,
     "metadata": {},
     "output_type": "execute_result"
    }
   ],
   "source": [
    "df[\"Month\"].head()"
   ]
  },
  {
   "cell_type": "code",
   "execution_count": 10,
   "id": "b0744220-6b8e-469d-9e29-1518cf4cc74b",
   "metadata": {},
   "outputs": [],
   "source": [
    "df2[\"Month\"] = df2['Month'].apply(lambda x: datetime.datetime.strptime(x, '%b').month)"
   ]
  },
  {
   "cell_type": "code",
   "execution_count": 11,
   "id": "cf6709f6-5383-4c2f-9801-5bf2ca49c259",
   "metadata": {},
   "outputs": [
    {
     "name": "stdout",
     "output_type": "stream",
     "text": [
      "<class 'pandas.core.frame.DataFrame'>\n",
      "RangeIndex: 52955 entries, 0 to 52954\n",
      "Data columns (total 20 columns):\n",
      " #   Column               Non-Null Count  Dtype         \n",
      "---  ------               --------------  -----         \n",
      " 0   CustomerID           52924 non-null  float64       \n",
      " 1   Gender               52924 non-null  object        \n",
      " 2   Location             52924 non-null  object        \n",
      " 3   Tenure_Months        52924 non-null  float64       \n",
      " 4   Transaction_ID       52924 non-null  float64       \n",
      " 5   Transaction_Date     52924 non-null  datetime64[ns]\n",
      " 6   Product_SKU          52924 non-null  object        \n",
      " 7   Product_Description  52924 non-null  object        \n",
      " 8   Product_Category     52955 non-null  object        \n",
      " 9   Quantity             52924 non-null  float64       \n",
      " 10  Avg_Price            52924 non-null  float64       \n",
      " 11  Delivery_Charges     52924 non-null  float64       \n",
      " 12  Coupon_Status        52924 non-null  object        \n",
      " 13  GST                  52924 non-null  float64       \n",
      " 14  Date                 52924 non-null  object        \n",
      " 15  Offline_Spend        52924 non-null  float64       \n",
      " 16  Online_Spend         52924 non-null  float64       \n",
      " 17  Month                52955 non-null  int64         \n",
      " 18  Coupon_Code          52555 non-null  object        \n",
      " 19  Discount_pct         52555 non-null  float64       \n",
      "dtypes: datetime64[ns](1), float64(10), int64(1), object(8)\n",
      "memory usage: 8.1+ MB\n"
     ]
    }
   ],
   "source": [
    "df = df.merge(df2, on = ['Month','Product_Category'], how = 'outer')\n",
    "df.info()"
   ]
  },
  {
   "cell_type": "code",
   "execution_count": 12,
   "id": "2b347a04-84f6-4a3c-9521-46a7154b2b5c",
   "metadata": {},
   "outputs": [
    {
     "data": {
      "text/html": [
       "<div>\n",
       "<style scoped>\n",
       "    .dataframe tbody tr th:only-of-type {\n",
       "        vertical-align: middle;\n",
       "    }\n",
       "\n",
       "    .dataframe tbody tr th {\n",
       "        vertical-align: top;\n",
       "    }\n",
       "\n",
       "    .dataframe thead th {\n",
       "        text-align: right;\n",
       "    }\n",
       "</style>\n",
       "<table border=\"1\" class=\"dataframe\">\n",
       "  <thead>\n",
       "    <tr style=\"text-align: right;\">\n",
       "      <th></th>\n",
       "      <th>miss_count</th>\n",
       "      <th>miss_%</th>\n",
       "    </tr>\n",
       "  </thead>\n",
       "  <tbody>\n",
       "    <tr>\n",
       "      <th>CustomerID</th>\n",
       "      <td>31</td>\n",
       "      <td>0.058540</td>\n",
       "    </tr>\n",
       "    <tr>\n",
       "      <th>Gender</th>\n",
       "      <td>31</td>\n",
       "      <td>0.058540</td>\n",
       "    </tr>\n",
       "    <tr>\n",
       "      <th>Location</th>\n",
       "      <td>31</td>\n",
       "      <td>0.058540</td>\n",
       "    </tr>\n",
       "    <tr>\n",
       "      <th>Tenure_Months</th>\n",
       "      <td>31</td>\n",
       "      <td>0.058540</td>\n",
       "    </tr>\n",
       "    <tr>\n",
       "      <th>Transaction_ID</th>\n",
       "      <td>31</td>\n",
       "      <td>0.058540</td>\n",
       "    </tr>\n",
       "    <tr>\n",
       "      <th>Transaction_Date</th>\n",
       "      <td>31</td>\n",
       "      <td>0.058540</td>\n",
       "    </tr>\n",
       "    <tr>\n",
       "      <th>Product_SKU</th>\n",
       "      <td>31</td>\n",
       "      <td>0.058540</td>\n",
       "    </tr>\n",
       "    <tr>\n",
       "      <th>Product_Description</th>\n",
       "      <td>31</td>\n",
       "      <td>0.058540</td>\n",
       "    </tr>\n",
       "    <tr>\n",
       "      <th>Quantity</th>\n",
       "      <td>31</td>\n",
       "      <td>0.058540</td>\n",
       "    </tr>\n",
       "    <tr>\n",
       "      <th>Avg_Price</th>\n",
       "      <td>31</td>\n",
       "      <td>0.058540</td>\n",
       "    </tr>\n",
       "    <tr>\n",
       "      <th>Delivery_Charges</th>\n",
       "      <td>31</td>\n",
       "      <td>0.058540</td>\n",
       "    </tr>\n",
       "    <tr>\n",
       "      <th>Coupon_Status</th>\n",
       "      <td>31</td>\n",
       "      <td>0.058540</td>\n",
       "    </tr>\n",
       "    <tr>\n",
       "      <th>GST</th>\n",
       "      <td>31</td>\n",
       "      <td>0.058540</td>\n",
       "    </tr>\n",
       "    <tr>\n",
       "      <th>Date</th>\n",
       "      <td>31</td>\n",
       "      <td>0.058540</td>\n",
       "    </tr>\n",
       "    <tr>\n",
       "      <th>Offline_Spend</th>\n",
       "      <td>31</td>\n",
       "      <td>0.058540</td>\n",
       "    </tr>\n",
       "    <tr>\n",
       "      <th>Online_Spend</th>\n",
       "      <td>31</td>\n",
       "      <td>0.058540</td>\n",
       "    </tr>\n",
       "    <tr>\n",
       "      <th>Coupon_Code</th>\n",
       "      <td>400</td>\n",
       "      <td>0.755358</td>\n",
       "    </tr>\n",
       "    <tr>\n",
       "      <th>Discount_pct</th>\n",
       "      <td>400</td>\n",
       "      <td>0.755358</td>\n",
       "    </tr>\n",
       "  </tbody>\n",
       "</table>\n",
       "</div>"
      ],
      "text/plain": [
       "                     miss_count    miss_%\n",
       "CustomerID                   31  0.058540\n",
       "Gender                       31  0.058540\n",
       "Location                     31  0.058540\n",
       "Tenure_Months                31  0.058540\n",
       "Transaction_ID               31  0.058540\n",
       "Transaction_Date             31  0.058540\n",
       "Product_SKU                  31  0.058540\n",
       "Product_Description          31  0.058540\n",
       "Quantity                     31  0.058540\n",
       "Avg_Price                    31  0.058540\n",
       "Delivery_Charges             31  0.058540\n",
       "Coupon_Status                31  0.058540\n",
       "GST                          31  0.058540\n",
       "Date                         31  0.058540\n",
       "Offline_Spend                31  0.058540\n",
       "Online_Spend                 31  0.058540\n",
       "Coupon_Code                 400  0.755358\n",
       "Discount_pct                400  0.755358"
      ]
     },
     "execution_count": 12,
     "metadata": {},
     "output_type": "execute_result"
    }
   ],
   "source": [
    "#Finding Missing values in all columns\n",
    "miss = pd.DataFrame(df.isnull().sum())\n",
    "miss = miss.rename(columns={0:\"miss_count\"})\n",
    "miss[\"miss_%\"] = (miss.miss_count/len(df.CustomerID))*100\n",
    "miss[ miss['miss_count'] > 0]\n"
   ]
  },
  {
   "cell_type": "code",
   "execution_count": 13,
   "id": "28f071a6-1106-484e-9025-5e06da20daf0",
   "metadata": {},
   "outputs": [
    {
     "data": {
      "text/plain": [
       "0"
      ]
     },
     "execution_count": 13,
     "metadata": {},
     "output_type": "execute_result"
    }
   ],
   "source": [
    "df.duplicated().sum()"
   ]
  },
  {
   "cell_type": "code",
   "execution_count": 14,
   "id": "69471464-24db-4ae0-80a1-f7aed2f84ec1",
   "metadata": {},
   "outputs": [
    {
     "data": {
      "text/plain": [
       "(52524, 20)"
      ]
     },
     "execution_count": 14,
     "metadata": {},
     "output_type": "execute_result"
    }
   ],
   "source": [
    "df = df.dropna(subset = [\"CustomerID\", \"Coupon_Code\"])\n",
    "df.shape"
   ]
  },
  {
   "cell_type": "code",
   "execution_count": 15,
   "id": "71835b4a-254f-4b71-89fc-c496cc25824e",
   "metadata": {},
   "outputs": [
    {
     "data": {
      "text/html": [
       "<div>\n",
       "<style scoped>\n",
       "    .dataframe tbody tr th:only-of-type {\n",
       "        vertical-align: middle;\n",
       "    }\n",
       "\n",
       "    .dataframe tbody tr th {\n",
       "        vertical-align: top;\n",
       "    }\n",
       "\n",
       "    .dataframe thead th {\n",
       "        text-align: right;\n",
       "    }\n",
       "</style>\n",
       "<table border=\"1\" class=\"dataframe\">\n",
       "  <thead>\n",
       "    <tr style=\"text-align: right;\">\n",
       "      <th></th>\n",
       "      <th>miss_count</th>\n",
       "      <th>miss_%</th>\n",
       "    </tr>\n",
       "  </thead>\n",
       "  <tbody>\n",
       "  </tbody>\n",
       "</table>\n",
       "</div>"
      ],
      "text/plain": [
       "Empty DataFrame\n",
       "Columns: [miss_count, miss_%]\n",
       "Index: []"
      ]
     },
     "execution_count": 15,
     "metadata": {},
     "output_type": "execute_result"
    }
   ],
   "source": [
    "miss = pd.DataFrame(df.isnull().sum())\n",
    "miss = miss.rename(columns={0:\"miss_count\"})\n",
    "miss[\"miss_%\"] = (miss.miss_count/len(df.CustomerID))*100\n",
    "miss[ miss['miss_count'] > 0]"
   ]
  },
  {
   "cell_type": "code",
   "execution_count": 16,
   "id": "9b1c89d2-7be2-4599-9ff3-ce9e40d9b759",
   "metadata": {},
   "outputs": [
    {
     "data": {
      "text/plain": [
       "array(['Accessories', 'Android', 'Apparel', 'Bags', 'Bottles',\n",
       "       'Drinkware', 'Gift Cards', 'Headgear', 'Housewares', 'Lifestyle',\n",
       "       'Nest-Canada', 'Nest-USA', 'Notebooks & Journals', 'Office',\n",
       "       'Waze', 'Nest'], dtype=object)"
      ]
     },
     "execution_count": 16,
     "metadata": {},
     "output_type": "execute_result"
    }
   ],
   "source": [
    "df.Product_Category.unique()"
   ]
  },
  {
   "cell_type": "markdown",
   "id": "a2be613e-aa24-4efd-9324-41908729ff11",
   "metadata": {},
   "source": [
    "# Add Synthetic Columns\n",
    "\n",
    "I am gonna generate user Behavior Data (at individual or aggregate level)\n",
    "- impressions_online: number of times users were shown online ads (based on online marketing spend)\n",
    "- clicks_online: derived from impressions × synthetic click-through rate (CTR)\n",
    "  \n",
    "I will use Google Ads, Meta Ads average CTR/CVR) for reference\n",
    "\n",
    "**My Benchmarks based on research**:\n",
    "\n",
    "- CTR (Click-through Rate): 6.42%\n",
    "- CVR (Conversion Rate):\n",
    "  - - 2.02% for e-commerce\n",
    "  - - 6.96% for general conversions\n",
    "- CPC (Cost per Click): $4.66\n",
    "\n",
    "- CPL (Cost per Lead): $66.69\n",
    "\n",
    "I will use the 2.02% CVR since i am working with e-commerce data."
   ]
  },
  {
   "cell_type": "code",
   "execution_count": 17,
   "id": "2d874e47-9501-42b9-8403-0cd2bc98905e",
   "metadata": {},
   "outputs": [],
   "source": [
    "# Calculate number of purchases or number of transactions per day\n",
    "actual_purchases = df4.groupby('Transaction_Date').size().reset_index(name='purchases')\n",
    "\n",
    "# Ensure 'Transaction_Date' is datetime in both DataFrames\n",
    "df['Date'] = pd.to_datetime(df['Date'])  \n",
    "actual_purchases['Transaction_Date'] = pd.to_datetime(actual_purchases['Transaction_Date'])\n",
    "\n",
    "# Merge purchases into main DataFrame on matching date\n",
    "df = df.merge(actual_purchases, left_on = 'Date', right_on = 'Transaction_Date', how = 'left')\n",
    "df['purchases'] = df['purchases'].fillna(0)\n",
    "\n",
    "# Compute synthetic clicks (using CVR = 2.02%)\n",
    "df['clicks_online'] = (df['purchases'] / 0.0202).replace([np.inf, -np.inf], np.nan).fillna(0).astype(int)\n",
    "\n",
    "#Compute synthetic impressions (using CTR = 6.42%)\n",
    "df['impressions_online'] = (df['clicks_online'] / 0.0642).replace([np.inf, -np.inf], np.nan).fillna(0).astype(int)\n"
   ]
  },
  {
   "cell_type": "code",
   "execution_count": 18,
   "id": "a0c708ea-2fcc-4ec2-9b3d-63f9c3340b9b",
   "metadata": {},
   "outputs": [
    {
     "name": "stdout",
     "output_type": "stream",
     "text": [
      "<class 'pandas.core.frame.DataFrame'>\n",
      "RangeIndex: 52524 entries, 0 to 52523\n",
      "Data columns (total 24 columns):\n",
      " #   Column               Non-Null Count  Dtype         \n",
      "---  ------               --------------  -----         \n",
      " 0   CustomerID           52524 non-null  float64       \n",
      " 1   Gender               52524 non-null  object        \n",
      " 2   Location             52524 non-null  object        \n",
      " 3   Tenure_Months        52524 non-null  float64       \n",
      " 4   Transaction_ID       52524 non-null  float64       \n",
      " 5   Transaction_Date_x   52524 non-null  datetime64[ns]\n",
      " 6   Product_SKU          52524 non-null  object        \n",
      " 7   Product_Description  52524 non-null  object        \n",
      " 8   Product_Category     52524 non-null  object        \n",
      " 9   Quantity             52524 non-null  float64       \n",
      " 10  Avg_Price            52524 non-null  float64       \n",
      " 11  Delivery_Charges     52524 non-null  float64       \n",
      " 12  Coupon_Status        52524 non-null  object        \n",
      " 13  GST                  52524 non-null  float64       \n",
      " 14  Date                 52524 non-null  datetime64[ns]\n",
      " 15  Offline_Spend        52524 non-null  float64       \n",
      " 16  Online_Spend         52524 non-null  float64       \n",
      " 17  Month                52524 non-null  int64         \n",
      " 18  Coupon_Code          52524 non-null  object        \n",
      " 19  Discount_pct         52524 non-null  float64       \n",
      " 20  Transaction_Date_y   52524 non-null  datetime64[ns]\n",
      " 21  purchases            52524 non-null  int64         \n",
      " 22  clicks_online        52524 non-null  int32         \n",
      " 23  impressions_online   52524 non-null  int32         \n",
      "dtypes: datetime64[ns](3), float64(10), int32(2), int64(2), object(7)\n",
      "memory usage: 9.2+ MB\n"
     ]
    }
   ],
   "source": [
    "df.info()"
   ]
  },
  {
   "cell_type": "code",
   "execution_count": 19,
   "id": "fe612e07-84c2-424e-82ec-af00798aee24",
   "metadata": {},
   "outputs": [],
   "source": [
    "#save to csv\n",
    "df.to_csv(\"marketing_extended.csv\", index = False)"
   ]
  },
  {
   "cell_type": "code",
   "execution_count": null,
   "id": "948538bd-ed76-4f6e-bb81-b5d3259e2da4",
   "metadata": {},
   "outputs": [],
   "source": []
  }
 ],
 "metadata": {
  "kernelspec": {
   "display_name": "Python 3 (ipykernel)",
   "language": "python",
   "name": "python3"
  },
  "language_info": {
   "codemirror_mode": {
    "name": "ipython",
    "version": 3
   },
   "file_extension": ".py",
   "mimetype": "text/x-python",
   "name": "python",
   "nbconvert_exporter": "python",
   "pygments_lexer": "ipython3",
   "version": "3.12.7"
  }
 },
 "nbformat": 4,
 "nbformat_minor": 5
}
