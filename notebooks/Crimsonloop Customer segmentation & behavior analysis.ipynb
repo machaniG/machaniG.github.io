{
 "cells": [
  {
   "cell_type": "code",
   "execution_count": 1,
   "id": "7a5aaf9f-e4a8-415b-8257-aff77396fd28",
   "metadata": {},
   "outputs": [],
   "source": [
    "# load libraries\n",
    "import pandas as pd\n",
    "import numpy as np\n",
    "import datetime\n",
    "import matplotlib.pyplot as plt\n",
    "import seaborn as sns\n",
    "import plotly.express as px\n",
    "import kaleido\n",
    "from IPython.display import Image"
   ]
  },
  {
   "cell_type": "code",
   "execution_count": 2,
   "id": "f36bb99b-44c6-4574-a9cd-7b8234acbdd3",
   "metadata": {},
   "outputs": [],
   "source": [
    "import warnings\n",
    "warnings.filterwarnings(\"ignore\")"
   ]
  },
  {
   "cell_type": "markdown",
   "id": "2acbf1c7-90a8-41f1-bc8d-726c2318b06b",
   "metadata": {},
   "source": [
    "For data integration, cleaning, and augmentation please check this notebook: **Augmenting Crimsonloop data** here [https://github.com/machaniG/machaniG.github.io/blob/master/notebooks/Augmenting%20Crimsonloop%20data.ipynb]"
   ]
  },
  {
   "cell_type": "code",
   "execution_count": 3,
   "id": "f38c12f1-be90-4504-af37-8d030d10f53a",
   "metadata": {},
   "outputs": [
    {
     "data": {
      "text/html": [
       "<div>\n",
       "<style scoped>\n",
       "    .dataframe tbody tr th:only-of-type {\n",
       "        vertical-align: middle;\n",
       "    }\n",
       "\n",
       "    .dataframe tbody tr th {\n",
       "        vertical-align: top;\n",
       "    }\n",
       "\n",
       "    .dataframe thead th {\n",
       "        text-align: right;\n",
       "    }\n",
       "</style>\n",
       "<table border=\"1\" class=\"dataframe\">\n",
       "  <thead>\n",
       "    <tr style=\"text-align: right;\">\n",
       "      <th></th>\n",
       "      <th>CustomerID</th>\n",
       "      <th>Gender</th>\n",
       "      <th>Location</th>\n",
       "      <th>Tenure_Months</th>\n",
       "      <th>Transaction_ID</th>\n",
       "      <th>Transaction_Date_x</th>\n",
       "      <th>Product_SKU</th>\n",
       "      <th>Product_Description</th>\n",
       "      <th>Product_Category</th>\n",
       "      <th>Quantity</th>\n",
       "      <th>...</th>\n",
       "      <th>Date</th>\n",
       "      <th>Offline_Spend</th>\n",
       "      <th>Online_Spend</th>\n",
       "      <th>Month</th>\n",
       "      <th>Coupon_Code</th>\n",
       "      <th>Discount_pct</th>\n",
       "      <th>Transaction_Date_y</th>\n",
       "      <th>purchases</th>\n",
       "      <th>clicks_online</th>\n",
       "      <th>impressions_online</th>\n",
       "    </tr>\n",
       "  </thead>\n",
       "  <tbody>\n",
       "    <tr>\n",
       "      <th>0</th>\n",
       "      <td>14031</td>\n",
       "      <td>F</td>\n",
       "      <td>Chicago</td>\n",
       "      <td>17</td>\n",
       "      <td>19075</td>\n",
       "      <td>1/29/2019</td>\n",
       "      <td>GGOEGBPB081999</td>\n",
       "      <td>UpCycled Bike Saddle Bag</td>\n",
       "      <td>Accessories</td>\n",
       "      <td>1</td>\n",
       "      <td>...</td>\n",
       "      <td>1/29/2019</td>\n",
       "      <td>700</td>\n",
       "      <td>836.13</td>\n",
       "      <td>1</td>\n",
       "      <td>ACC10</td>\n",
       "      <td>10</td>\n",
       "      <td>1/29/2019</td>\n",
       "      <td>99</td>\n",
       "      <td>4900</td>\n",
       "      <td>76323</td>\n",
       "    </tr>\n",
       "    <tr>\n",
       "      <th>1</th>\n",
       "      <td>15525</td>\n",
       "      <td>M</td>\n",
       "      <td>New York</td>\n",
       "      <td>48</td>\n",
       "      <td>17456</td>\n",
       "      <td>1/9/2019</td>\n",
       "      <td>GGOEAAAH083314</td>\n",
       "      <td>Android Men's Paradise Short Sleeve Tee Olive</td>\n",
       "      <td>Android</td>\n",
       "      <td>1</td>\n",
       "      <td>...</td>\n",
       "      <td>1/9/2019</td>\n",
       "      <td>5000</td>\n",
       "      <td>3287.83</td>\n",
       "      <td>1</td>\n",
       "      <td>AND10</td>\n",
       "      <td>10</td>\n",
       "      <td>1/9/2019</td>\n",
       "      <td>188</td>\n",
       "      <td>9306</td>\n",
       "      <td>144953</td>\n",
       "    </tr>\n",
       "    <tr>\n",
       "      <th>2</th>\n",
       "      <td>12947</td>\n",
       "      <td>M</td>\n",
       "      <td>California</td>\n",
       "      <td>48</td>\n",
       "      <td>17891</td>\n",
       "      <td>1/14/2019</td>\n",
       "      <td>GGOEAAAH083315</td>\n",
       "      <td>Android Men's Paradise Short Sleeve Tee Olive</td>\n",
       "      <td>Android</td>\n",
       "      <td>1</td>\n",
       "      <td>...</td>\n",
       "      <td>1/14/2019</td>\n",
       "      <td>5000</td>\n",
       "      <td>1920.57</td>\n",
       "      <td>1</td>\n",
       "      <td>AND10</td>\n",
       "      <td>10</td>\n",
       "      <td>1/14/2019</td>\n",
       "      <td>57</td>\n",
       "      <td>2821</td>\n",
       "      <td>43940</td>\n",
       "    </tr>\n",
       "    <tr>\n",
       "      <th>3</th>\n",
       "      <td>15923</td>\n",
       "      <td>F</td>\n",
       "      <td>Chicago</td>\n",
       "      <td>34</td>\n",
       "      <td>18470</td>\n",
       "      <td>1/21/2019</td>\n",
       "      <td>GGOEAAAH083315</td>\n",
       "      <td>Android Men's Paradise Short Sleeve Tee Olive</td>\n",
       "      <td>Android</td>\n",
       "      <td>1</td>\n",
       "      <td>...</td>\n",
       "      <td>1/21/2019</td>\n",
       "      <td>3000</td>\n",
       "      <td>640.93</td>\n",
       "      <td>1</td>\n",
       "      <td>AND10</td>\n",
       "      <td>10</td>\n",
       "      <td>1/21/2019</td>\n",
       "      <td>56</td>\n",
       "      <td>2772</td>\n",
       "      <td>43177</td>\n",
       "    </tr>\n",
       "    <tr>\n",
       "      <th>4</th>\n",
       "      <td>17581</td>\n",
       "      <td>M</td>\n",
       "      <td>California</td>\n",
       "      <td>25</td>\n",
       "      <td>18852</td>\n",
       "      <td>1/25/2019</td>\n",
       "      <td>GGOEAAAH083314</td>\n",
       "      <td>Android Men's Paradise Short Sleeve Tee Olive</td>\n",
       "      <td>Android</td>\n",
       "      <td>1</td>\n",
       "      <td>...</td>\n",
       "      <td>1/25/2019</td>\n",
       "      <td>1000</td>\n",
       "      <td>1124.95</td>\n",
       "      <td>1</td>\n",
       "      <td>AND10</td>\n",
       "      <td>10</td>\n",
       "      <td>1/25/2019</td>\n",
       "      <td>157</td>\n",
       "      <td>7772</td>\n",
       "      <td>121059</td>\n",
       "    </tr>\n",
       "  </tbody>\n",
       "</table>\n",
       "<p>5 rows × 24 columns</p>\n",
       "</div>"
      ],
      "text/plain": [
       "   CustomerID Gender    Location  Tenure_Months  Transaction_ID  \\\n",
       "0       14031      F     Chicago             17           19075   \n",
       "1       15525      M    New York             48           17456   \n",
       "2       12947      M  California             48           17891   \n",
       "3       15923      F     Chicago             34           18470   \n",
       "4       17581      M  California             25           18852   \n",
       "\n",
       "  Transaction_Date_x     Product_SKU  \\\n",
       "0          1/29/2019  GGOEGBPB081999   \n",
       "1           1/9/2019  GGOEAAAH083314   \n",
       "2          1/14/2019  GGOEAAAH083315   \n",
       "3          1/21/2019  GGOEAAAH083315   \n",
       "4          1/25/2019  GGOEAAAH083314   \n",
       "\n",
       "                             Product_Description Product_Category  Quantity  \\\n",
       "0                       UpCycled Bike Saddle Bag      Accessories         1   \n",
       "1  Android Men's Paradise Short Sleeve Tee Olive          Android         1   \n",
       "2  Android Men's Paradise Short Sleeve Tee Olive          Android         1   \n",
       "3  Android Men's Paradise Short Sleeve Tee Olive          Android         1   \n",
       "4  Android Men's Paradise Short Sleeve Tee Olive          Android         1   \n",
       "\n",
       "   ...       Date  Offline_Spend Online_Spend  Month Coupon_Code  \\\n",
       "0  ...  1/29/2019            700       836.13      1       ACC10   \n",
       "1  ...   1/9/2019           5000      3287.83      1       AND10   \n",
       "2  ...  1/14/2019           5000      1920.57      1       AND10   \n",
       "3  ...  1/21/2019           3000       640.93      1       AND10   \n",
       "4  ...  1/25/2019           1000      1124.95      1       AND10   \n",
       "\n",
       "   Discount_pct  Transaction_Date_y  purchases clicks_online  \\\n",
       "0            10           1/29/2019         99          4900   \n",
       "1            10            1/9/2019        188          9306   \n",
       "2            10           1/14/2019         57          2821   \n",
       "3            10           1/21/2019         56          2772   \n",
       "4            10           1/25/2019        157          7772   \n",
       "\n",
       "   impressions_online  \n",
       "0               76323  \n",
       "1              144953  \n",
       "2               43940  \n",
       "3               43177  \n",
       "4              121059  \n",
       "\n",
       "[5 rows x 24 columns]"
      ]
     },
     "execution_count": 3,
     "metadata": {},
     "output_type": "execute_result"
    }
   ],
   "source": [
    "df = pd.read_csv(\"marketing_extended.csv\")\n",
    "df.head()"
   ]
  },
  {
   "cell_type": "code",
   "execution_count": 4,
   "id": "0ca5d9e6-ff80-4c1a-8d46-685dc25e5844",
   "metadata": {},
   "outputs": [
    {
     "name": "stdout",
     "output_type": "stream",
     "text": [
      "<class 'pandas.core.frame.DataFrame'>\n",
      "RangeIndex: 52524 entries, 0 to 52523\n",
      "Data columns (total 24 columns):\n",
      " #   Column               Non-Null Count  Dtype  \n",
      "---  ------               --------------  -----  \n",
      " 0   CustomerID           52524 non-null  int64  \n",
      " 1   Gender               52524 non-null  object \n",
      " 2   Location             52524 non-null  object \n",
      " 3   Tenure_Months        52524 non-null  int64  \n",
      " 4   Transaction_ID       52524 non-null  int64  \n",
      " 5   Transaction_Date_x   52524 non-null  object \n",
      " 6   Product_SKU          52524 non-null  object \n",
      " 7   Product_Description  52524 non-null  object \n",
      " 8   Product_Category     52524 non-null  object \n",
      " 9   Quantity             52524 non-null  int64  \n",
      " 10  Avg_UnitPrice        52524 non-null  float64\n",
      " 11  Delivery_Charges     52524 non-null  float64\n",
      " 12  Coupon_Status        52524 non-null  object \n",
      " 13  GST                  52524 non-null  float64\n",
      " 14  Date                 52524 non-null  object \n",
      " 15  Offline_Spend        52524 non-null  int64  \n",
      " 16  Online_Spend         52524 non-null  float64\n",
      " 17  Month                52524 non-null  int64  \n",
      " 18  Coupon_Code          52524 non-null  object \n",
      " 19  Discount_pct         52524 non-null  int64  \n",
      " 20  Transaction_Date_y   52524 non-null  object \n",
      " 21  purchases            52524 non-null  int64  \n",
      " 22  clicks_online        52524 non-null  int64  \n",
      " 23  impressions_online   52524 non-null  int64  \n",
      "dtypes: float64(4), int64(10), object(10)\n",
      "memory usage: 9.6+ MB\n"
     ]
    }
   ],
   "source": [
    "df.info()"
   ]
  },
  {
   "cell_type": "code",
   "execution_count": 5,
   "id": "9b010957-fe7e-463b-96a3-235aa484532a",
   "metadata": {},
   "outputs": [
    {
     "data": {
      "text/html": [
       "<div>\n",
       "<style scoped>\n",
       "    .dataframe tbody tr th:only-of-type {\n",
       "        vertical-align: middle;\n",
       "    }\n",
       "\n",
       "    .dataframe tbody tr th {\n",
       "        vertical-align: top;\n",
       "    }\n",
       "\n",
       "    .dataframe thead th {\n",
       "        text-align: right;\n",
       "    }\n",
       "</style>\n",
       "<table border=\"1\" class=\"dataframe\">\n",
       "  <thead>\n",
       "    <tr style=\"text-align: right;\">\n",
       "      <th></th>\n",
       "      <th>CustomerID</th>\n",
       "      <th>Gender</th>\n",
       "      <th>Location</th>\n",
       "      <th>Tenure_Months</th>\n",
       "      <th>Transaction_ID</th>\n",
       "      <th>Transaction_Date_x</th>\n",
       "      <th>Product_SKU</th>\n",
       "      <th>Product_Description</th>\n",
       "      <th>Product_Category</th>\n",
       "      <th>Quantity</th>\n",
       "      <th>...</th>\n",
       "      <th>Date</th>\n",
       "      <th>Offline_Spend</th>\n",
       "      <th>Online_Spend</th>\n",
       "      <th>Month</th>\n",
       "      <th>Coupon_Code</th>\n",
       "      <th>Discount_pct</th>\n",
       "      <th>Transaction_Date_y</th>\n",
       "      <th>purchases</th>\n",
       "      <th>clicks_online</th>\n",
       "      <th>impressions_online</th>\n",
       "    </tr>\n",
       "  </thead>\n",
       "  <tbody>\n",
       "    <tr>\n",
       "      <th>0</th>\n",
       "      <td>14031</td>\n",
       "      <td>F</td>\n",
       "      <td>Chicago</td>\n",
       "      <td>17</td>\n",
       "      <td>19075</td>\n",
       "      <td>1/29/2019</td>\n",
       "      <td>GGOEGBPB081999</td>\n",
       "      <td>UpCycled Bike Saddle Bag</td>\n",
       "      <td>Accessories</td>\n",
       "      <td>1</td>\n",
       "      <td>...</td>\n",
       "      <td>1/29/2019</td>\n",
       "      <td>700</td>\n",
       "      <td>836.13</td>\n",
       "      <td>1</td>\n",
       "      <td>ACC10</td>\n",
       "      <td>10</td>\n",
       "      <td>1/29/2019</td>\n",
       "      <td>99</td>\n",
       "      <td>4900</td>\n",
       "      <td>76323</td>\n",
       "    </tr>\n",
       "    <tr>\n",
       "      <th>1</th>\n",
       "      <td>15525</td>\n",
       "      <td>M</td>\n",
       "      <td>New York</td>\n",
       "      <td>48</td>\n",
       "      <td>17456</td>\n",
       "      <td>1/9/2019</td>\n",
       "      <td>GGOEAAAH083314</td>\n",
       "      <td>Android Men's Paradise Short Sleeve Tee Olive</td>\n",
       "      <td>Android</td>\n",
       "      <td>1</td>\n",
       "      <td>...</td>\n",
       "      <td>1/9/2019</td>\n",
       "      <td>5000</td>\n",
       "      <td>3287.83</td>\n",
       "      <td>1</td>\n",
       "      <td>AND10</td>\n",
       "      <td>10</td>\n",
       "      <td>1/9/2019</td>\n",
       "      <td>188</td>\n",
       "      <td>9306</td>\n",
       "      <td>144953</td>\n",
       "    </tr>\n",
       "    <tr>\n",
       "      <th>2</th>\n",
       "      <td>12947</td>\n",
       "      <td>M</td>\n",
       "      <td>California</td>\n",
       "      <td>48</td>\n",
       "      <td>17891</td>\n",
       "      <td>1/14/2019</td>\n",
       "      <td>GGOEAAAH083315</td>\n",
       "      <td>Android Men's Paradise Short Sleeve Tee Olive</td>\n",
       "      <td>Android</td>\n",
       "      <td>1</td>\n",
       "      <td>...</td>\n",
       "      <td>1/14/2019</td>\n",
       "      <td>5000</td>\n",
       "      <td>1920.57</td>\n",
       "      <td>1</td>\n",
       "      <td>AND10</td>\n",
       "      <td>10</td>\n",
       "      <td>1/14/2019</td>\n",
       "      <td>57</td>\n",
       "      <td>2821</td>\n",
       "      <td>43940</td>\n",
       "    </tr>\n",
       "    <tr>\n",
       "      <th>3</th>\n",
       "      <td>15923</td>\n",
       "      <td>F</td>\n",
       "      <td>Chicago</td>\n",
       "      <td>34</td>\n",
       "      <td>18470</td>\n",
       "      <td>1/21/2019</td>\n",
       "      <td>GGOEAAAH083315</td>\n",
       "      <td>Android Men's Paradise Short Sleeve Tee Olive</td>\n",
       "      <td>Android</td>\n",
       "      <td>1</td>\n",
       "      <td>...</td>\n",
       "      <td>1/21/2019</td>\n",
       "      <td>3000</td>\n",
       "      <td>640.93</td>\n",
       "      <td>1</td>\n",
       "      <td>AND10</td>\n",
       "      <td>10</td>\n",
       "      <td>1/21/2019</td>\n",
       "      <td>56</td>\n",
       "      <td>2772</td>\n",
       "      <td>43177</td>\n",
       "    </tr>\n",
       "    <tr>\n",
       "      <th>4</th>\n",
       "      <td>17581</td>\n",
       "      <td>M</td>\n",
       "      <td>California</td>\n",
       "      <td>25</td>\n",
       "      <td>18852</td>\n",
       "      <td>1/25/2019</td>\n",
       "      <td>GGOEAAAH083314</td>\n",
       "      <td>Android Men's Paradise Short Sleeve Tee Olive</td>\n",
       "      <td>Android</td>\n",
       "      <td>1</td>\n",
       "      <td>...</td>\n",
       "      <td>1/25/2019</td>\n",
       "      <td>1000</td>\n",
       "      <td>1124.95</td>\n",
       "      <td>1</td>\n",
       "      <td>AND10</td>\n",
       "      <td>10</td>\n",
       "      <td>1/25/2019</td>\n",
       "      <td>157</td>\n",
       "      <td>7772</td>\n",
       "      <td>121059</td>\n",
       "    </tr>\n",
       "  </tbody>\n",
       "</table>\n",
       "<p>5 rows × 24 columns</p>\n",
       "</div>"
      ],
      "text/plain": [
       "   CustomerID Gender    Location  Tenure_Months  Transaction_ID  \\\n",
       "0       14031      F     Chicago             17           19075   \n",
       "1       15525      M    New York             48           17456   \n",
       "2       12947      M  California             48           17891   \n",
       "3       15923      F     Chicago             34           18470   \n",
       "4       17581      M  California             25           18852   \n",
       "\n",
       "  Transaction_Date_x     Product_SKU  \\\n",
       "0          1/29/2019  GGOEGBPB081999   \n",
       "1           1/9/2019  GGOEAAAH083314   \n",
       "2          1/14/2019  GGOEAAAH083315   \n",
       "3          1/21/2019  GGOEAAAH083315   \n",
       "4          1/25/2019  GGOEAAAH083314   \n",
       "\n",
       "                             Product_Description Product_Category  Quantity  \\\n",
       "0                       UpCycled Bike Saddle Bag      Accessories         1   \n",
       "1  Android Men's Paradise Short Sleeve Tee Olive          Android         1   \n",
       "2  Android Men's Paradise Short Sleeve Tee Olive          Android         1   \n",
       "3  Android Men's Paradise Short Sleeve Tee Olive          Android         1   \n",
       "4  Android Men's Paradise Short Sleeve Tee Olive          Android         1   \n",
       "\n",
       "   ...       Date  Offline_Spend Online_Spend  Month Coupon_Code  \\\n",
       "0  ...  1/29/2019            700       836.13      1       ACC10   \n",
       "1  ...   1/9/2019           5000      3287.83      1       AND10   \n",
       "2  ...  1/14/2019           5000      1920.57      1       AND10   \n",
       "3  ...  1/21/2019           3000       640.93      1       AND10   \n",
       "4  ...  1/25/2019           1000      1124.95      1       AND10   \n",
       "\n",
       "   Discount_pct  Transaction_Date_y  purchases clicks_online  \\\n",
       "0            10           1/29/2019         99          4900   \n",
       "1            10            1/9/2019        188          9306   \n",
       "2            10           1/14/2019         57          2821   \n",
       "3            10           1/21/2019         56          2772   \n",
       "4            10           1/25/2019        157          7772   \n",
       "\n",
       "   impressions_online  \n",
       "0               76323  \n",
       "1              144953  \n",
       "2               43940  \n",
       "3               43177  \n",
       "4              121059  \n",
       "\n",
       "[5 rows x 24 columns]"
      ]
     },
     "execution_count": 5,
     "metadata": {},
     "output_type": "execute_result"
    }
   ],
   "source": [
    "df.head()"
   ]
  },
  {
   "cell_type": "code",
   "execution_count": 6,
   "id": "78b55953-7a7e-4837-86ee-185656d3d823",
   "metadata": {},
   "outputs": [
    {
     "name": "stdout",
     "output_type": "stream",
     "text": [
      "<class 'pandas.core.frame.DataFrame'>\n",
      "RangeIndex: 52524 entries, 0 to 52523\n",
      "Data columns (total 24 columns):\n",
      " #   Column               Non-Null Count  Dtype  \n",
      "---  ------               --------------  -----  \n",
      " 0   CustomerID           52524 non-null  int64  \n",
      " 1   Gender               52524 non-null  object \n",
      " 2   Location             52524 non-null  object \n",
      " 3   Tenure_Months        52524 non-null  int64  \n",
      " 4   Transaction_ID       52524 non-null  int64  \n",
      " 5   Transaction_Date_x   52524 non-null  object \n",
      " 6   Product_SKU          52524 non-null  object \n",
      " 7   Product_Description  52524 non-null  object \n",
      " 8   Product_Category     52524 non-null  object \n",
      " 9   Quantity             52524 non-null  int64  \n",
      " 10  Avg_UnitPrice        52524 non-null  float64\n",
      " 11  Delivery_Charges     52524 non-null  float64\n",
      " 12  Coupon_Status        52524 non-null  object \n",
      " 13  GST                  52524 non-null  float64\n",
      " 14  Date                 52524 non-null  object \n",
      " 15  Offline_Spend        52524 non-null  int64  \n",
      " 16  Online_Spend         52524 non-null  float64\n",
      " 17  Month                52524 non-null  int64  \n",
      " 18  Coupon_Code          52524 non-null  object \n",
      " 19  Discount_pct         52524 non-null  int64  \n",
      " 20  Transaction_Date_y   52524 non-null  object \n",
      " 21  purchases            52524 non-null  int64  \n",
      " 22  clicks_online        52524 non-null  int64  \n",
      " 23  impressions_online   52524 non-null  int64  \n",
      "dtypes: float64(4), int64(10), object(10)\n",
      "memory usage: 9.6+ MB\n"
     ]
    }
   ],
   "source": [
    "df.info()"
   ]
  },
  {
   "cell_type": "code",
   "execution_count": 7,
   "id": "2ac0fe91-aa8d-4110-9e6b-c32c8aaa041d",
   "metadata": {},
   "outputs": [],
   "source": [
    "# function for barplots\n",
    "def bar_graphs(df, x, y, hue, palette):\n",
    "    \"\"\"plots without hue\"\"\"\n",
    "    ax = sns.barplot(data = df, x = x, y = y, hue = hue, palette = palette, errorbar=None)\n",
    "    #remove all grids\n",
    "    for location in ['left', 'right', 'top', 'bottom']:\n",
    "        ax.spines[location].set_visible(False)\n",
    "    plt.tight_layout()\n",
    "    return ax\n",
    "\n",
    "def bar_graphs2(df, x, y, hue):\n",
    "    \"\"\"plots with hue\"\"\"\n",
    "    ax = sns.barplot(data = df, x = x, y = y, hue = hue, errorbar=None)\n",
    "    #remove all grids\n",
    "    for location in ['left', 'right', 'top', 'bottom']:\n",
    "        ax.spines[location].set_visible(False)\n",
    "    #remove ticks\n",
    "    ax.tick_params(bottom = False, left = False)\n",
    "    plt.tight_layout()\n",
    "    return ax\n",
    "\n",
    "def horizontal_bars(df, x, y, palette):\n",
    "    ax = sns.barplot(data = df, x = x, y = y, orient = 'h', errorbar = None, palette = palette)\n",
    "    #remove all grids\n",
    "    for location in ['left', 'right', 'top', 'bottom']:\n",
    "        ax.spines[location].set_visible(False)\n",
    "    #move the tick labels to the top of the graph using the Axes.xaxis.tick_top() method \n",
    "    # remove the top ticks instead of the bottom ones\n",
    "    # color the x-tick labels, we use the same Axes.tick_params()\n",
    "    ax.xaxis.tick_top()\n",
    "    ax.xaxis.set_label_position('top')\n",
    "    ax.tick_params(top=False, left=False)\n",
    "    plt.tight_layout()\n",
    "    return ax"
   ]
  },
  {
   "cell_type": "markdown",
   "id": "b7143f0c-365b-4638-a6e3-78eefabf48e7",
   "metadata": {},
   "source": [
    "## Sales Distribution "
   ]
  },
  {
   "cell_type": "code",
   "execution_count": 8,
   "id": "99346ad2-145b-46f7-ac39-d3ee90c3361a",
   "metadata": {
    "scrolled": true
   },
   "outputs": [
    {
     "data": {
      "text/plain": [
       "count    52524.000000\n",
       "mean        70.780353\n",
       "std        136.477625\n",
       "min          0.287000\n",
       "25%          9.513000\n",
       "50%         24.500000\n",
       "75%        104.300000\n",
       "max       8545.500000\n",
       "Name: net_sales, dtype: float64"
      ]
     },
     "execution_count": 8,
     "metadata": {},
     "output_type": "execute_result"
    }
   ],
   "source": [
    "# calculate total net sales excluding tax and delivery charges for each transaction by multiplying unit price by quantity purchased\n",
    "#convert discount to decimal\n",
    "df[\"Discount_pct\"] = df[\"Discount_pct\"] / 100\n",
    "\n",
    "df[\"net_sales\"] = df[\"Avg_UnitPrice\"] * df[\"Quantity\"] * (1 - df['Discount_pct'])\n",
    "df[\"net_sales\"].describe()"
   ]
  },
  {
   "cell_type": "code",
   "execution_count": 9,
   "id": "3d3a18b4-7152-4e4e-b75f-85e734f9fac2",
   "metadata": {},
   "outputs": [
    {
     "data": {
      "image/png": "[encoded data removed]",
      "text/plain": [
       "<Figure size 640x480 with 1 Axes>"
      ]
     },
     "metadata": {},
     "output_type": "display_data"
    }
   ],
   "source": [
    "#sales distribution\n",
    "sns.boxplot(data = df, y = \"net_sales\")\n",
    "plt.ylabel(\"Total Net Sales\")\n",
    "plt.title(\"Sales Distribution\")\n",
    "plt.savefig(\"sales_distribution.png\")\n",
    "plt.show()"
   ]
  },
  {
   "cell_type": "markdown",
   "id": "26312029-baeb-4536-a2a8-3d480f213f6b",
   "metadata": {},
   "source": [
    "The sales data is highly skewed. Half of the transactions are below 24.50 dollars and 75% of them are below 104 dollars."
   ]
  },
  {
   "cell_type": "code",
   "execution_count": 10,
   "id": "de20e096-2afd-4cea-9c25-19a6223e6136",
   "metadata": {},
   "outputs": [
    {
     "data": {
      "image/png": "[encoded data removed]",
      "text/plain": [
       "<Figure size 640x480 with 1 Axes>"
      ]
     },
     "metadata": {},
     "output_type": "display_data"
    }
   ],
   "source": [
    "# Sales Distribution by Location and Gender\n",
    "colors = [\"#e88705\", \"#0a80bf\"]\n",
    "\n",
    "bar_graphs(df, x=\"Location\", y=\"net_sales\", hue=\"Gender\", palette = colors)\n",
    "plt.title(\"Net Sales by Location and Gender\")\n",
    "plt.xlabel(\"\")\n",
    "plt.ylabel(\"Net Sales in Millions\")\n",
    "plt.show()"
   ]
  },
  {
   "cell_type": "markdown",
   "id": "e371f481-7b2c-4ce0-b25f-c0358f3f3340",
   "metadata": {},
   "source": [
    "## Summary Statistics by Category"
   ]
  },
  {
   "cell_type": "code",
   "execution_count": 11,
   "id": "933c7e88-af6d-4b81-8ec6-df7f0d1edfaa",
   "metadata": {},
   "outputs": [
    {
     "data": {
      "text/html": [
       "<div>\n",
       "<style scoped>\n",
       "    .dataframe tbody tr th:only-of-type {\n",
       "        vertical-align: middle;\n",
       "    }\n",
       "\n",
       "    .dataframe tbody tr th {\n",
       "        vertical-align: top;\n",
       "    }\n",
       "\n",
       "    .dataframe thead th {\n",
       "        text-align: right;\n",
       "    }\n",
       "</style>\n",
       "<table border=\"1\" class=\"dataframe\">\n",
       "  <thead>\n",
       "    <tr style=\"text-align: right;\">\n",
       "      <th></th>\n",
       "      <th>Product_Category</th>\n",
       "      <th>Quantity_Sold</th>\n",
       "      <th>Total_Net_Sales</th>\n",
       "      <th>Average_Net_Sales</th>\n",
       "      <th>Customer_Count</th>\n",
       "      <th>Number_of_Transactions</th>\n",
       "    </tr>\n",
       "  </thead>\n",
       "  <tbody>\n",
       "    <tr>\n",
       "      <th>0</th>\n",
       "      <td>Office</td>\n",
       "      <td>88383</td>\n",
       "      <td>223229.256</td>\n",
       "      <td>34.274414</td>\n",
       "      <td>6513</td>\n",
       "      <td>6513</td>\n",
       "    </tr>\n",
       "    <tr>\n",
       "      <th>1</th>\n",
       "      <td>Apparel</td>\n",
       "      <td>32438</td>\n",
       "      <td>473377.963</td>\n",
       "      <td>26.115964</td>\n",
       "      <td>18126</td>\n",
       "      <td>18126</td>\n",
       "    </tr>\n",
       "    <tr>\n",
       "      <th>2</th>\n",
       "      <td>Drinkware</td>\n",
       "      <td>30501</td>\n",
       "      <td>161135.231</td>\n",
       "      <td>46.263345</td>\n",
       "      <td>3483</td>\n",
       "      <td>3483</td>\n",
       "    </tr>\n",
       "    <tr>\n",
       "      <th>3</th>\n",
       "      <td>Lifestyle</td>\n",
       "      <td>24881</td>\n",
       "      <td>60443.052</td>\n",
       "      <td>19.548206</td>\n",
       "      <td>3092</td>\n",
       "      <td>3092</td>\n",
       "    </tr>\n",
       "    <tr>\n",
       "      <th>4</th>\n",
       "      <td>Nest-USA</td>\n",
       "      <td>21430</td>\n",
       "      <td>2046977.708</td>\n",
       "      <td>146.077050</td>\n",
       "      <td>14013</td>\n",
       "      <td>14013</td>\n",
       "    </tr>\n",
       "    <tr>\n",
       "      <th>5</th>\n",
       "      <td>Bags</td>\n",
       "      <td>15273</td>\n",
       "      <td>121362.723</td>\n",
       "      <td>64.486038</td>\n",
       "      <td>1882</td>\n",
       "      <td>1882</td>\n",
       "    </tr>\n",
       "    <tr>\n",
       "      <th>6</th>\n",
       "      <td>Notebooks &amp; Journals</td>\n",
       "      <td>9556</td>\n",
       "      <td>89103.790</td>\n",
       "      <td>118.963672</td>\n",
       "      <td>749</td>\n",
       "      <td>749</td>\n",
       "    </tr>\n",
       "    <tr>\n",
       "      <th>7</th>\n",
       "      <td>Headgear</td>\n",
       "      <td>3533</td>\n",
       "      <td>43800.622</td>\n",
       "      <td>56.810145</td>\n",
       "      <td>771</td>\n",
       "      <td>771</td>\n",
       "    </tr>\n",
       "    <tr>\n",
       "      <th>8</th>\n",
       "      <td>Nest</td>\n",
       "      <td>2837</td>\n",
       "      <td>403708.746</td>\n",
       "      <td>183.670949</td>\n",
       "      <td>2198</td>\n",
       "      <td>2198</td>\n",
       "    </tr>\n",
       "    <tr>\n",
       "      <th>9</th>\n",
       "      <td>Housewares</td>\n",
       "      <td>2484</td>\n",
       "      <td>3853.414</td>\n",
       "      <td>31.585361</td>\n",
       "      <td>122</td>\n",
       "      <td>122</td>\n",
       "    </tr>\n",
       "    <tr>\n",
       "      <th>10</th>\n",
       "      <td>Bottles</td>\n",
       "      <td>2090</td>\n",
       "      <td>5528.521</td>\n",
       "      <td>20.628810</td>\n",
       "      <td>268</td>\n",
       "      <td>268</td>\n",
       "    </tr>\n",
       "    <tr>\n",
       "      <th>11</th>\n",
       "      <td>Waze</td>\n",
       "      <td>1144</td>\n",
       "      <td>4997.384</td>\n",
       "      <td>9.020549</td>\n",
       "      <td>554</td>\n",
       "      <td>554</td>\n",
       "    </tr>\n",
       "    <tr>\n",
       "      <th>12</th>\n",
       "      <td>Accessories</td>\n",
       "      <td>1097</td>\n",
       "      <td>5899.869</td>\n",
       "      <td>25.213115</td>\n",
       "      <td>234</td>\n",
       "      <td>234</td>\n",
       "    </tr>\n",
       "    <tr>\n",
       "      <th>13</th>\n",
       "      <td>Nest-Canada</td>\n",
       "      <td>469</td>\n",
       "      <td>56948.002</td>\n",
       "      <td>179.646694</td>\n",
       "      <td>317</td>\n",
       "      <td>317</td>\n",
       "    </tr>\n",
       "    <tr>\n",
       "      <th>14</th>\n",
       "      <td>Gift Cards</td>\n",
       "      <td>206</td>\n",
       "      <td>16737.912</td>\n",
       "      <td>105.269887</td>\n",
       "      <td>159</td>\n",
       "      <td>159</td>\n",
       "    </tr>\n",
       "    <tr>\n",
       "      <th>15</th>\n",
       "      <td>Android</td>\n",
       "      <td>45</td>\n",
       "      <td>563.054</td>\n",
       "      <td>13.094279</td>\n",
       "      <td>43</td>\n",
       "      <td>43</td>\n",
       "    </tr>\n",
       "  </tbody>\n",
       "</table>\n",
       "</div>"
      ],
      "text/plain": [
       "        Product_Category  Quantity_Sold  Total_Net_Sales  Average_Net_Sales  \\\n",
       "0                 Office          88383       223229.256          34.274414   \n",
       "1                Apparel          32438       473377.963          26.115964   \n",
       "2              Drinkware          30501       161135.231          46.263345   \n",
       "3              Lifestyle          24881        60443.052          19.548206   \n",
       "4               Nest-USA          21430      2046977.708         146.077050   \n",
       "5                   Bags          15273       121362.723          64.486038   \n",
       "6   Notebooks & Journals           9556        89103.790         118.963672   \n",
       "7               Headgear           3533        43800.622          56.810145   \n",
       "8                   Nest           2837       403708.746         183.670949   \n",
       "9             Housewares           2484         3853.414          31.585361   \n",
       "10               Bottles           2090         5528.521          20.628810   \n",
       "11                  Waze           1144         4997.384           9.020549   \n",
       "12           Accessories           1097         5899.869          25.213115   \n",
       "13           Nest-Canada            469        56948.002         179.646694   \n",
       "14            Gift Cards            206        16737.912         105.269887   \n",
       "15               Android             45          563.054          13.094279   \n",
       "\n",
       "    Customer_Count  Number_of_Transactions  \n",
       "0             6513                    6513  \n",
       "1            18126                   18126  \n",
       "2             3483                    3483  \n",
       "3             3092                    3092  \n",
       "4            14013                   14013  \n",
       "5             1882                    1882  \n",
       "6              749                     749  \n",
       "7              771                     771  \n",
       "8             2198                    2198  \n",
       "9              122                     122  \n",
       "10             268                     268  \n",
       "11             554                     554  \n",
       "12             234                     234  \n",
       "13             317                     317  \n",
       "14             159                     159  \n",
       "15              43                      43  "
      ]
     },
     "execution_count": 11,
     "metadata": {},
     "output_type": "execute_result"
    }
   ],
   "source": [
    "q_bycategory = df.groupby(\"Product_Category\").agg(\n",
    "    Quantity_Sold = (\"Quantity\", \"sum\"),\n",
    "    Total_Net_Sales = (\"net_sales\", \"sum\"),\n",
    "    Average_Net_Sales = (\"net_sales\", \"mean\"),\n",
    "    Customer_Count = (\"CustomerID\", \"count\"),\n",
    "    Number_of_Transactions = (\"Transaction_ID\", \"count\")\n",
    ").sort_values(\"Quantity_Sold\", ascending=False).reset_index()\n",
    "\n",
    "q_bycategory"
   ]
  },
  {
   "cell_type": "code",
   "execution_count": 12,
   "id": "f3b6c9ee-1981-4b10-b631-39e33bb70124",
   "metadata": {},
   "outputs": [
    {
     "data": {
      "image/png": "[encoded data removed]",
      "text/plain": [
       "<Figure size 800x500 with 1 Axes>"
      ]
     },
     "metadata": {},
     "output_type": "display_data"
    }
   ],
   "source": [
    "#visualize the top selling products in terms of quantities\n",
    "palette = [\"#ad372c\" if (x > 40000)  else \"#b6b6b6\" for x in q_bycategory[\"Quantity_Sold\"]] \n",
    "plt.figure(figsize = (8, 5))\n",
    "ax = horizontal_bars(q_bycategory, x = \"Quantity_Sold\", y = \"Product_Category\", palette = palette)\n",
    " \n",
    "ax.text(x=-0.1, y=-2.5, s=\"Total Quantity Sold by Product Category\", fontsize = 12, weight = \"bold\")\n",
    "plt.xlabel(\"\")\n",
    "plt.ylabel(\"\")\n",
    "plt.show()"
   ]
  },
  {
   "cell_type": "markdown",
   "id": "7eb6a7f7-7d4b-4a76-9494-a5c956df3e0c",
   "metadata": {},
   "source": [
    "## Which Customers are High-value?"
   ]
  },
  {
   "cell_type": "code",
   "execution_count": 13,
   "id": "86738de8-6725-42a1-a294-1eb4e787ad21",
   "metadata": {},
   "outputs": [
    {
     "data": {
      "text/plain": [
       "0.50     24.5\n",
       "0.75    104.3\n",
       "0.95    249.9\n",
       "0.99    428.4\n",
       "Name: net_sales, dtype: float64"
      ]
     },
     "execution_count": 13,
     "metadata": {},
     "output_type": "execute_result"
    }
   ],
   "source": [
    "#get the sales Percentiles\n",
    "df[\"net_sales\"].quantile([0.5, 0.75, 0.95, 0.99])"
   ]
  },
  {
   "cell_type": "markdown",
   "id": "576bdee0-1828-4cc3-bc55-0d3399df4143",
   "metadata": {},
   "source": [
    "### Business Insights\n",
    "\n",
    "Most transactions are relatively small: The median is just 24.5.\n",
    "\n",
    "There is a long tail: The gap between the median (24.5) and the 99th percentile (428.4) shows that while most transactions are modest, a small number are much larger."
   ]
  },
  {
   "cell_type": "markdown",
   "id": "ce0ecd36-5e20-4605-8208-289dc6cc8e6a",
   "metadata": {},
   "source": [
    "### Top 5% Customers by Spend"
   ]
  },
  {
   "cell_type": "code",
   "execution_count": 14,
   "id": "54b1c54c-6520-4675-b372-a5d7974f4bca",
   "metadata": {},
   "outputs": [
    {
     "data": {
      "text/plain": [
       "1468"
      ]
     },
     "execution_count": 14,
     "metadata": {},
     "output_type": "execute_result"
    }
   ],
   "source": [
    "#total customers\n",
    "df[\"CustomerID\"].nunique()"
   ]
  },
  {
   "cell_type": "code",
   "execution_count": 15,
   "id": "f17ec819-24f2-4123-8f6b-49b0931159a4",
   "metadata": {},
   "outputs": [
    {
     "data": {
      "text/plain": [
       "807"
      ]
     },
     "execution_count": 15,
     "metadata": {},
     "output_type": "execute_result"
    }
   ],
   "source": [
    "# top 5 percent transactions\n",
    "cutoff = df[\"net_sales\"].quantile(0.95)\n",
    "\n",
    "high_value = df[df[\"net_sales\"] > cutoff]\n",
    "\n",
    "high_value[\"CustomerID\"].nunique()"
   ]
  },
  {
   "cell_type": "code",
   "execution_count": 16,
   "id": "a878d0b4-33f2-4501-ab14-089f57616fd4",
   "metadata": {},
   "outputs": [
    {
     "data": {
      "text/plain": [
       "count    2585.000000\n",
       "mean      411.631503\n",
       "std       431.610788\n",
       "min       250.560000\n",
       "25%       279.200000\n",
       "50%       316.000000\n",
       "75%       402.300000\n",
       "max      8545.500000\n",
       "Name: net_sales, dtype: float64"
      ]
     },
     "execution_count": 16,
     "metadata": {},
     "output_type": "execute_result"
    }
   ],
   "source": [
    "high_value[\"net_sales\"].describe()"
   ]
  },
  {
   "cell_type": "markdown",
   "id": "6fd2afe4-524b-40fc-9a7c-49b38d23b9be",
   "metadata": {},
   "source": [
    "### Top 1% spenders "
   ]
  },
  {
   "cell_type": "code",
   "execution_count": 17,
   "id": "a469e1a3-74c7-4f41-86c2-b3a72b12e180",
   "metadata": {},
   "outputs": [
    {
     "data": {
      "text/plain": [
       "299"
      ]
     },
     "execution_count": 17,
     "metadata": {},
     "output_type": "execute_result"
    }
   ],
   "source": [
    "#top 1 percent transactions\n",
    "one_percent = df[\"net_sales\"].quantile([0.99]).iloc[0]\n",
    "top_1_percent = df[df[\"net_sales\"] > one_percent]\n",
    "top_1_percent[\"CustomerID\"].nunique()"
   ]
  },
  {
   "cell_type": "code",
   "execution_count": 18,
   "id": "bf30b976-97a2-498b-bb2f-a3ffe05ecf3e",
   "metadata": {},
   "outputs": [
    {
     "data": {
      "text/html": [
       "<div>\n",
       "<style scoped>\n",
       "    .dataframe tbody tr th:only-of-type {\n",
       "        vertical-align: middle;\n",
       "    }\n",
       "\n",
       "    .dataframe tbody tr th {\n",
       "        vertical-align: top;\n",
       "    }\n",
       "\n",
       "    .dataframe thead th {\n",
       "        text-align: right;\n",
       "    }\n",
       "</style>\n",
       "<table border=\"1\" class=\"dataframe\">\n",
       "  <thead>\n",
       "    <tr style=\"text-align: right;\">\n",
       "      <th></th>\n",
       "      <th>net_sales</th>\n",
       "      <th>Quantity</th>\n",
       "    </tr>\n",
       "  </thead>\n",
       "  <tbody>\n",
       "    <tr>\n",
       "      <th>count</th>\n",
       "      <td>514.000000</td>\n",
       "      <td>514.000000</td>\n",
       "    </tr>\n",
       "    <tr>\n",
       "      <th>mean</th>\n",
       "      <td>825.064451</td>\n",
       "      <td>82.550584</td>\n",
       "    </tr>\n",
       "    <tr>\n",
       "      <th>std</th>\n",
       "      <td>846.382776</td>\n",
       "      <td>142.733378</td>\n",
       "    </tr>\n",
       "    <tr>\n",
       "      <th>min</th>\n",
       "      <td>430.650000</td>\n",
       "      <td>2.000000</td>\n",
       "    </tr>\n",
       "    <tr>\n",
       "      <th>25%</th>\n",
       "      <td>488.775000</td>\n",
       "      <td>5.000000</td>\n",
       "    </tr>\n",
       "    <tr>\n",
       "      <th>50%</th>\n",
       "      <td>558.400000</td>\n",
       "      <td>15.000000</td>\n",
       "    </tr>\n",
       "    <tr>\n",
       "      <th>75%</th>\n",
       "      <td>786.707250</td>\n",
       "      <td>100.000000</td>\n",
       "    </tr>\n",
       "    <tr>\n",
       "      <th>max</th>\n",
       "      <td>8545.500000</td>\n",
       "      <td>900.000000</td>\n",
       "    </tr>\n",
       "  </tbody>\n",
       "</table>\n",
       "</div>"
      ],
      "text/plain": [
       "         net_sales    Quantity\n",
       "count   514.000000  514.000000\n",
       "mean    825.064451   82.550584\n",
       "std     846.382776  142.733378\n",
       "min     430.650000    2.000000\n",
       "25%     488.775000    5.000000\n",
       "50%     558.400000   15.000000\n",
       "75%     786.707250  100.000000\n",
       "max    8545.500000  900.000000"
      ]
     },
     "execution_count": 18,
     "metadata": {},
     "output_type": "execute_result"
    }
   ],
   "source": [
    "# top 1 percent customers\n",
    "top_1_percent[[\"net_sales\", \"Quantity\"]].describe()"
   ]
  },
  {
   "cell_type": "code",
   "execution_count": 19,
   "id": "17415a4c-d547-4493-9510-5a73b9b63ccb",
   "metadata": {},
   "outputs": [
    {
     "data": {
      "image/png": "[encoded data removed]",
      "text/plain": [
       "<Figure size 640x480 with 1 Axes>"
      ]
     },
     "metadata": {},
     "output_type": "display_data"
    }
   ],
   "source": [
    "ax = sns.histplot(data = top_1_percent, x = \"net_sales\", color = \"#0a80bf\")\n",
    "for location in ['right', 'top']:\n",
    "        ax.spines[location].set_visible(False)\n",
    "plt.title(\"Top 1% Spenders\")\n",
    "plt.xlabel(\"Net Sales\")\n",
    "plt.savefig(\"top1_percent.png\")\n",
    "plt.show()"
   ]
  },
  {
   "cell_type": "markdown",
   "id": "d3880ef6-a65a-4078-a020-9a3bf49b6d62",
   "metadata": {},
   "source": [
    "**High-value customers:** \n",
    "- Out of 1,468 customers, 807 are VIP or bulk buyers and 299 customers out of the 807 VIPs are very high-value customers. \n",
    "- The top 5% and especially the top 1% of transactions are significantly higher, which may indicate VIP or bulk buyers.\n",
    "- There is still a huge difference between the 99 percentile and the maximum transaction value. The data shows that 99% of transactions are below $428.4 while the maximum transaction value is $8,545.50. This confirms that we have outliers, and as we saw earlier, the sales are right skewed.\n",
    "- Next I am going to investigate this outliers as these are rare and extremely valuable transactions."
   ]
  },
  {
   "cell_type": "markdown",
   "id": "b8010970-1dfe-4450-bd78-5fa1e4e9f18e",
   "metadata": {},
   "source": [
    "## Ultra high-value customers by spend\n",
    "\n",
    "Because most transations are below $500, I will set the extremenly rare, high-value transactions to be those above $1k"
   ]
  },
  {
   "cell_type": "code",
   "execution_count": 20,
   "id": "aef53029-0b7e-47e4-ba75-f837ed1ac2b7",
   "metadata": {},
   "outputs": [
    {
     "data": {
      "text/html": [
       "<div>\n",
       "<style scoped>\n",
       "    .dataframe tbody tr th:only-of-type {\n",
       "        vertical-align: middle;\n",
       "    }\n",
       "\n",
       "    .dataframe tbody tr th {\n",
       "        vertical-align: top;\n",
       "    }\n",
       "\n",
       "    .dataframe thead th {\n",
       "        text-align: right;\n",
       "    }\n",
       "</style>\n",
       "<table border=\"1\" class=\"dataframe\">\n",
       "  <thead>\n",
       "    <tr style=\"text-align: right;\">\n",
       "      <th></th>\n",
       "      <th>net_sales</th>\n",
       "      <th>Quantity</th>\n",
       "    </tr>\n",
       "  </thead>\n",
       "  <tbody>\n",
       "    <tr>\n",
       "      <th>count</th>\n",
       "      <td>80.000000</td>\n",
       "      <td>80.000000</td>\n",
       "    </tr>\n",
       "    <tr>\n",
       "      <th>mean</th>\n",
       "      <td>2124.159625</td>\n",
       "      <td>221.887500</td>\n",
       "    </tr>\n",
       "    <tr>\n",
       "      <th>std</th>\n",
       "      <td>1588.133016</td>\n",
       "      <td>195.177556</td>\n",
       "    </tr>\n",
       "    <tr>\n",
       "      <th>min</th>\n",
       "      <td>1004.400000</td>\n",
       "      <td>4.000000</td>\n",
       "    </tr>\n",
       "    <tr>\n",
       "      <th>25%</th>\n",
       "      <td>1116.000000</td>\n",
       "      <td>74.250000</td>\n",
       "    </tr>\n",
       "    <tr>\n",
       "      <th>50%</th>\n",
       "      <td>1424.304000</td>\n",
       "      <td>147.000000</td>\n",
       "    </tr>\n",
       "    <tr>\n",
       "      <th>75%</th>\n",
       "      <td>2365.200000</td>\n",
       "      <td>336.250000</td>\n",
       "    </tr>\n",
       "    <tr>\n",
       "      <th>max</th>\n",
       "      <td>8545.500000</td>\n",
       "      <td>791.000000</td>\n",
       "    </tr>\n",
       "  </tbody>\n",
       "</table>\n",
       "</div>"
      ],
      "text/plain": [
       "         net_sales    Quantity\n",
       "count    80.000000   80.000000\n",
       "mean   2124.159625  221.887500\n",
       "std    1588.133016  195.177556\n",
       "min    1004.400000    4.000000\n",
       "25%    1116.000000   74.250000\n",
       "50%    1424.304000  147.000000\n",
       "75%    2365.200000  336.250000\n",
       "max    8545.500000  791.000000"
      ]
     },
     "execution_count": 20,
     "metadata": {},
     "output_type": "execute_result"
    }
   ],
   "source": [
    "# above 1k\n",
    "above_1k = df[df[\"net_sales\"] > 1000]\n",
    "above_1k[[\"net_sales\", \"Quantity\"]].describe()"
   ]
  },
  {
   "cell_type": "code",
   "execution_count": 21,
   "id": "f05ea84a-4162-47e8-a952-8885b988ba75",
   "metadata": {},
   "outputs": [
    {
     "data": {
      "text/plain": [
       "41"
      ]
     },
     "execution_count": 21,
     "metadata": {},
     "output_type": "execute_result"
    }
   ],
   "source": [
    "above_1k[\"CustomerID\"].nunique()"
   ]
  },
  {
   "cell_type": "markdown",
   "id": "0bec5cfc-6e2e-4ef7-b89c-2f21f04a4b30",
   "metadata": {},
   "source": [
    "There are 80 transactions above $1k and these were all bulk purchases, at least 4 units. Although some bought cheap products, some of them bought expensive products. A total of 41 customers account for these transactions."
   ]
  },
  {
   "cell_type": "markdown",
   "id": "0c706b61-645a-4393-94bb-ddcb5de3152e",
   "metadata": {},
   "source": [
    "## Customer Segmentation"
   ]
  },
  {
   "cell_type": "markdown",
   "id": "0c839c65-fc3e-4f6e-a652-1e6c94956344",
   "metadata": {},
   "source": [
    "### Rule-Based Segmentation\n",
    "\n",
    "**Business Impact**\n",
    "\n",
    "- **High-value customer focus:**\n",
    "\n",
    "The 41 customers with transactions above $1,000 represent a small but extremely valuable segment. Targeting them with personalized offers, loyalty programs, or exclusive services can drive significant revenue growth.\n",
    "\n",
    "- **Top percentile leverage:**\n",
    "  \n",
    "The 807 (95th percentile) and 299 (99th percentile) customers are critical for sustaining and growing the business. Understanding their preferences, purchase patterns, and demographics (e.g., location, gender) can help to tailor marketing and retention strategies."
   ]
  },
  {
   "cell_type": "markdown",
   "id": "26c3285d-c9db-4e99-90f8-8adcd0d0c18f",
   "metadata": {},
   "source": [
    "**Customer Segmentation Rules**\n",
    "\n",
    "- VIP/Elite tier: The 41 ultra high-value customers\n",
    "- Premium tier: The 258 in the 99th percentile\n",
    "- Loyalty tier: The 508 in the 95th percentile\n",
    "- Regular: The rest of the customers, 661"
   ]
  },
  {
   "cell_type": "code",
   "execution_count": 22,
   "id": "576218e8-1983-4e15-8e10-e64f5b9f5f17",
   "metadata": {},
   "outputs": [
    {
     "name": "stdout",
     "output_type": "stream",
     "text": [
      "41\n",
      "258\n",
      "508\n",
      "Vip transactions: 80\n",
      "Premium transactions: 370\n",
      "Loyalty transactions: 1083\n"
     ]
    }
   ],
   "source": [
    "#assign variables to the top 3 segments\n",
    "vip = df[df[\"net_sales\"] > 1000]\n",
    "premium =  df[(df[\"net_sales\"] > one_percent) & (~df[\"CustomerID\"].isin(vip[\"CustomerID\"]))]\n",
    "loyalty = df[(df[\"net_sales\"] > cutoff) & (~df[\"CustomerID\"].isin(premium[\"CustomerID\"])) & (~df[\"CustomerID\"].isin(vip[\"CustomerID\"]))]\n",
    "\n",
    "print(vip[\"CustomerID\"].nunique())\n",
    "print(premium[\"CustomerID\"].nunique())\n",
    "print(loyalty[\"CustomerID\"].nunique())\n",
    "\n",
    "print(\"Vip transactions:\", vip[\"CustomerID\"].count())\n",
    "print(\"Premium transactions:\", premium[\"CustomerID\"].count())\n",
    "print(\"Loyalty transactions:\", loyalty[\"CustomerID\"].count())"
   ]
  },
  {
   "cell_type": "code",
   "execution_count": 23,
   "id": "c8e7f4a1-07ac-4581-8c48-eb8ef3e620b6",
   "metadata": {},
   "outputs": [
    {
     "name": "stdout",
     "output_type": "stream",
     "text": [
      "Regular transactions: 9993\n",
      "Regular customers: 661\n",
      "Total customers: 1468\n"
     ]
    }
   ],
   "source": [
    "#Regular: The rest of the customers\n",
    "regular = df[(df[\"net_sales\"] <= cutoff) & (~df[\"CustomerID\"].isin(premium[\"CustomerID\"])) \\\n",
    "& (~df[\"CustomerID\"].isin(vip[\"CustomerID\"])) & (~df[\"CustomerID\"].isin(loyalty[\"CustomerID\"]))]\n",
    "\n",
    "\n",
    "print(\"Regular transactions:\", regular[\"CustomerID\"].count())\n",
    "print(\"Regular customers:\", regular[\"CustomerID\"].nunique())\n",
    "print(\"Total customers:\", df[\"CustomerID\"].nunique())"
   ]
  },
  {
   "cell_type": "markdown",
   "id": "dd905b36-b356-4964-8199-5323b523585c",
   "metadata": {},
   "source": [
    "**Assign Segments in the Dataframe**"
   ]
  },
  {
   "cell_type": "code",
   "execution_count": 24,
   "id": "2a35a5fa-c1a0-4ef3-b02b-53ceb0db8ca3",
   "metadata": {},
   "outputs": [],
   "source": [
    "# Initialize segment column with NaNs\n",
    "df[\"segment\"] = np.nan\n",
    "df[\"segment\"] = pd.Series(dtype=\"object\")\n",
    "\n",
    "# Assign segments in order of exclusivity\n",
    "df.loc[df[\"CustomerID\"].isin(vip[\"CustomerID\"]), \"segment\"] = \"Elite Tier\"\n",
    "\n",
    "df.loc[\n",
    "    (df[\"CustomerID\"].isin(premium[\"CustomerID\"])) & (df[\"segment\"].isna()),\n",
    "    \"segment\"] = \"Premium Tier\"\n",
    "\n",
    "df.loc[\n",
    "    (df[\"CustomerID\"].isin(loyalty[\"CustomerID\"])) & (df[\"segment\"].isna()),\n",
    "    \"segment\"] = \"Loyalty Tier\"\n",
    "\n",
    "df.loc[\n",
    "    (df[\"CustomerID\"].isin(regular[\"CustomerID\"])) & (df[\"segment\"].isna()),\n",
    "    \"segment\"] = \"Regular Tier\"\n"
   ]
  },
  {
   "cell_type": "markdown",
   "id": "73f7d1d9-e1dc-4e9e-94c4-85d87c5807da",
   "metadata": {},
   "source": [
    "### Machine Learning-Driven Segmentation (K-Means Clustering)\n",
    "\n",
    "To validate and potentially discover deeper, data-driven segments, I also applied K-means clustering using key RFM (Recency, Frequency, Monetary) features. This unsupervised learning approach provided an alternative perspective on natural customer groupings."
   ]
  },
  {
   "cell_type": "code",
   "execution_count": 25,
   "id": "bc763003-0c6b-42ef-bf4b-b9de2c217134",
   "metadata": {},
   "outputs": [],
   "source": [
    "from sklearn.cluster import KMeans\n",
    "from sklearn.preprocessing import StandardScaler\n",
    "import numpy as np\n",
    "import datetime"
   ]
  },
  {
   "cell_type": "markdown",
   "id": "c6fdc3f8-1d2d-4df9-ac79-ca7bcf876904",
   "metadata": {},
   "source": [
    "#### Calculate RFM features from the transaction data"
   ]
  },
  {
   "cell_type": "code",
   "execution_count": 26,
   "id": "f3c2a3cc-6379-487b-bd7b-09dca7f476b1",
   "metadata": {},
   "outputs": [],
   "source": [
    "# Convert Transaction_Date_x to datetime format\n",
    "df['Transaction_Date_x'] = pd.to_datetime(df['Transaction_Date_x'])\n",
    "\n",
    "# Assuming 'net_sales' for Monetary, 'Transaction_ID' for Frequency, and 'Transaction_Date_x' for Recency\n",
    "# Use the most recent transaction date as reference\n",
    "current_date = df['Transaction_Date_x'].max() \n",
    "\n",
    "rfm_data = df.groupby('CustomerID').agg(\n",
    "    Recency = ('Transaction_Date_x', lambda date: (current_date - date.max()).days),\n",
    "    Frequency = ('Transaction_ID', 'count'),\n",
    "    Monetary = ('net_sales', 'sum')\n",
    ").reset_index()\n"
   ]
  },
  {
   "cell_type": "code",
   "execution_count": 27,
   "id": "62b1d694-d606-4d0e-9b75-9ae74addb141",
   "metadata": {},
   "outputs": [
    {
     "data": {
      "image/png": "[encoded data removed]",
      "text/plain": [
       "<Figure size 800x500 with 1 Axes>"
      ]
     },
     "metadata": {},
     "output_type": "display_data"
    }
   ],
   "source": [
    "# Scale features for K-Means to ensure equal weighting\n",
    "scaler = StandardScaler()\n",
    "rfm_scaled = scaler.fit_transform(rfm_data[['Recency', 'Frequency', 'Monetary']])\n",
    "\n",
    "# Elbow method to search for optimal clusters\n",
    "sse = []\n",
    "K_range = range(1, 11)\n",
    "for k in K_range:\n",
    "    kmeans = KMeans(n_clusters = k, random_state=0)\n",
    "    kmeans.fit(rfm_scaled)\n",
    "    sse.append(kmeans.inertia_)   # WCSS\n",
    "\n",
    "# Plot elbow curve\n",
    "plt.figure(figsize=(8, 5))\n",
    "plt.plot(K_range, sse, marker='o')\n",
    "plt.xlabel('Number of clusters (K)')\n",
    "plt.ylabel('Sum of Squared Errors (SSE)')\n",
    "plt.title('Elbow Method for K-Means')\n",
    "plt.xticks(K_range)\n",
    "plt.grid(False)\n",
    "plt.savefig(\"elbow_method.png\")\n",
    "plt.show()"
   ]
  },
  {
   "cell_type": "code",
   "execution_count": 28,
   "id": "01babfed-1fd4-46f0-8e74-3e108e2e4b1c",
   "metadata": {},
   "outputs": [],
   "source": [
    "# Apply K-Means clustering (e.g., for an optimal number of clusters, determined via elbow method/silhouette score)\n",
    "# although the elbow joint is 3, I am gonna use optimal K=4 clusters to align with the rule-based segments\n",
    "\n",
    "kmeans = KMeans(n_clusters = 4, random_state=42, n_init = 10) \n",
    "rfm_data['Cluster'] = kmeans.fit_predict(rfm_scaled)\n",
    "\n",
    "# reduce dimensionality\n",
    "from sklearn.decomposition import PCA\n",
    "\n",
    "# Reduce to 2 principal components\n",
    "pca = PCA(n_components=2)\n",
    "rfm_pca = pca.fit_transform(rfm_scaled)\n",
    "\n",
    "rfm_data['pca1'] = rfm_pca[:, 0]\n",
    "rfm_data['pca2'] = rfm_pca[:, 1]"
   ]
  },
  {
   "cell_type": "code",
   "execution_count": 29,
   "id": "68db0487-d0fa-4bc9-b57d-393e43376575",
   "metadata": {},
   "outputs": [],
   "source": [
    "#Get Unique Segment per Customer\n",
    "customer_segments = df[['CustomerID', 'segment']].drop_duplicates(subset='CustomerID')\n",
    "\n",
    "# Merge Segment information to rfm data\n",
    "rfm_data = rfm_data.merge(customer_segments, on='CustomerID', how='left')"
   ]
  },
  {
   "cell_type": "code",
   "execution_count": 30,
   "id": "817639c0-cbfc-4663-8b35-dad0879602b0",
   "metadata": {},
   "outputs": [
    {
     "data": {
      "image/png": "[encoded data removed]",
      "text/plain": [
       "<Figure size 1000x700 with 1 Axes>"
      ]
     },
     "metadata": {},
     "output_type": "display_data"
    }
   ],
   "source": [
    "#visualize clusters and overlay rule-based segments\n",
    "plt.figure(figsize=(10, 7))\n",
    "ax = sns.scatterplot(data=rfm_data, x='pca1', y='pca2', \n",
    "    hue = 'Cluster',      # KMeans clusters\n",
    "    style = 'segment',    # Restored segments after merge\n",
    "    palette = 'tab10',\n",
    "    s = 70)\n",
    "for location in [\"top\", \"right\"]:\n",
    "    ax.spines[location].set_visible(False)\n",
    "ax.grid(False)    \n",
    "\n",
    "plt.title('KMeans Clusters with Customer Segments Overlay', weight = \"bold\")\n",
    "plt.legend(bbox_to_anchor=(1.05, 1), loc='upper left')\n",
    "plt.tight_layout()\n",
    "plt.savefig(\"Kmeans_clusters.png\")\n",
    "plt.show()"
   ]
  },
  {
   "cell_type": "markdown",
   "id": "668e5e91-c8ce-4d2d-974d-3fc23e526cd8",
   "metadata": {},
   "source": [
    "- Cluster 3 shows a strong alignment with the Elite Tier, reinforcing its distinctiveness. \n",
    "- The Loyalty, Premium, and Regular Tiers were primarily distributed across Cluster 0 and Cluster 2, suggesting a natural grouping of mid-to-low value customers that could be explored for more granular targeting. "
   ]
  },
  {
   "cell_type": "markdown",
   "id": "cef3ee53-03a4-457b-a752-49d84028c7e1",
   "metadata": {},
   "source": [
    "#### Quantitative Overlap Check \n",
    "\n",
    "Let's check how much the clusters and segments overlap with a crosstab:"
   ]
  },
  {
   "cell_type": "code",
   "execution_count": 31,
   "id": "a248d749-e0cd-4d26-b496-0c1cbc7399f5",
   "metadata": {},
   "outputs": [
    {
     "data": {
      "text/html": [
       "<div>\n",
       "<style scoped>\n",
       "    .dataframe tbody tr th:only-of-type {\n",
       "        vertical-align: middle;\n",
       "    }\n",
       "\n",
       "    .dataframe tbody tr th {\n",
       "        vertical-align: top;\n",
       "    }\n",
       "\n",
       "    .dataframe thead th {\n",
       "        text-align: right;\n",
       "    }\n",
       "</style>\n",
       "<table border=\"1\" class=\"dataframe\">\n",
       "  <thead>\n",
       "    <tr style=\"text-align: right;\">\n",
       "      <th>Cluster</th>\n",
       "      <th>0</th>\n",
       "      <th>1</th>\n",
       "      <th>2</th>\n",
       "      <th>3</th>\n",
       "    </tr>\n",
       "    <tr>\n",
       "      <th>segment</th>\n",
       "      <th></th>\n",
       "      <th></th>\n",
       "      <th></th>\n",
       "      <th></th>\n",
       "    </tr>\n",
       "  </thead>\n",
       "  <tbody>\n",
       "    <tr>\n",
       "      <th>Elite Tier</th>\n",
       "      <td>9</td>\n",
       "      <td>2</td>\n",
       "      <td>6</td>\n",
       "      <td>24</td>\n",
       "    </tr>\n",
       "    <tr>\n",
       "      <th>Loyalty Tier</th>\n",
       "      <td>296</td>\n",
       "      <td>0</td>\n",
       "      <td>157</td>\n",
       "      <td>55</td>\n",
       "    </tr>\n",
       "    <tr>\n",
       "      <th>Premium Tier</th>\n",
       "      <td>123</td>\n",
       "      <td>3</td>\n",
       "      <td>58</td>\n",
       "      <td>74</td>\n",
       "    </tr>\n",
       "    <tr>\n",
       "      <th>Regular Tier</th>\n",
       "      <td>328</td>\n",
       "      <td>0</td>\n",
       "      <td>331</td>\n",
       "      <td>2</td>\n",
       "    </tr>\n",
       "  </tbody>\n",
       "</table>\n",
       "</div>"
      ],
      "text/plain": [
       "Cluster         0  1    2   3\n",
       "segment                      \n",
       "Elite Tier      9  2    6  24\n",
       "Loyalty Tier  296  0  157  55\n",
       "Premium Tier  123  3   58  74\n",
       "Regular Tier  328  0  331   2"
      ]
     },
     "execution_count": 31,
     "metadata": {},
     "output_type": "execute_result"
    }
   ],
   "source": [
    "pd.crosstab(rfm_data['segment'], rfm_data['Cluster'])"
   ]
  },
  {
   "cell_type": "markdown",
   "id": "b1992d97-f9bf-4f5e-8fac-db8d00661c11",
   "metadata": {},
   "source": [
    "## Investigate High-Value Transactions: The Elite Tier\n",
    "\n",
    "We established earlier that the 41 customers with transactions above $1,000 represent a small but extremely valuable segment. Targeting them with personalized offers, loyalty programs, or exclusive services can drive significant revenue growth.\n",
    "\n",
    "In order to target them, we need to understand their product preferences, gender distribution, where are they located, and when they make purchases. "
   ]
  },
  {
   "cell_type": "markdown",
   "id": "4bd05f36-eeb4-4308-95b1-39642b4d1d4a",
   "metadata": {},
   "source": [
    "#### Summary Statistice of Elite Customers "
   ]
  },
  {
   "cell_type": "code",
   "execution_count": 32,
   "id": "8dc9e210-42e7-4976-b992-a3c07df4a2cb",
   "metadata": {},
   "outputs": [
    {
     "name": "stdout",
     "output_type": "stream",
     "text": [
      "The Top 10 Customers by Net Sales:\n",
      "\n",
      "\n"
     ]
    },
    {
     "data": {
      "text/html": [
       "<div>\n",
       "<style scoped>\n",
       "    .dataframe tbody tr th:only-of-type {\n",
       "        vertical-align: middle;\n",
       "    }\n",
       "\n",
       "    .dataframe tbody tr th {\n",
       "        vertical-align: top;\n",
       "    }\n",
       "\n",
       "    .dataframe thead th {\n",
       "        text-align: right;\n",
       "    }\n",
       "</style>\n",
       "<table border=\"1\" class=\"dataframe\">\n",
       "  <thead>\n",
       "    <tr style=\"text-align: right;\">\n",
       "      <th></th>\n",
       "      <th>CustomerID</th>\n",
       "      <th>Total_Sales</th>\n",
       "      <th>Number_of_Transactions</th>\n",
       "      <th>Quantity_Sold</th>\n",
       "      <th>Delivery_Charges</th>\n",
       "      <th>Location</th>\n",
       "      <th>Gender</th>\n",
       "    </tr>\n",
       "  </thead>\n",
       "  <tbody>\n",
       "    <tr>\n",
       "      <th>25</th>\n",
       "      <td>15311</td>\n",
       "      <td>25976.304</td>\n",
       "      <td>9</td>\n",
       "      <td>2144</td>\n",
       "      <td>57.00</td>\n",
       "      <td>Chicago</td>\n",
       "      <td>F</td>\n",
       "    </tr>\n",
       "    <tr>\n",
       "      <th>6</th>\n",
       "      <td>12748</td>\n",
       "      <td>16633.458</td>\n",
       "      <td>4</td>\n",
       "      <td>1238</td>\n",
       "      <td>273.42</td>\n",
       "      <td>Chicago</td>\n",
       "      <td>F</td>\n",
       "    </tr>\n",
       "    <tr>\n",
       "      <th>18</th>\n",
       "      <td>14180</td>\n",
       "      <td>13188.708</td>\n",
       "      <td>5</td>\n",
       "      <td>1388</td>\n",
       "      <td>30.00</td>\n",
       "      <td>California</td>\n",
       "      <td>F</td>\n",
       "    </tr>\n",
       "    <tr>\n",
       "      <th>9</th>\n",
       "      <td>13113</td>\n",
       "      <td>11893.500</td>\n",
       "      <td>3</td>\n",
       "      <td>1750</td>\n",
       "      <td>19.50</td>\n",
       "      <td>New Jersey</td>\n",
       "      <td>M</td>\n",
       "    </tr>\n",
       "    <tr>\n",
       "      <th>22</th>\n",
       "      <td>14667</td>\n",
       "      <td>11347.596</td>\n",
       "      <td>5</td>\n",
       "      <td>836</td>\n",
       "      <td>30.00</td>\n",
       "      <td>California</td>\n",
       "      <td>F</td>\n",
       "    </tr>\n",
       "    <tr>\n",
       "      <th>24</th>\n",
       "      <td>15194</td>\n",
       "      <td>9523.512</td>\n",
       "      <td>2</td>\n",
       "      <td>951</td>\n",
       "      <td>12.00</td>\n",
       "      <td>Chicago</td>\n",
       "      <td>M</td>\n",
       "    </tr>\n",
       "    <tr>\n",
       "      <th>10</th>\n",
       "      <td>13267</td>\n",
       "      <td>8394.400</td>\n",
       "      <td>2</td>\n",
       "      <td>700</td>\n",
       "      <td>12.00</td>\n",
       "      <td>California</td>\n",
       "      <td>M</td>\n",
       "    </tr>\n",
       "    <tr>\n",
       "      <th>26</th>\n",
       "      <td>15351</td>\n",
       "      <td>6775.648</td>\n",
       "      <td>4</td>\n",
       "      <td>1444</td>\n",
       "      <td>26.00</td>\n",
       "      <td>Washington DC</td>\n",
       "      <td>F</td>\n",
       "    </tr>\n",
       "    <tr>\n",
       "      <th>39</th>\n",
       "      <td>17975</td>\n",
       "      <td>6329.016</td>\n",
       "      <td>3</td>\n",
       "      <td>976</td>\n",
       "      <td>18.00</td>\n",
       "      <td>Chicago</td>\n",
       "      <td>M</td>\n",
       "    </tr>\n",
       "    <tr>\n",
       "      <th>0</th>\n",
       "      <td>12347</td>\n",
       "      <td>5290.677</td>\n",
       "      <td>4</td>\n",
       "      <td>189</td>\n",
       "      <td>26.00</td>\n",
       "      <td>New York</td>\n",
       "      <td>M</td>\n",
       "    </tr>\n",
       "  </tbody>\n",
       "</table>\n",
       "</div>"
      ],
      "text/plain": [
       "    CustomerID  Total_Sales  Number_of_Transactions  Quantity_Sold  \\\n",
       "25       15311    25976.304                       9           2144   \n",
       "6        12748    16633.458                       4           1238   \n",
       "18       14180    13188.708                       5           1388   \n",
       "9        13113    11893.500                       3           1750   \n",
       "22       14667    11347.596                       5            836   \n",
       "24       15194     9523.512                       2            951   \n",
       "10       13267     8394.400                       2            700   \n",
       "26       15351     6775.648                       4           1444   \n",
       "39       17975     6329.016                       3            976   \n",
       "0        12347     5290.677                       4            189   \n",
       "\n",
       "    Delivery_Charges       Location Gender  \n",
       "25             57.00        Chicago      F  \n",
       "6             273.42        Chicago      F  \n",
       "18             30.00     California      F  \n",
       "9              19.50     New Jersey      M  \n",
       "22             30.00     California      F  \n",
       "24             12.00        Chicago      M  \n",
       "10             12.00     California      M  \n",
       "26             26.00  Washington DC      F  \n",
       "39             18.00        Chicago      M  \n",
       "0              26.00       New York      M  "
      ]
     },
     "execution_count": 32,
     "metadata": {},
     "output_type": "execute_result"
    }
   ],
   "source": [
    "vip_summary = vip.groupby(\"CustomerID\").agg(\n",
    "    Total_Sales = (\"net_sales\", \"sum\"),\n",
    "    Number_of_Transactions = (\"Transaction_ID\", \"count\"),\n",
    "    Quantity_Sold = (\"Quantity\", \"sum\"),\n",
    "    Delivery_Charges = (\"Delivery_Charges\", \"sum\"),\n",
    "    Location = (\"Location\", \"first\"),\n",
    "    Gender = (\"Gender\", \"first\")\n",
    ").reset_index()\n",
    "\n",
    "top_10 = vip_summary.sort_values(\"Total_Sales\", ascending = False)\n",
    "print(\"The Top 10 Customers by Net Sales:\")\n",
    "print(\"\\n\")\n",
    "top_10.head(10)"
   ]
  },
  {
   "cell_type": "code",
   "execution_count": 33,
   "id": "421b7b66-197b-4b36-9f7e-bd68b3c3e686",
   "metadata": {},
   "outputs": [
    {
     "data": {
      "application/vnd.plotly.v1+json": {
       "config": {
        "plotlyServerURL": "https://plot.ly"
       },
       "data": [
        {
         "hovertemplate": "Location=%{x}<br>Total_Sales=%{y}<extra></extra>",
         "legendgroup": "",
         "marker": {
          "color": "#b6b6b6",
          "pattern": {
           "shape": ""
          }
         },
         "name": "",
         "orientation": "v",
         "showlegend": false,
         "textposition": "auto",
         "type": "bar",
         "x": [
          "New York",
          "California",
          "California",
          "Chicago",
          "New Jersey",
          "New York",
          "California",
          "Chicago",
          "New Jersey",
          "California",
          "New York",
          "New Jersey",
          "New York",
          "New Jersey",
          "Washington DC",
          "New York",
          "California",
          "Chicago",
          "California",
          "Chicago",
          "California",
          "California",
          "Chicago",
          "Washington DC",
          "Chicago",
          "Washington DC",
          "Chicago",
          "Chicago",
          "Chicago",
          "Chicago",
          "California",
          "California",
          "California",
          "Chicago",
          "New York",
          "California",
          "Chicago",
          "Chicago"
         ],
         "xaxis": "x",
         "y": {
          "_inputArray": {
           "0": 5290.677,
           "1": 1116,
           "10": 1107.792,
           "11": 1247.202,
           "12": 1923.2499999999998,
           "13": 1746.5,
           "14": 1010.9049999999999,
           "15": 1004.4,
           "16": 1462.2299999999996,
           "17": 1345.5,
           "18": 1033.9650000000001,
           "19": 1004.4,
           "2": 4252.8,
           "20": 11347.596,
           "21": 1255.5,
           "22": 9523.512,
           "23": 6775.648000000001,
           "24": 2944.2960000000003,
           "25": 1199.2,
           "26": 1420.8000000000002,
           "27": 1034.6399999999999,
           "28": 1078.65,
           "29": 1105.832,
           "3": 1131.1650000000002,
           "30": 1070.847,
           "31": 4610.080999999999,
           "32": 3835.2419999999993,
           "33": 2802.0150000000003,
           "34": 3303.8280000000004,
           "35": 3126.0060000000003,
           "36": 6329.0160000000005,
           "37": 1116,
           "4": 1596,
           "5": 1208.8799999999999,
           "6": 1339.2,
           "7": 1146.8249999999998,
           "8": 11893.5,
           "9": 8394.400000000001,
           "bdata": "ZDvfT62qtEAAAAAAAHCRQM3MzMzMnLBAXY/C9aiskUAAAAAAAPCYQOtRuB6F45JAzczMzMzslEDMzMzMTOuRQAAAAADAOsdANDMzMzNlwEC6SQwCK0+RQCuHFtnOfJNA//////8MnkAAAAAAAEqbQAnXo3A9l49AMzMzMzNjj0BQuB6F69iWQAAAAAAABpVAkML1KNwnkEAzMzMzM2OPQDVeuknMKcZAAAAAAACek0DHSzeJwZnCQND3U+Old7pAPN9PjZcAp0DNzMzMzLySQDQzMzMzM5ZAwvUoXI8qkECamZmZmdqQQBfZzvdTR5FA2c73U2O7kED5fmq8FAKyQEKLbOd79q1A4noUrgfkpUAusp3vp8+pQI6XbhIDbKhAvXSTGAS5uEAAAAAAAHCRQA==",
           "dtype": "f8",
           "shape": "38"
          },
          "bdata": "ZDvfT62qtEAAAAAAAHCRQM3MzMzMnLBAXY/C9aiskUAAAAAAAPCYQOtRuB6F45JAzczMzMzslEDMzMzMTOuRQAAAAADAOsdANDMzMzNlwEC6SQwCK0+RQCuHFtnOfJNA//////8MnkAAAAAAAEqbQAnXo3A9l49AMzMzMzNjj0BQuB6F69iWQAAAAAAABpVAkML1KNwnkEAzMzMzM2OPQDVeuknMKcZAAAAAAACek0DHSzeJwZnCQND3U+Old7pAPN9PjZcAp0DNzMzMzLySQDQzMzMzM5ZAwvUoXI8qkECamZmZmdqQQBfZzvdTR5FA2c73U2O7kED5fmq8FAKyQEKLbOd79q1A4noUrgfkpUAusp3vp8+pQI6XbhIDbKhAvXSTGAS5uEAAAAAAAHCRQA==",
          "dtype": "f8"
         },
         "yaxis": "y"
        },
        {
         "hovertemplate": "Location=%{x}<br>Total_Sales=%{y}<extra></extra>",
         "legendgroup": "",
         "marker": {
          "color": "#ad372c",
          "pattern": {
           "shape": ""
          }
         },
         "name": "",
         "orientation": "v",
         "showlegend": false,
         "textposition": "auto",
         "type": "bar",
         "x": [
          "Chicago",
          "California",
          "Chicago"
         ],
         "xaxis": "x",
         "y": {
          "_inputArray": {
           "0": 16633.458,
           "1": 13188.708,
           "2": 25976.304,
           "bdata": "ZDvfT10+0EDJdr6fWsLJQH9qvHQTXtlA",
           "dtype": "f8",
           "shape": "3"
          },
          "bdata": "ZDvfT10+0EDJdr6fWsLJQH9qvHQTXtlA",
          "dtype": "f8"
         },
         "yaxis": "y"
        }
       ],
       "layout": {
        "barmode": "relative",
        "font": {
         "family": "Arial",
         "size": 16
        },
        "height": 600,
        "legend": {
         "tracegroupgap": 0
        },
        "margin": {
         "b": 50,
         "l": 80,
         "r": 50,
         "t": 80
        },
        "template": {
         "data": {
          "bar": [
           {
            "error_x": {
             "color": "#2a3f5f"
            },
            "error_y": {
             "color": "#2a3f5f"
            },
            "marker": {
             "line": {
              "color": "#E5ECF6",
              "width": 0.5
             },
             "pattern": {
              "fillmode": "overlay",
              "size": 10,
              "solidity": 0.2
             }
            },
            "type": "bar"
           }
          ],
          "barpolar": [
           {
            "marker": {
             "line": {
              "color": "#E5ECF6",
              "width": 0.5
             },
             "pattern": {
              "fillmode": "overlay",
              "size": 10,
              "solidity": 0.2
             }
            },
            "type": "barpolar"
           }
          ],
          "carpet": [
           {
            "aaxis": {
             "endlinecolor": "#2a3f5f",
             "gridcolor": "white",
             "linecolor": "white",
             "minorgridcolor": "white",
             "startlinecolor": "#2a3f5f"
            },
            "baxis": {
             "endlinecolor": "#2a3f5f",
             "gridcolor": "white",
             "linecolor": "white",
             "minorgridcolor": "white",
             "startlinecolor": "#2a3f5f"
            },
            "type": "carpet"
           }
          ],
          "choropleth": [
           {
            "colorbar": {
             "outlinewidth": 0,
             "ticks": ""
            },
            "type": "choropleth"
           }
          ],
          "contour": [
           {
            "colorbar": {
             "outlinewidth": 0,
             "ticks": ""
            },
            "colorscale": [
             [
              0,
              "#0d0887"
             ],
             [
              0.1111111111111111,
              "#46039f"
             ],
             [
              0.2222222222222222,
              "#7201a8"
             ],
             [
              0.3333333333333333,
              "#9c179e"
             ],
             [
              0.4444444444444444,
              "#bd3786"
             ],
             [
              0.5555555555555556,
              "#d8576b"
             ],
             [
              0.6666666666666666,
              "#ed7953"
             ],
             [
              0.7777777777777778,
              "#fb9f3a"
             ],
             [
              0.8888888888888888,
              "#fdca26"
             ],
             [
              1,
              "#f0f921"
             ]
            ],
            "type": "contour"
           }
          ],
          "contourcarpet": [
           {
            "colorbar": {
             "outlinewidth": 0,
             "ticks": ""
            },
            "type": "contourcarpet"
           }
          ],
          "heatmap": [
           {
            "colorbar": {
             "outlinewidth": 0,
             "ticks": ""
            },
            "colorscale": [
             [
              0,
              "#0d0887"
             ],
             [
              0.1111111111111111,
              "#46039f"
             ],
             [
              0.2222222222222222,
              "#7201a8"
             ],
             [
              0.3333333333333333,
              "#9c179e"
             ],
             [
              0.4444444444444444,
              "#bd3786"
             ],
             [
              0.5555555555555556,
              "#d8576b"
             ],
             [
              0.6666666666666666,
              "#ed7953"
             ],
             [
              0.7777777777777778,
              "#fb9f3a"
             ],
             [
              0.8888888888888888,
              "#fdca26"
             ],
             [
              1,
              "#f0f921"
             ]
            ],
            "type": "heatmap"
           }
          ],
          "histogram": [
           {
            "marker": {
             "pattern": {
              "fillmode": "overlay",
              "size": 10,
              "solidity": 0.2
             }
            },
            "type": "histogram"
           }
          ],
          "histogram2d": [
           {
            "colorbar": {
             "outlinewidth": 0,
             "ticks": ""
            },
            "colorscale": [
             [
              0,
              "#0d0887"
             ],
             [
              0.1111111111111111,
              "#46039f"
             ],
             [
              0.2222222222222222,
              "#7201a8"
             ],
             [
              0.3333333333333333,
              "#9c179e"
             ],
             [
              0.4444444444444444,
              "#bd3786"
             ],
             [
              0.5555555555555556,
              "#d8576b"
             ],
             [
              0.6666666666666666,
              "#ed7953"
             ],
             [
              0.7777777777777778,
              "#fb9f3a"
             ],
             [
              0.8888888888888888,
              "#fdca26"
             ],
             [
              1,
              "#f0f921"
             ]
            ],
            "type": "histogram2d"
           }
          ],
          "histogram2dcontour": [
           {
            "colorbar": {
             "outlinewidth": 0,
             "ticks": ""
            },
            "colorscale": [
             [
              0,
              "#0d0887"
             ],
             [
              0.1111111111111111,
              "#46039f"
             ],
             [
              0.2222222222222222,
              "#7201a8"
             ],
             [
              0.3333333333333333,
              "#9c179e"
             ],
             [
              0.4444444444444444,
              "#bd3786"
             ],
             [
              0.5555555555555556,
              "#d8576b"
             ],
             [
              0.6666666666666666,
              "#ed7953"
             ],
             [
              0.7777777777777778,
              "#fb9f3a"
             ],
             [
              0.8888888888888888,
              "#fdca26"
             ],
             [
              1,
              "#f0f921"
             ]
            ],
            "type": "histogram2dcontour"
           }
          ],
          "mesh3d": [
           {
            "colorbar": {
             "outlinewidth": 0,
             "ticks": ""
            },
            "type": "mesh3d"
           }
          ],
          "parcoords": [
           {
            "line": {
             "colorbar": {
              "outlinewidth": 0,
              "ticks": ""
             }
            },
            "type": "parcoords"
           }
          ],
          "pie": [
           {
            "automargin": true,
            "type": "pie"
           }
          ],
          "scatter": [
           {
            "fillpattern": {
             "fillmode": "overlay",
             "size": 10,
             "solidity": 0.2
            },
            "type": "scatter"
           }
          ],
          "scatter3d": [
           {
            "line": {
             "colorbar": {
              "outlinewidth": 0,
              "ticks": ""
             }
            },
            "marker": {
             "colorbar": {
              "outlinewidth": 0,
              "ticks": ""
             }
            },
            "type": "scatter3d"
           }
          ],
          "scattercarpet": [
           {
            "marker": {
             "colorbar": {
              "outlinewidth": 0,
              "ticks": ""
             }
            },
            "type": "scattercarpet"
           }
          ],
          "scattergeo": [
           {
            "marker": {
             "colorbar": {
              "outlinewidth": 0,
              "ticks": ""
             }
            },
            "type": "scattergeo"
           }
          ],
          "scattergl": [
           {
            "marker": {
             "colorbar": {
              "outlinewidth": 0,
              "ticks": ""
             }
            },
            "type": "scattergl"
           }
          ],
          "scattermap": [
           {
            "marker": {
             "colorbar": {
              "outlinewidth": 0,
              "ticks": ""
             }
            },
            "type": "scattermap"
           }
          ],
          "scattermapbox": [
           {
            "marker": {
             "colorbar": {
              "outlinewidth": 0,
              "ticks": ""
             }
            },
            "type": "scattermapbox"
           }
          ],
          "scatterpolar": [
           {
            "marker": {
             "colorbar": {
              "outlinewidth": 0,
              "ticks": ""
             }
            },
            "type": "scatterpolar"
           }
          ],
          "scatterpolargl": [
           {
            "marker": {
             "colorbar": {
              "outlinewidth": 0,
              "ticks": ""
             }
            },
            "type": "scatterpolargl"
           }
          ],
          "scatterternary": [
           {
            "marker": {
             "colorbar": {
              "outlinewidth": 0,
              "ticks": ""
             }
            },
            "type": "scatterternary"
           }
          ],
          "surface": [
           {
            "colorbar": {
             "outlinewidth": 0,
             "ticks": ""
            },
            "colorscale": [
             [
              0,
              "#0d0887"
             ],
             [
              0.1111111111111111,
              "#46039f"
             ],
             [
              0.2222222222222222,
              "#7201a8"
             ],
             [
              0.3333333333333333,
              "#9c179e"
             ],
             [
              0.4444444444444444,
              "#bd3786"
             ],
             [
              0.5555555555555556,
              "#d8576b"
             ],
             [
              0.6666666666666666,
              "#ed7953"
             ],
             [
              0.7777777777777778,
              "#fb9f3a"
             ],
             [
              0.8888888888888888,
              "#fdca26"
             ],
             [
              1,
              "#f0f921"
             ]
            ],
            "type": "surface"
           }
          ],
          "table": [
           {
            "cells": {
             "fill": {
              "color": "#EBF0F8"
             },
             "line": {
              "color": "white"
             }
            },
            "header": {
             "fill": {
              "color": "#C8D4E3"
             },
             "line": {
              "color": "white"
             }
            },
            "type": "table"
           }
          ]
         },
         "layout": {
          "annotationdefaults": {
           "arrowcolor": "#2a3f5f",
           "arrowhead": 0,
           "arrowwidth": 1
          },
          "autotypenumbers": "strict",
          "coloraxis": {
           "colorbar": {
            "outlinewidth": 0,
            "ticks": ""
           }
          },
          "colorscale": {
           "diverging": [
            [
             0,
             "#8e0152"
            ],
            [
             0.1,
             "#c51b7d"
            ],
            [
             0.2,
             "#de77ae"
            ],
            [
             0.3,
             "#f1b6da"
            ],
            [
             0.4,
             "#fde0ef"
            ],
            [
             0.5,
             "#f7f7f7"
            ],
            [
             0.6,
             "#e6f5d0"
            ],
            [
             0.7,
             "#b8e186"
            ],
            [
             0.8,
             "#7fbc41"
            ],
            [
             0.9,
             "#4d9221"
            ],
            [
             1,
             "#276419"
            ]
           ],
           "sequential": [
            [
             0,
             "#0d0887"
            ],
            [
             0.1111111111111111,
             "#46039f"
            ],
            [
             0.2222222222222222,
             "#7201a8"
            ],
            [
             0.3333333333333333,
             "#9c179e"
            ],
            [
             0.4444444444444444,
             "#bd3786"
            ],
            [
             0.5555555555555556,
             "#d8576b"
            ],
            [
             0.6666666666666666,
             "#ed7953"
            ],
            [
             0.7777777777777778,
             "#fb9f3a"
            ],
            [
             0.8888888888888888,
             "#fdca26"
            ],
            [
             1,
             "#f0f921"
            ]
           ],
           "sequentialminus": [
            [
             0,
             "#0d0887"
            ],
            [
             0.1111111111111111,
             "#46039f"
            ],
            [
             0.2222222222222222,
             "#7201a8"
            ],
            [
             0.3333333333333333,
             "#9c179e"
            ],
            [
             0.4444444444444444,
             "#bd3786"
            ],
            [
             0.5555555555555556,
             "#d8576b"
            ],
            [
             0.6666666666666666,
             "#ed7953"
            ],
            [
             0.7777777777777778,
             "#fb9f3a"
            ],
            [
             0.8888888888888888,
             "#fdca26"
            ],
            [
             1,
             "#f0f921"
            ]
           ]
          },
          "colorway": [
           "#636efa",
           "#EF553B",
           "#00cc96",
           "#ab63fa",
           "#FFA15A",
           "#19d3f3",
           "#FF6692",
           "#B6E880",
           "#FF97FF",
           "#FECB52"
          ],
          "font": {
           "color": "#2a3f5f"
          },
          "geo": {
           "bgcolor": "white",
           "lakecolor": "white",
           "landcolor": "#E5ECF6",
           "showlakes": true,
           "showland": true,
           "subunitcolor": "white"
          },
          "hoverlabel": {
           "align": "left"
          },
          "hovermode": "closest",
          "mapbox": {
           "style": "light"
          },
          "paper_bgcolor": "white",
          "plot_bgcolor": "#E5ECF6",
          "polar": {
           "angularaxis": {
            "gridcolor": "white",
            "linecolor": "white",
            "ticks": ""
           },
           "bgcolor": "#E5ECF6",
           "radialaxis": {
            "gridcolor": "white",
            "linecolor": "white",
            "ticks": ""
           }
          },
          "scene": {
           "xaxis": {
            "backgroundcolor": "#E5ECF6",
            "gridcolor": "white",
            "gridwidth": 2,
            "linecolor": "white",
            "showbackground": true,
            "ticks": "",
            "zerolinecolor": "white"
           },
           "yaxis": {
            "backgroundcolor": "#E5ECF6",
            "gridcolor": "white",
            "gridwidth": 2,
            "linecolor": "white",
            "showbackground": true,
            "ticks": "",
            "zerolinecolor": "white"
           },
           "zaxis": {
            "backgroundcolor": "#E5ECF6",
            "gridcolor": "white",
            "gridwidth": 2,
            "linecolor": "white",
            "showbackground": true,
            "ticks": "",
            "zerolinecolor": "white"
           }
          },
          "shapedefaults": {
           "line": {
            "color": "#2a3f5f"
           }
          },
          "ternary": {
           "aaxis": {
            "gridcolor": "white",
            "linecolor": "white",
            "ticks": ""
           },
           "baxis": {
            "gridcolor": "white",
            "linecolor": "white",
            "ticks": ""
           },
           "bgcolor": "#E5ECF6",
           "caxis": {
            "gridcolor": "white",
            "linecolor": "white",
            "ticks": ""
           }
          },
          "title": {
           "x": 0.05
          },
          "xaxis": {
           "automargin": true,
           "gridcolor": "white",
           "linecolor": "white",
           "ticks": "",
           "title": {
            "standoff": 15
           },
           "zerolinecolor": "white",
           "zerolinewidth": 2
          },
          "yaxis": {
           "automargin": true,
           "gridcolor": "white",
           "linecolor": "white",
           "ticks": "",
           "title": {
            "standoff": 15
           },
           "zerolinecolor": "white",
           "zerolinewidth": 2
          }
         }
        },
        "title": {
         "font": {
          "size": 20
         },
         "text": "<b>Top 3 Elite Net Sales Highlighted<b>"
        },
        "width": 700,
        "xaxis": {
         "anchor": "y",
         "autorange": true,
         "domain": [
          0,
          1
         ],
         "range": [
          -0.5,
          4.5
         ],
         "title": {
          "font": {
           "size": 16
          },
          "text": ""
         },
         "type": "category"
        },
        "yaxis": {
         "anchor": "x",
         "autorange": true,
         "domain": [
          0,
          1
         ],
         "range": [
          0,
          78518.3294736842
         ],
         "title": {
          "font": {
           "size": 16
          },
          "text": ""
         },
         "type": "linear"
        }
       }
      }
     },
     "metadata": {},
     "output_type": "display_data"
    }
   ],
   "source": [
    "# Sort and visualize the top 3 customers\n",
    "vip_summary2 = vip_summary.reset_index()\n",
    "top3 = vip_summary2.nlargest(3, \"Total_Sales\")\n",
    "\n",
    "# Assign color\n",
    "vip_summary2[\"bar_color\"] = vip_summary2.apply(\n",
    "    lambda row: \"#ad372c\" if row[\"CustomerID\"] in top3[\"CustomerID\"].values else \"#b6b6b6\",\n",
    "    axis=1\n",
    ")\n",
    "\n",
    "\n",
    "fig = px.bar(\n",
    "    vip_summary2,\n",
    "    x=\"Location\",         \n",
    "    y=\"Total_Sales\",\n",
    "    color=\"bar_color\",     # use bar_color for styling\n",
    "    #hover_data=[\"CustomerID\", \"Quantity\"],\n",
    "    title=\"<b>Top 3 Elite Net Sales Highlighted<b>\",\n",
    "    color_discrete_map=\"identity\",  # Use hex codes as-is\n",
    "    width=700,\n",
    "    height=600\n",
    ")\n",
    "\n",
    "fig.update_layout(yaxis_title=\"\", xaxis_title=\"\", font=dict(size=16, family=\"Arial\"),\n",
    "                  title_font_size=20, xaxis_title_font_size=16, yaxis_title_font_size=16,\n",
    "                  margin=dict(t=80, l=80, r=50, b=50))\n",
    "\n",
    "# Save as PNG (or use .jpeg, .pdf, etc.)\n",
    "fig.write_image(\"top3_vipsales.png\", scale = 3)\n",
    "\n",
    "fig.show()"
   ]
  },
  {
   "cell_type": "markdown",
   "id": "331cbe3c-6acd-4455-a1f7-e7c289c1e1bc",
   "metadata": {},
   "source": [
    "![Top 3 customers by sales](../images/top3_vipsales.png)"
   ]
  },
  {
   "cell_type": "markdown",
   "id": "93e9af60-03b1-4d84-9368-b18f9f1669d7",
   "metadata": {},
   "source": [
    "- Our leading customer (ID 15311) has purchased products worth almost 26K in only 9 transactions. This customer has bought over 2k units.\n",
    "- The top 3 customers are female, 2 from Chicago and 1 from Californina."
   ]
  },
  {
   "cell_type": "markdown",
   "id": "0dee6d3c-3991-4e84-89ab-c492c46e667c",
   "metadata": {},
   "source": [
    "### Elite Sales Distribution by Location"
   ]
  },
  {
   "cell_type": "code",
   "execution_count": 34,
   "id": "6d629403-321b-46ee-82fd-546abded8e72",
   "metadata": {},
   "outputs": [
    {
     "data": {
      "image/png": "[encoded data removed]",
      "text/plain": [
       "<Figure size 600x600 with 1 Axes>"
      ]
     },
     "metadata": {},
     "output_type": "display_data"
    }
   ],
   "source": [
    "# sales distribution by location\n",
    "data = vip.groupby(\"Location\")[\"net_sales\"].sum()\n",
    "labels = data.index\n",
    "sizes = data.values\n",
    "\n",
    "# declaring exploding pie & colors\n",
    "explode = [0, 0.1, 0, 0, 0]\n",
    "palette_color = [\"#dc7f18\", \"#ad372c\", \"#b6b6b6\", \"gray\", \"#0a80bf\"]\n",
    "\n",
    "sns.set_style(\"whitegrid\")\n",
    "plt.figure(figsize=(6, 6))\n",
    "plt.pie(sizes, labels=labels,  colors=palette_color, explode=explode, autopct='%.0f%%', startangle= 320)\n",
    "plt.title(\"Elite Sales Distribution by Location\")\n",
    "plt.axis('equal')  # Equal aspect ratio ensures the pie is a circle.\n",
    "plt.show()"
   ]
  },
  {
   "cell_type": "code",
   "execution_count": 35,
   "id": "44a891eb-fed6-4e68-8397-2bd1a51b50c0",
   "metadata": {},
   "outputs": [
    {
     "data": {
      "application/vnd.plotly.v1+json": {
       "config": {
        "plotlyServerURL": "https://plot.ly"
       },
       "data": [
        {
         "hovertemplate": "Gender=M<br>Total_Sales=%{x}<br>Location=%{y}<extra></extra>",
         "legendgroup": "M",
         "marker": {
          "color": "#0a80bf",
          "pattern": {
           "shape": ""
          }
         },
         "name": "M",
         "orientation": "h",
         "showlegend": true,
         "textposition": "auto",
         "type": "bar",
         "x": {
          "_inputArray": {
           "0": 5290.677,
           "1": 1131.1650000000002,
           "10": 1033.9650000000001,
           "11": 1004.4,
           "12": 9523.512,
           "13": 1199.2,
           "14": 1034.6399999999999,
           "15": 1078.65,
           "16": 2802.0150000000003,
           "17": 6329.0160000000005,
           "2": 1208.8799999999999,
           "3": 1339.2,
           "4": 1146.8249999999998,
           "5": 11893.5,
           "6": 8394.400000000001,
           "7": 1107.792,
           "8": 1462.2299999999996,
           "9": 1345.5,
           "bdata": "ZDvfT62qtEBdj8L1qKyRQOtRuB6F45JAzczMzMzslEDMzMzMTOuRQAAAAADAOsdANDMzMzNlwEC6SQwCK0+RQFC4HoXr2JZAAAAAAAAGlUCQwvUo3CeQQDMzMzMzY49Ax0s3icGZwkDNzMzMzLySQML1KFyPKpBAmpmZmZnakEDiehSuB+SlQL10kxgEubhA",
           "dtype": "f8",
           "shape": "18"
          },
          "bdata": "ZDvfT62qtEBdj8L1qKyRQOtRuB6F45JAzczMzMzslEDMzMzMTOuRQAAAAADAOsdANDMzMzNlwEC6SQwCK0+RQFC4HoXr2JZAAAAAAAAGlUCQwvUo3CeQQDMzMzMzY49Ax0s3icGZwkDNzMzMzLySQML1KFyPKpBAmpmZmZnakEDiehSuB+SlQL10kxgEubhA",
          "dtype": "f8"
         },
         "xaxis": "x",
         "y": [
          "New York",
          "Chicago",
          "New York",
          "California",
          "Chicago",
          "New Jersey",
          "California",
          "New York",
          "California",
          "Chicago",
          "California",
          "Chicago",
          "Chicago",
          "Washington DC",
          "Chicago",
          "Chicago",
          "Chicago",
          "Chicago"
         ],
         "yaxis": "y"
        },
        {
         "hovertemplate": "Gender=F<br>Total_Sales=%{x}<br>Location=%{y}<extra></extra>",
         "legendgroup": "F",
         "marker": {
          "color": "#e88705",
          "pattern": {
           "shape": ""
          }
         },
         "name": "F",
         "orientation": "h",
         "showlegend": true,
         "textposition": "auto",
         "type": "bar",
         "x": {
          "_inputArray": {
           "0": 1116,
           "1": 4252.8,
           "10": 11347.596,
           "11": 1255.5,
           "12": 25976.304,
           "13": 6775.648000000001,
           "14": 2944.2960000000003,
           "15": 1420.8000000000002,
           "16": 1105.832,
           "17": 1070.847,
           "18": 4610.080999999999,
           "19": 3835.2419999999993,
           "2": 1596,
           "20": 3303.8280000000004,
           "21": 3126.0060000000003,
           "22": 1116,
           "3": 16633.458,
           "4": 1247.202,
           "5": 1923.2499999999998,
           "6": 1746.5,
           "7": 1010.9049999999999,
           "8": 1004.4,
           "9": 13188.708,
           "bdata": "AAAAAABwkUDNzMzMzJywQAAAAAAA8JhAZDvfT10+0EArhxbZznyTQP//////DJ5AAAAAAABKm0AJ16NwPZePQDMzMzMzY49AyXa+n1rCyUA1XrpJzCnGQAAAAAAAnpNAf2q8dBNe2UDQ91PjpXe6QDzfT42XAKdANDMzMzMzlkAX2c73U0eRQNnO91Nju5BA+X5qvBQCskBCi2zne/atQC6yne+nz6lAjpduEgNsqEAAAAAAAHCRQA==",
           "dtype": "f8",
           "shape": "23"
          },
          "bdata": "AAAAAABwkUDNzMzMzJywQAAAAAAA8JhAZDvfT10+0EArhxbZznyTQP//////DJ5AAAAAAABKm0AJ16NwPZePQDMzMzMzY49AyXa+n1rCyUA1XrpJzCnGQAAAAAAAnpNAf2q8dBNe2UDQ91PjpXe6QDzfT42XAKdANDMzMzMzlkAX2c73U0eRQNnO91Nju5BA+X5qvBQCskBCi2zne/atQC6yne+nz6lAjpduEgNsqEAAAAAAAHCRQA==",
          "dtype": "f8"
         },
         "xaxis": "x",
         "y": [
          "California",
          "California",
          "New Jersey",
          "Chicago",
          "New Jersey",
          "New York",
          "New Jersey",
          "Washington DC",
          "New York",
          "California",
          "California",
          "California",
          "Chicago",
          "Washington DC",
          "Chicago",
          "Chicago",
          "Chicago",
          "California",
          "California",
          "California",
          "New York",
          "California",
          "Chicago"
         ],
         "yaxis": "y"
        }
       ],
       "layout": {
        "barmode": "relative",
        "font": {
         "family": "Arial",
         "size": 16
        },
        "height": 350,
        "legend": {
         "title": {
          "text": "Gender"
         },
         "tracegroupgap": 0
        },
        "margin": {
         "b": 50,
         "l": 80,
         "r": 50,
         "t": 80
        },
        "template": {
         "data": {
          "bar": [
           {
            "error_x": {
             "color": "#2a3f5f"
            },
            "error_y": {
             "color": "#2a3f5f"
            },
            "marker": {
             "line": {
              "color": "#E5ECF6",
              "width": 0.5
             },
             "pattern": {
              "fillmode": "overlay",
              "size": 10,
              "solidity": 0.2
             }
            },
            "type": "bar"
           }
          ],
          "barpolar": [
           {
            "marker": {
             "line": {
              "color": "#E5ECF6",
              "width": 0.5
             },
             "pattern": {
              "fillmode": "overlay",
              "size": 10,
              "solidity": 0.2
             }
            },
            "type": "barpolar"
           }
          ],
          "carpet": [
           {
            "aaxis": {
             "endlinecolor": "#2a3f5f",
             "gridcolor": "white",
             "linecolor": "white",
             "minorgridcolor": "white",
             "startlinecolor": "#2a3f5f"
            },
            "baxis": {
             "endlinecolor": "#2a3f5f",
             "gridcolor": "white",
             "linecolor": "white",
             "minorgridcolor": "white",
             "startlinecolor": "#2a3f5f"
            },
            "type": "carpet"
           }
          ],
          "choropleth": [
           {
            "colorbar": {
             "outlinewidth": 0,
             "ticks": ""
            },
            "type": "choropleth"
           }
          ],
          "contour": [
           {
            "colorbar": {
             "outlinewidth": 0,
             "ticks": ""
            },
            "colorscale": [
             [
              0,
              "#0d0887"
             ],
             [
              0.1111111111111111,
              "#46039f"
             ],
             [
              0.2222222222222222,
              "#7201a8"
             ],
             [
              0.3333333333333333,
              "#9c179e"
             ],
             [
              0.4444444444444444,
              "#bd3786"
             ],
             [
              0.5555555555555556,
              "#d8576b"
             ],
             [
              0.6666666666666666,
              "#ed7953"
             ],
             [
              0.7777777777777778,
              "#fb9f3a"
             ],
             [
              0.8888888888888888,
              "#fdca26"
             ],
             [
              1,
              "#f0f921"
             ]
            ],
            "type": "contour"
           }
          ],
          "contourcarpet": [
           {
            "colorbar": {
             "outlinewidth": 0,
             "ticks": ""
            },
            "type": "contourcarpet"
           }
          ],
          "heatmap": [
           {
            "colorbar": {
             "outlinewidth": 0,
             "ticks": ""
            },
            "colorscale": [
             [
              0,
              "#0d0887"
             ],
             [
              0.1111111111111111,
              "#46039f"
             ],
             [
              0.2222222222222222,
              "#7201a8"
             ],
             [
              0.3333333333333333,
              "#9c179e"
             ],
             [
              0.4444444444444444,
              "#bd3786"
             ],
             [
              0.5555555555555556,
              "#d8576b"
             ],
             [
              0.6666666666666666,
              "#ed7953"
             ],
             [
              0.7777777777777778,
              "#fb9f3a"
             ],
             [
              0.8888888888888888,
              "#fdca26"
             ],
             [
              1,
              "#f0f921"
             ]
            ],
            "type": "heatmap"
           }
          ],
          "histogram": [
           {
            "marker": {
             "pattern": {
              "fillmode": "overlay",
              "size": 10,
              "solidity": 0.2
             }
            },
            "type": "histogram"
           }
          ],
          "histogram2d": [
           {
            "colorbar": {
             "outlinewidth": 0,
             "ticks": ""
            },
            "colorscale": [
             [
              0,
              "#0d0887"
             ],
             [
              0.1111111111111111,
              "#46039f"
             ],
             [
              0.2222222222222222,
              "#7201a8"
             ],
             [
              0.3333333333333333,
              "#9c179e"
             ],
             [
              0.4444444444444444,
              "#bd3786"
             ],
             [
              0.5555555555555556,
              "#d8576b"
             ],
             [
              0.6666666666666666,
              "#ed7953"
             ],
             [
              0.7777777777777778,
              "#fb9f3a"
             ],
             [
              0.8888888888888888,
              "#fdca26"
             ],
             [
              1,
              "#f0f921"
             ]
            ],
            "type": "histogram2d"
           }
          ],
          "histogram2dcontour": [
           {
            "colorbar": {
             "outlinewidth": 0,
             "ticks": ""
            },
            "colorscale": [
             [
              0,
              "#0d0887"
             ],
             [
              0.1111111111111111,
              "#46039f"
             ],
             [
              0.2222222222222222,
              "#7201a8"
             ],
             [
              0.3333333333333333,
              "#9c179e"
             ],
             [
              0.4444444444444444,
              "#bd3786"
             ],
             [
              0.5555555555555556,
              "#d8576b"
             ],
             [
              0.6666666666666666,
              "#ed7953"
             ],
             [
              0.7777777777777778,
              "#fb9f3a"
             ],
             [
              0.8888888888888888,
              "#fdca26"
             ],
             [
              1,
              "#f0f921"
             ]
            ],
            "type": "histogram2dcontour"
           }
          ],
          "mesh3d": [
           {
            "colorbar": {
             "outlinewidth": 0,
             "ticks": ""
            },
            "type": "mesh3d"
           }
          ],
          "parcoords": [
           {
            "line": {
             "colorbar": {
              "outlinewidth": 0,
              "ticks": ""
             }
            },
            "type": "parcoords"
           }
          ],
          "pie": [
           {
            "automargin": true,
            "type": "pie"
           }
          ],
          "scatter": [
           {
            "fillpattern": {
             "fillmode": "overlay",
             "size": 10,
             "solidity": 0.2
            },
            "type": "scatter"
           }
          ],
          "scatter3d": [
           {
            "line": {
             "colorbar": {
              "outlinewidth": 0,
              "ticks": ""
             }
            },
            "marker": {
             "colorbar": {
              "outlinewidth": 0,
              "ticks": ""
             }
            },
            "type": "scatter3d"
           }
          ],
          "scattercarpet": [
           {
            "marker": {
             "colorbar": {
              "outlinewidth": 0,
              "ticks": ""
             }
            },
            "type": "scattercarpet"
           }
          ],
          "scattergeo": [
           {
            "marker": {
             "colorbar": {
              "outlinewidth": 0,
              "ticks": ""
             }
            },
            "type": "scattergeo"
           }
          ],
          "scattergl": [
           {
            "marker": {
             "colorbar": {
              "outlinewidth": 0,
              "ticks": ""
             }
            },
            "type": "scattergl"
           }
          ],
          "scattermap": [
           {
            "marker": {
             "colorbar": {
              "outlinewidth": 0,
              "ticks": ""
             }
            },
            "type": "scattermap"
           }
          ],
          "scattermapbox": [
           {
            "marker": {
             "colorbar": {
              "outlinewidth": 0,
              "ticks": ""
             }
            },
            "type": "scattermapbox"
           }
          ],
          "scatterpolar": [
           {
            "marker": {
             "colorbar": {
              "outlinewidth": 0,
              "ticks": ""
             }
            },
            "type": "scatterpolar"
           }
          ],
          "scatterpolargl": [
           {
            "marker": {
             "colorbar": {
              "outlinewidth": 0,
              "ticks": ""
             }
            },
            "type": "scatterpolargl"
           }
          ],
          "scatterternary": [
           {
            "marker": {
             "colorbar": {
              "outlinewidth": 0,
              "ticks": ""
             }
            },
            "type": "scatterternary"
           }
          ],
          "surface": [
           {
            "colorbar": {
             "outlinewidth": 0,
             "ticks": ""
            },
            "colorscale": [
             [
              0,
              "#0d0887"
             ],
             [
              0.1111111111111111,
              "#46039f"
             ],
             [
              0.2222222222222222,
              "#7201a8"
             ],
             [
              0.3333333333333333,
              "#9c179e"
             ],
             [
              0.4444444444444444,
              "#bd3786"
             ],
             [
              0.5555555555555556,
              "#d8576b"
             ],
             [
              0.6666666666666666,
              "#ed7953"
             ],
             [
              0.7777777777777778,
              "#fb9f3a"
             ],
             [
              0.8888888888888888,
              "#fdca26"
             ],
             [
              1,
              "#f0f921"
             ]
            ],
            "type": "surface"
           }
          ],
          "table": [
           {
            "cells": {
             "fill": {
              "color": "#EBF0F8"
             },
             "line": {
              "color": "white"
             }
            },
            "header": {
             "fill": {
              "color": "#C8D4E3"
             },
             "line": {
              "color": "white"
             }
            },
            "type": "table"
           }
          ]
         },
         "layout": {
          "annotationdefaults": {
           "arrowcolor": "#2a3f5f",
           "arrowhead": 0,
           "arrowwidth": 1
          },
          "autotypenumbers": "strict",
          "coloraxis": {
           "colorbar": {
            "outlinewidth": 0,
            "ticks": ""
           }
          },
          "colorscale": {
           "diverging": [
            [
             0,
             "#8e0152"
            ],
            [
             0.1,
             "#c51b7d"
            ],
            [
             0.2,
             "#de77ae"
            ],
            [
             0.3,
             "#f1b6da"
            ],
            [
             0.4,
             "#fde0ef"
            ],
            [
             0.5,
             "#f7f7f7"
            ],
            [
             0.6,
             "#e6f5d0"
            ],
            [
             0.7,
             "#b8e186"
            ],
            [
             0.8,
             "#7fbc41"
            ],
            [
             0.9,
             "#4d9221"
            ],
            [
             1,
             "#276419"
            ]
           ],
           "sequential": [
            [
             0,
             "#0d0887"
            ],
            [
             0.1111111111111111,
             "#46039f"
            ],
            [
             0.2222222222222222,
             "#7201a8"
            ],
            [
             0.3333333333333333,
             "#9c179e"
            ],
            [
             0.4444444444444444,
             "#bd3786"
            ],
            [
             0.5555555555555556,
             "#d8576b"
            ],
            [
             0.6666666666666666,
             "#ed7953"
            ],
            [
             0.7777777777777778,
             "#fb9f3a"
            ],
            [
             0.8888888888888888,
             "#fdca26"
            ],
            [
             1,
             "#f0f921"
            ]
           ],
           "sequentialminus": [
            [
             0,
             "#0d0887"
            ],
            [
             0.1111111111111111,
             "#46039f"
            ],
            [
             0.2222222222222222,
             "#7201a8"
            ],
            [
             0.3333333333333333,
             "#9c179e"
            ],
            [
             0.4444444444444444,
             "#bd3786"
            ],
            [
             0.5555555555555556,
             "#d8576b"
            ],
            [
             0.6666666666666666,
             "#ed7953"
            ],
            [
             0.7777777777777778,
             "#fb9f3a"
            ],
            [
             0.8888888888888888,
             "#fdca26"
            ],
            [
             1,
             "#f0f921"
            ]
           ]
          },
          "colorway": [
           "#636efa",
           "#EF553B",
           "#00cc96",
           "#ab63fa",
           "#FFA15A",
           "#19d3f3",
           "#FF6692",
           "#B6E880",
           "#FF97FF",
           "#FECB52"
          ],
          "font": {
           "color": "#2a3f5f"
          },
          "geo": {
           "bgcolor": "white",
           "lakecolor": "white",
           "landcolor": "#E5ECF6",
           "showlakes": true,
           "showland": true,
           "subunitcolor": "white"
          },
          "hoverlabel": {
           "align": "left"
          },
          "hovermode": "closest",
          "mapbox": {
           "style": "light"
          },
          "paper_bgcolor": "white",
          "plot_bgcolor": "#E5ECF6",
          "polar": {
           "angularaxis": {
            "gridcolor": "white",
            "linecolor": "white",
            "ticks": ""
           },
           "bgcolor": "#E5ECF6",
           "radialaxis": {
            "gridcolor": "white",
            "linecolor": "white",
            "ticks": ""
           }
          },
          "scene": {
           "xaxis": {
            "backgroundcolor": "#E5ECF6",
            "gridcolor": "white",
            "gridwidth": 2,
            "linecolor": "white",
            "showbackground": true,
            "ticks": "",
            "zerolinecolor": "white"
           },
           "yaxis": {
            "backgroundcolor": "#E5ECF6",
            "gridcolor": "white",
            "gridwidth": 2,
            "linecolor": "white",
            "showbackground": true,
            "ticks": "",
            "zerolinecolor": "white"
           },
           "zaxis": {
            "backgroundcolor": "#E5ECF6",
            "gridcolor": "white",
            "gridwidth": 2,
            "linecolor": "white",
            "showbackground": true,
            "ticks": "",
            "zerolinecolor": "white"
           }
          },
          "shapedefaults": {
           "line": {
            "color": "#2a3f5f"
           }
          },
          "ternary": {
           "aaxis": {
            "gridcolor": "white",
            "linecolor": "white",
            "ticks": ""
           },
           "baxis": {
            "gridcolor": "white",
            "linecolor": "white",
            "ticks": ""
           },
           "bgcolor": "#E5ECF6",
           "caxis": {
            "gridcolor": "white",
            "linecolor": "white",
            "ticks": ""
           }
          },
          "title": {
           "x": 0.05
          },
          "xaxis": {
           "automargin": true,
           "gridcolor": "white",
           "linecolor": "white",
           "ticks": "",
           "title": {
            "standoff": 15
           },
           "zerolinecolor": "white",
           "zerolinewidth": 2
          },
          "yaxis": {
           "automargin": true,
           "gridcolor": "white",
           "linecolor": "white",
           "ticks": "",
           "title": {
            "standoff": 15
           },
           "zerolinecolor": "white",
           "zerolinewidth": 2
          }
         }
        },
        "title": {
         "font": {
          "size": 20
         },
         "text": "<b>Elite Sales Distribution by Location and Gender</b>"
        },
        "width": 700,
        "xaxis": {
         "anchor": "y",
         "autorange": true,
         "domain": [
          0,
          1
         ],
         "range": [
          0,
          78518.3294736842
         ],
         "title": {
          "font": {
           "size": 16
          },
          "text": ""
         },
         "type": "linear"
        },
        "yaxis": {
         "anchor": "x",
         "autorange": true,
         "domain": [
          0,
          1
         ],
         "range": [
          -0.5,
          4.5
         ],
         "title": {
          "font": {
           "size": 16
          },
          "text": ""
         },
         "type": "category"
        }
       }
      }
     },
     "metadata": {},
     "output_type": "display_data"
    }
   ],
   "source": [
    "#location and gender\n",
    "\n",
    "fig = px.bar(\n",
    "    vip_summary, \n",
    "    x=\"Total_Sales\", \n",
    "    y=\"Location\", \n",
    "    color=\"Gender\", \n",
    "    orientation='h',\n",
    "    title=\"<b>Elite Sales Distribution by Location and Gender</b>\",\n",
    "    #hover_data=[\"CustomerID\", \"Quantity\"],\n",
    "    width=500,\n",
    "    height=300,\n",
    "    color_discrete_sequence=[\"#0a80bf\", \"#e88705\"]\n",
    ")\n",
    "\n",
    "fig.update_layout(yaxis_title=\"\", xaxis_title=\"\", width=700, height=350, font=dict(size=16, family=\"Arial\"),\n",
    "                  title_font_size=20, xaxis_title_font_size=16, yaxis_title_font_size=16,\n",
    "                  margin=dict(t=80, l=80, r=50, b=50))\n",
    "\n",
    "# Save as PNG (or use .jpeg, .pdf, etc.)\n",
    "fig.write_image(\"sales_loc_gender.png\", scale = 3)  \n",
    "fig.show()"
   ]
  },
  {
   "cell_type": "markdown",
   "id": "9479ed07-1281-4b3e-a6da-1d9b761c9d0b",
   "metadata": {},
   "source": [
    "![Elite sales distribution by location & gender](../images/sales_loc_gender.png)"
   ]
  },
  {
   "cell_type": "markdown",
   "id": "f7e2870f-4737-43b1-9d45-66c7fa00c360",
   "metadata": {},
   "source": [
    "#### Elite Customers by Location and Gender"
   ]
  },
  {
   "cell_type": "code",
   "execution_count": 36,
   "id": "155d7ba1-7586-409d-b259-82a807db5f11",
   "metadata": {},
   "outputs": [],
   "source": [
    "# Group by both Location and Gender, then count unique customers\n",
    "gender_summary = vip.groupby([\"Location\", \"Gender\"])[\"CustomerID\"].nunique().reset_index()\n",
    "\n",
    "# Rename the column for clarity\n",
    "gender_summary.rename(columns={\"CustomerID\": \"Unique_Customers\"}, inplace=True)"
   ]
  },
  {
   "cell_type": "code",
   "execution_count": 37,
   "id": "22f459e7-cb12-472e-96c4-d74e0552851c",
   "metadata": {},
   "outputs": [
    {
     "data": {
      "application/vnd.plotly.v1+json": {
       "config": {
        "plotlyServerURL": "https://plot.ly"
       },
       "data": [
        {
         "hovertemplate": "Gender=F<br>Unique_Customers=%{x}<br>Location=%{y}<extra></extra>",
         "legendgroup": "F",
         "marker": {
          "color": "#e88705",
          "pattern": {
           "shape": ""
          }
         },
         "name": "F",
         "orientation": "h",
         "showlegend": true,
         "textposition": "auto",
         "type": "bar",
         "x": {
          "_inputArray": {
           "0": 9,
           "1": 6,
           "2": 3,
           "3": 3,
           "4": 2,
           "bdata": "CQYDAwI=",
           "dtype": "i1",
           "shape": "5"
          },
          "bdata": "CQYDAwI=",
          "dtype": "i1"
         },
         "xaxis": "x",
         "y": [
          "California",
          "Chicago",
          "New Jersey",
          "New York",
          "Washington DC"
         ],
         "yaxis": "y"
        },
        {
         "hovertemplate": "Gender=M<br>Unique_Customers=%{x}<br>Location=%{y}<extra></extra>",
         "legendgroup": "M",
         "marker": {
          "color": "#0a80bf",
          "pattern": {
           "shape": ""
          }
         },
         "name": "M",
         "orientation": "h",
         "showlegend": true,
         "textposition": "auto",
         "type": "bar",
         "x": {
          "_inputArray": {
           "0": 4,
           "1": 9,
           "2": 1,
           "3": 3,
           "4": 1,
           "bdata": "BAkBAwE=",
           "dtype": "i1",
           "shape": "5"
          },
          "bdata": "BAkBAwE=",
          "dtype": "i1"
         },
         "xaxis": "x",
         "y": [
          "California",
          "Chicago",
          "New Jersey",
          "New York",
          "Washington DC"
         ],
         "yaxis": "y"
        }
       ],
       "layout": {
        "barmode": "relative",
        "font": {
         "family": "Arial",
         "size": 16
        },
        "height": 400,
        "legend": {
         "title": {
          "text": "Gender"
         },
         "tracegroupgap": 0
        },
        "margin": {
         "b": 50,
         "l": 100,
         "r": 50,
         "t": 80
        },
        "template": {
         "data": {
          "bar": [
           {
            "error_x": {
             "color": "#2a3f5f"
            },
            "error_y": {
             "color": "#2a3f5f"
            },
            "marker": {
             "line": {
              "color": "#E5ECF6",
              "width": 0.5
             },
             "pattern": {
              "fillmode": "overlay",
              "size": 10,
              "solidity": 0.2
             }
            },
            "type": "bar"
           }
          ],
          "barpolar": [
           {
            "marker": {
             "line": {
              "color": "#E5ECF6",
              "width": 0.5
             },
             "pattern": {
              "fillmode": "overlay",
              "size": 10,
              "solidity": 0.2
             }
            },
            "type": "barpolar"
           }
          ],
          "carpet": [
           {
            "aaxis": {
             "endlinecolor": "#2a3f5f",
             "gridcolor": "white",
             "linecolor": "white",
             "minorgridcolor": "white",
             "startlinecolor": "#2a3f5f"
            },
            "baxis": {
             "endlinecolor": "#2a3f5f",
             "gridcolor": "white",
             "linecolor": "white",
             "minorgridcolor": "white",
             "startlinecolor": "#2a3f5f"
            },
            "type": "carpet"
           }
          ],
          "choropleth": [
           {
            "colorbar": {
             "outlinewidth": 0,
             "ticks": ""
            },
            "type": "choropleth"
           }
          ],
          "contour": [
           {
            "colorbar": {
             "outlinewidth": 0,
             "ticks": ""
            },
            "colorscale": [
             [
              0,
              "#0d0887"
             ],
             [
              0.1111111111111111,
              "#46039f"
             ],
             [
              0.2222222222222222,
              "#7201a8"
             ],
             [
              0.3333333333333333,
              "#9c179e"
             ],
             [
              0.4444444444444444,
              "#bd3786"
             ],
             [
              0.5555555555555556,
              "#d8576b"
             ],
             [
              0.6666666666666666,
              "#ed7953"
             ],
             [
              0.7777777777777778,
              "#fb9f3a"
             ],
             [
              0.8888888888888888,
              "#fdca26"
             ],
             [
              1,
              "#f0f921"
             ]
            ],
            "type": "contour"
           }
          ],
          "contourcarpet": [
           {
            "colorbar": {
             "outlinewidth": 0,
             "ticks": ""
            },
            "type": "contourcarpet"
           }
          ],
          "heatmap": [
           {
            "colorbar": {
             "outlinewidth": 0,
             "ticks": ""
            },
            "colorscale": [
             [
              0,
              "#0d0887"
             ],
             [
              0.1111111111111111,
              "#46039f"
             ],
             [
              0.2222222222222222,
              "#7201a8"
             ],
             [
              0.3333333333333333,
              "#9c179e"
             ],
             [
              0.4444444444444444,
              "#bd3786"
             ],
             [
              0.5555555555555556,
              "#d8576b"
             ],
             [
              0.6666666666666666,
              "#ed7953"
             ],
             [
              0.7777777777777778,
              "#fb9f3a"
             ],
             [
              0.8888888888888888,
              "#fdca26"
             ],
             [
              1,
              "#f0f921"
             ]
            ],
            "type": "heatmap"
           }
          ],
          "histogram": [
           {
            "marker": {
             "pattern": {
              "fillmode": "overlay",
              "size": 10,
              "solidity": 0.2
             }
            },
            "type": "histogram"
           }
          ],
          "histogram2d": [
           {
            "colorbar": {
             "outlinewidth": 0,
             "ticks": ""
            },
            "colorscale": [
             [
              0,
              "#0d0887"
             ],
             [
              0.1111111111111111,
              "#46039f"
             ],
             [
              0.2222222222222222,
              "#7201a8"
             ],
             [
              0.3333333333333333,
              "#9c179e"
             ],
             [
              0.4444444444444444,
              "#bd3786"
             ],
             [
              0.5555555555555556,
              "#d8576b"
             ],
             [
              0.6666666666666666,
              "#ed7953"
             ],
             [
              0.7777777777777778,
              "#fb9f3a"
             ],
             [
              0.8888888888888888,
              "#fdca26"
             ],
             [
              1,
              "#f0f921"
             ]
            ],
            "type": "histogram2d"
           }
          ],
          "histogram2dcontour": [
           {
            "colorbar": {
             "outlinewidth": 0,
             "ticks": ""
            },
            "colorscale": [
             [
              0,
              "#0d0887"
             ],
             [
              0.1111111111111111,
              "#46039f"
             ],
             [
              0.2222222222222222,
              "#7201a8"
             ],
             [
              0.3333333333333333,
              "#9c179e"
             ],
             [
              0.4444444444444444,
              "#bd3786"
             ],
             [
              0.5555555555555556,
              "#d8576b"
             ],
             [
              0.6666666666666666,
              "#ed7953"
             ],
             [
              0.7777777777777778,
              "#fb9f3a"
             ],
             [
              0.8888888888888888,
              "#fdca26"
             ],
             [
              1,
              "#f0f921"
             ]
            ],
            "type": "histogram2dcontour"
           }
          ],
          "mesh3d": [
           {
            "colorbar": {
             "outlinewidth": 0,
             "ticks": ""
            },
            "type": "mesh3d"
           }
          ],
          "parcoords": [
           {
            "line": {
             "colorbar": {
              "outlinewidth": 0,
              "ticks": ""
             }
            },
            "type": "parcoords"
           }
          ],
          "pie": [
           {
            "automargin": true,
            "type": "pie"
           }
          ],
          "scatter": [
           {
            "fillpattern": {
             "fillmode": "overlay",
             "size": 10,
             "solidity": 0.2
            },
            "type": "scatter"
           }
          ],
          "scatter3d": [
           {
            "line": {
             "colorbar": {
              "outlinewidth": 0,
              "ticks": ""
             }
            },
            "marker": {
             "colorbar": {
              "outlinewidth": 0,
              "ticks": ""
             }
            },
            "type": "scatter3d"
           }
          ],
          "scattercarpet": [
           {
            "marker": {
             "colorbar": {
              "outlinewidth": 0,
              "ticks": ""
             }
            },
            "type": "scattercarpet"
           }
          ],
          "scattergeo": [
           {
            "marker": {
             "colorbar": {
              "outlinewidth": 0,
              "ticks": ""
             }
            },
            "type": "scattergeo"
           }
          ],
          "scattergl": [
           {
            "marker": {
             "colorbar": {
              "outlinewidth": 0,
              "ticks": ""
             }
            },
            "type": "scattergl"
           }
          ],
          "scattermap": [
           {
            "marker": {
             "colorbar": {
              "outlinewidth": 0,
              "ticks": ""
             }
            },
            "type": "scattermap"
           }
          ],
          "scattermapbox": [
           {
            "marker": {
             "colorbar": {
              "outlinewidth": 0,
              "ticks": ""
             }
            },
            "type": "scattermapbox"
           }
          ],
          "scatterpolar": [
           {
            "marker": {
             "colorbar": {
              "outlinewidth": 0,
              "ticks": ""
             }
            },
            "type": "scatterpolar"
           }
          ],
          "scatterpolargl": [
           {
            "marker": {
             "colorbar": {
              "outlinewidth": 0,
              "ticks": ""
             }
            },
            "type": "scatterpolargl"
           }
          ],
          "scatterternary": [
           {
            "marker": {
             "colorbar": {
              "outlinewidth": 0,
              "ticks": ""
             }
            },
            "type": "scatterternary"
           }
          ],
          "surface": [
           {
            "colorbar": {
             "outlinewidth": 0,
             "ticks": ""
            },
            "colorscale": [
             [
              0,
              "#0d0887"
             ],
             [
              0.1111111111111111,
              "#46039f"
             ],
             [
              0.2222222222222222,
              "#7201a8"
             ],
             [
              0.3333333333333333,
              "#9c179e"
             ],
             [
              0.4444444444444444,
              "#bd3786"
             ],
             [
              0.5555555555555556,
              "#d8576b"
             ],
             [
              0.6666666666666666,
              "#ed7953"
             ],
             [
              0.7777777777777778,
              "#fb9f3a"
             ],
             [
              0.8888888888888888,
              "#fdca26"
             ],
             [
              1,
              "#f0f921"
             ]
            ],
            "type": "surface"
           }
          ],
          "table": [
           {
            "cells": {
             "fill": {
              "color": "#EBF0F8"
             },
             "line": {
              "color": "white"
             }
            },
            "header": {
             "fill": {
              "color": "#C8D4E3"
             },
             "line": {
              "color": "white"
             }
            },
            "type": "table"
           }
          ]
         },
         "layout": {
          "annotationdefaults": {
           "arrowcolor": "#2a3f5f",
           "arrowhead": 0,
           "arrowwidth": 1
          },
          "autotypenumbers": "strict",
          "coloraxis": {
           "colorbar": {
            "outlinewidth": 0,
            "ticks": ""
           }
          },
          "colorscale": {
           "diverging": [
            [
             0,
             "#8e0152"
            ],
            [
             0.1,
             "#c51b7d"
            ],
            [
             0.2,
             "#de77ae"
            ],
            [
             0.3,
             "#f1b6da"
            ],
            [
             0.4,
             "#fde0ef"
            ],
            [
             0.5,
             "#f7f7f7"
            ],
            [
             0.6,
             "#e6f5d0"
            ],
            [
             0.7,
             "#b8e186"
            ],
            [
             0.8,
             "#7fbc41"
            ],
            [
             0.9,
             "#4d9221"
            ],
            [
             1,
             "#276419"
            ]
           ],
           "sequential": [
            [
             0,
             "#0d0887"
            ],
            [
             0.1111111111111111,
             "#46039f"
            ],
            [
             0.2222222222222222,
             "#7201a8"
            ],
            [
             0.3333333333333333,
             "#9c179e"
            ],
            [
             0.4444444444444444,
             "#bd3786"
            ],
            [
             0.5555555555555556,
             "#d8576b"
            ],
            [
             0.6666666666666666,
             "#ed7953"
            ],
            [
             0.7777777777777778,
             "#fb9f3a"
            ],
            [
             0.8888888888888888,
             "#fdca26"
            ],
            [
             1,
             "#f0f921"
            ]
           ],
           "sequentialminus": [
            [
             0,
             "#0d0887"
            ],
            [
             0.1111111111111111,
             "#46039f"
            ],
            [
             0.2222222222222222,
             "#7201a8"
            ],
            [
             0.3333333333333333,
             "#9c179e"
            ],
            [
             0.4444444444444444,
             "#bd3786"
            ],
            [
             0.5555555555555556,
             "#d8576b"
            ],
            [
             0.6666666666666666,
             "#ed7953"
            ],
            [
             0.7777777777777778,
             "#fb9f3a"
            ],
            [
             0.8888888888888888,
             "#fdca26"
            ],
            [
             1,
             "#f0f921"
            ]
           ]
          },
          "colorway": [
           "#636efa",
           "#EF553B",
           "#00cc96",
           "#ab63fa",
           "#FFA15A",
           "#19d3f3",
           "#FF6692",
           "#B6E880",
           "#FF97FF",
           "#FECB52"
          ],
          "font": {
           "color": "#2a3f5f"
          },
          "geo": {
           "bgcolor": "white",
           "lakecolor": "white",
           "landcolor": "#E5ECF6",
           "showlakes": true,
           "showland": true,
           "subunitcolor": "white"
          },
          "hoverlabel": {
           "align": "left"
          },
          "hovermode": "closest",
          "mapbox": {
           "style": "light"
          },
          "paper_bgcolor": "white",
          "plot_bgcolor": "#E5ECF6",
          "polar": {
           "angularaxis": {
            "gridcolor": "white",
            "linecolor": "white",
            "ticks": ""
           },
           "bgcolor": "#E5ECF6",
           "radialaxis": {
            "gridcolor": "white",
            "linecolor": "white",
            "ticks": ""
           }
          },
          "scene": {
           "xaxis": {
            "backgroundcolor": "#E5ECF6",
            "gridcolor": "white",
            "gridwidth": 2,
            "linecolor": "white",
            "showbackground": true,
            "ticks": "",
            "zerolinecolor": "white"
           },
           "yaxis": {
            "backgroundcolor": "#E5ECF6",
            "gridcolor": "white",
            "gridwidth": 2,
            "linecolor": "white",
            "showbackground": true,
            "ticks": "",
            "zerolinecolor": "white"
           },
           "zaxis": {
            "backgroundcolor": "#E5ECF6",
            "gridcolor": "white",
            "gridwidth": 2,
            "linecolor": "white",
            "showbackground": true,
            "ticks": "",
            "zerolinecolor": "white"
           }
          },
          "shapedefaults": {
           "line": {
            "color": "#2a3f5f"
           }
          },
          "ternary": {
           "aaxis": {
            "gridcolor": "white",
            "linecolor": "white",
            "ticks": ""
           },
           "baxis": {
            "gridcolor": "white",
            "linecolor": "white",
            "ticks": ""
           },
           "bgcolor": "#E5ECF6",
           "caxis": {
            "gridcolor": "white",
            "linecolor": "white",
            "ticks": ""
           }
          },
          "title": {
           "x": 0.05
          },
          "xaxis": {
           "automargin": true,
           "gridcolor": "white",
           "linecolor": "white",
           "ticks": "",
           "title": {
            "standoff": 15
           },
           "zerolinecolor": "white",
           "zerolinewidth": 2
          },
          "yaxis": {
           "automargin": true,
           "gridcolor": "white",
           "linecolor": "white",
           "ticks": "",
           "title": {
            "standoff": 15
           },
           "zerolinecolor": "white",
           "zerolinewidth": 2
          }
         }
        },
        "title": {
         "font": {
          "size": 20
         },
         "text": "<b>Elite Customers</b>"
        },
        "width": 600,
        "xaxis": {
         "anchor": "y",
         "autorange": true,
         "domain": [
          0,
          1
         ],
         "range": [
          0,
          15.789473684210526
         ],
         "title": {
          "font": {
           "size": 16
          },
          "text": ""
         },
         "type": "linear"
        },
        "yaxis": {
         "anchor": "x",
         "autorange": true,
         "domain": [
          0,
          1
         ],
         "range": [
          -0.5,
          4.5
         ],
         "title": {
          "font": {
           "size": 16
          },
          "text": ""
         },
         "type": "category"
        }
       }
      }
     },
     "metadata": {},
     "output_type": "display_data"
    }
   ],
   "source": [
    "fig = px.bar(\n",
    "    gender_summary, \n",
    "    x=\"Unique_Customers\", \n",
    "    y=\"Location\", \n",
    "    color=\"Gender\", \n",
    "    orientation='h',\n",
    "    title = \"<b>Elite Customers</b>\",\n",
    "    width=600,\n",
    "    height=400,\n",
    "    color_discrete_sequence=[\"#e88705\", \"#0a80bf\"]\n",
    ")\n",
    "\n",
    "fig.update_layout(yaxis_title=\"\", xaxis_title=\"\", font=dict(size=16, family=\"Arial\"),\n",
    "                  title_font_size=20, xaxis_title_font_size=16, yaxis_title_font_size=16,\n",
    "                  margin=dict(t=80, l=100, r=50, b=50))\n",
    "\n",
    "# Save as PNG (or use .jpeg, .pdf, etc.)\n",
    "fig.write_image(\"customers.png\", scale = 3)  \n",
    "fig.show()\n"
   ]
  },
  {
   "cell_type": "markdown",
   "id": "8b7081c2-2e2e-4331-9059-930bce7c55ff",
   "metadata": {},
   "source": [
    "![Elite customers](../images/customers.png)"
   ]
  },
  {
   "cell_type": "markdown",
   "id": "80898ed5-9c1c-4213-8649-f7f321b635b0",
   "metadata": {},
   "source": [
    "- Chicago and California are leading in elite sales with 44% and 33% of total sales, respectively.\n",
    "- The number of elite customers in Chicago and California is more than twice that in other locations.\n",
    "- There are more female customers than male customers in Chicago, California and Washington DC."
   ]
  },
  {
   "cell_type": "markdown",
   "id": "23df1c8f-9b8c-4c3f-9fbc-0560ea180465",
   "metadata": {},
   "source": [
    "### Product Category Analysis for High-Value Transactions"
   ]
  },
  {
   "cell_type": "markdown",
   "id": "681d340b-2cb7-432d-8709-ea7c1bab70c3",
   "metadata": {},
   "source": [
    "**Business Impact:**\n",
    "\n",
    "Discover which categories drive the most revenue from big spenders and inform inventory, promotions, and procurement."
   ]
  },
  {
   "cell_type": "code",
   "execution_count": 38,
   "id": "502970b9-de3f-44d5-bfe9-934235cf5f73",
   "metadata": {},
   "outputs": [
    {
     "data": {
      "text/html": [
       "<div>\n",
       "<style scoped>\n",
       "    .dataframe tbody tr th:only-of-type {\n",
       "        vertical-align: middle;\n",
       "    }\n",
       "\n",
       "    .dataframe tbody tr th {\n",
       "        vertical-align: top;\n",
       "    }\n",
       "\n",
       "    .dataframe thead th {\n",
       "        text-align: right;\n",
       "    }\n",
       "</style>\n",
       "<table border=\"1\" class=\"dataframe\">\n",
       "  <thead>\n",
       "    <tr style=\"text-align: right;\">\n",
       "      <th></th>\n",
       "      <th>count</th>\n",
       "      <th>sum</th>\n",
       "      <th>mean</th>\n",
       "    </tr>\n",
       "    <tr>\n",
       "      <th>Product_Category</th>\n",
       "      <th></th>\n",
       "      <th></th>\n",
       "      <th></th>\n",
       "    </tr>\n",
       "  </thead>\n",
       "  <tbody>\n",
       "    <tr>\n",
       "      <th>Apparel</th>\n",
       "      <td>26</td>\n",
       "      <td>43111.933</td>\n",
       "      <td>1658.151269</td>\n",
       "    </tr>\n",
       "    <tr>\n",
       "      <th>Notebooks &amp; Journals</th>\n",
       "      <td>12</td>\n",
       "      <td>37480.466</td>\n",
       "      <td>3123.372167</td>\n",
       "    </tr>\n",
       "    <tr>\n",
       "      <th>Office</th>\n",
       "      <td>13</td>\n",
       "      <td>25754.482</td>\n",
       "      <td>1981.114000</td>\n",
       "    </tr>\n",
       "    <tr>\n",
       "      <th>Headgear</th>\n",
       "      <td>4</td>\n",
       "      <td>22314.044</td>\n",
       "      <td>5578.511000</td>\n",
       "    </tr>\n",
       "    <tr>\n",
       "      <th>Drinkware</th>\n",
       "      <td>10</td>\n",
       "      <td>19078.737</td>\n",
       "      <td>1907.873700</td>\n",
       "    </tr>\n",
       "    <tr>\n",
       "      <th>Bags</th>\n",
       "      <td>8</td>\n",
       "      <td>12995.108</td>\n",
       "      <td>1624.388500</td>\n",
       "    </tr>\n",
       "    <tr>\n",
       "      <th>Nest</th>\n",
       "      <td>6</td>\n",
       "      <td>6835.500</td>\n",
       "      <td>1139.250000</td>\n",
       "    </tr>\n",
       "    <tr>\n",
       "      <th>Lifestyle</th>\n",
       "      <td>1</td>\n",
       "      <td>2362.500</td>\n",
       "      <td>2362.500000</td>\n",
       "    </tr>\n",
       "  </tbody>\n",
       "</table>\n",
       "</div>"
      ],
      "text/plain": [
       "                      count        sum         mean\n",
       "Product_Category                                   \n",
       "Apparel                  26  43111.933  1658.151269\n",
       "Notebooks & Journals     12  37480.466  3123.372167\n",
       "Office                   13  25754.482  1981.114000\n",
       "Headgear                  4  22314.044  5578.511000\n",
       "Drinkware                10  19078.737  1907.873700\n",
       "Bags                      8  12995.108  1624.388500\n",
       "Nest                      6   6835.500  1139.250000\n",
       "Lifestyle                 1   2362.500  2362.500000"
      ]
     },
     "execution_count": 38,
     "metadata": {},
     "output_type": "execute_result"
    }
   ],
   "source": [
    "#group elite segment by category and get summary stats on sales\n",
    "category = vip.groupby(\"Product_Category\")[\"net_sales\"].agg(\n",
    "    [\"count\", \"sum\", \"mean\"]).sort_values(\"sum\", ascending=False)\n",
    "category"
   ]
  },
  {
   "cell_type": "code",
   "execution_count": 39,
   "id": "f16a6c76-4217-45cb-b21e-73d796944384",
   "metadata": {},
   "outputs": [
    {
     "data": {
      "image/png": "[encoded data removed]",
      "text/plain": [
       "<Figure size 900x400 with 1 Axes>"
      ]
     },
     "metadata": {},
     "output_type": "display_data"
    }
   ],
   "source": [
    "# call horizontal_bars we created above to plot sales by product category\n",
    "colors = ['#ad372c' if (x > 30000)  else \"#b6b6b6\" for x in category[\"sum\"]] \n",
    "plt.figure(figsize = (9, 4))\n",
    "fig = horizontal_bars(category, x = \"sum\", y = \"Product_Category\", palette = colors)\n",
    "fig.text(x=-30, y=-1.5, s=\"Total Elite Sales by Product Category\", fontsize = 12, weight = \"bold\")\n",
    "plt.xlabel(\"\")\n",
    "plt.ylabel(\"\")\n",
    "plt.tight_layout()\n",
    "plt.savefig(\"vip sales_bycategory.png\")\n",
    "plt.show()"
   ]
  },
  {
   "cell_type": "markdown",
   "id": "1442552f-6dd7-442b-a3c2-4ad9ed0307bf",
   "metadata": {},
   "source": [
    "- Apparel and Notebooks & Journals are the leading categories sold to elite customers"
   ]
  },
  {
   "cell_type": "markdown",
   "id": "47a8f744-e535-4bce-954b-bb3ba35b3c98",
   "metadata": {},
   "source": [
    "### Distribution of transactions by category"
   ]
  },
  {
   "cell_type": "markdown",
   "id": "68e9e677-4766-473f-b616-bac8b813de31",
   "metadata": {},
   "source": [
    "**Which products are mostly bought by elite customers?**"
   ]
  },
  {
   "cell_type": "code",
   "execution_count": 40,
   "id": "0fece429-7056-4a52-acb6-232560e78736",
   "metadata": {},
   "outputs": [
    {
     "data": {
      "text/html": [
       "<div>\n",
       "<style scoped>\n",
       "    .dataframe tbody tr th:only-of-type {\n",
       "        vertical-align: middle;\n",
       "    }\n",
       "\n",
       "    .dataframe tbody tr th {\n",
       "        vertical-align: top;\n",
       "    }\n",
       "\n",
       "    .dataframe thead th {\n",
       "        text-align: right;\n",
       "    }\n",
       "</style>\n",
       "<table border=\"1\" class=\"dataframe\">\n",
       "  <thead>\n",
       "    <tr style=\"text-align: right;\">\n",
       "      <th></th>\n",
       "      <th>Transaction_ID</th>\n",
       "      <th>CustomerID</th>\n",
       "      <th>Quantity</th>\n",
       "      <th>net_sales</th>\n",
       "    </tr>\n",
       "    <tr>\n",
       "      <th>Product_Category</th>\n",
       "      <th></th>\n",
       "      <th></th>\n",
       "      <th></th>\n",
       "      <th></th>\n",
       "    </tr>\n",
       "  </thead>\n",
       "  <tbody>\n",
       "    <tr>\n",
       "      <th>Apparel</th>\n",
       "      <td>26</td>\n",
       "      <td>26</td>\n",
       "      <td>2303</td>\n",
       "      <td>43111.933</td>\n",
       "    </tr>\n",
       "    <tr>\n",
       "      <th>Notebooks &amp; Journals</th>\n",
       "      <td>12</td>\n",
       "      <td>12</td>\n",
       "      <td>3511</td>\n",
       "      <td>37480.466</td>\n",
       "    </tr>\n",
       "    <tr>\n",
       "      <th>Office</th>\n",
       "      <td>13</td>\n",
       "      <td>13</td>\n",
       "      <td>4514</td>\n",
       "      <td>25754.482</td>\n",
       "    </tr>\n",
       "    <tr>\n",
       "      <th>Headgear</th>\n",
       "      <td>4</td>\n",
       "      <td>4</td>\n",
       "      <td>1782</td>\n",
       "      <td>22314.044</td>\n",
       "    </tr>\n",
       "    <tr>\n",
       "      <th>Drinkware</th>\n",
       "      <td>10</td>\n",
       "      <td>10</td>\n",
       "      <td>2047</td>\n",
       "      <td>19078.737</td>\n",
       "    </tr>\n",
       "    <tr>\n",
       "      <th>Bags</th>\n",
       "      <td>8</td>\n",
       "      <td>8</td>\n",
       "      <td>2815</td>\n",
       "      <td>12995.108</td>\n",
       "    </tr>\n",
       "    <tr>\n",
       "      <th>Nest</th>\n",
       "      <td>6</td>\n",
       "      <td>6</td>\n",
       "      <td>29</td>\n",
       "      <td>6835.500</td>\n",
       "    </tr>\n",
       "    <tr>\n",
       "      <th>Lifestyle</th>\n",
       "      <td>1</td>\n",
       "      <td>1</td>\n",
       "      <td>750</td>\n",
       "      <td>2362.500</td>\n",
       "    </tr>\n",
       "  </tbody>\n",
       "</table>\n",
       "</div>"
      ],
      "text/plain": [
       "                      Transaction_ID  CustomerID  Quantity  net_sales\n",
       "Product_Category                                                     \n",
       "Apparel                           26          26      2303  43111.933\n",
       "Notebooks & Journals              12          12      3511  37480.466\n",
       "Office                            13          13      4514  25754.482\n",
       "Headgear                           4           4      1782  22314.044\n",
       "Drinkware                         10          10      2047  19078.737\n",
       "Bags                               8           8      2815  12995.108\n",
       "Nest                               6           6        29   6835.500\n",
       "Lifestyle                          1           1       750   2362.500"
      ]
     },
     "execution_count": 40,
     "metadata": {},
     "output_type": "execute_result"
    }
   ],
   "source": [
    "#group by category and sum quantity sold and number of transactions\n",
    "products = vip.groupby(\"Product_Category\").agg({\n",
    "    \"Transaction_ID\": \"count\",\n",
    "    \"CustomerID\": \"count\",\n",
    "    \"Quantity\": \"sum\",\n",
    "    \"net_sales\": \"sum\"\n",
    "}).sort_values(\"net_sales\", ascending = False)\n",
    "\n",
    "products"
   ]
  },
  {
   "cell_type": "code",
   "execution_count": 41,
   "id": "bed1086c-d8ce-4dcc-81f9-48651ca2a957",
   "metadata": {},
   "outputs": [
    {
     "data": {
      "application/vnd.plotly.v1+json": {
       "config": {
        "plotlyServerURL": "https://plot.ly"
       },
       "data": [
        {
         "alignmentgroup": "True",
         "hovertemplate": "Location=Chicago<br>Product_Category=%{x}<br>Quantity=%{y}<extra></extra>",
         "legendgroup": "Chicago",
         "marker": {
          "color": "#ad372c",
          "pattern": {
           "shape": ""
          }
         },
         "name": "Chicago",
         "offsetgroup": "Chicago",
         "orientation": "v",
         "showlegend": true,
         "textposition": "auto",
         "type": "bar",
         "x": [
          "Bags",
          "Office",
          "Apparel",
          "Apparel",
          "Apparel",
          "Apparel",
          "Apparel",
          "Apparel",
          "Bags",
          "Drinkware",
          "Drinkware",
          "Drinkware",
          "Drinkware",
          "Headgear",
          "Notebooks & Journals",
          "Notebooks & Journals",
          "Office",
          "Office",
          "Office",
          "Headgear",
          "Drinkware",
          "Notebooks & Journals",
          "Notebooks & Journals",
          "Office",
          "Bags",
          "Headgear",
          "Notebooks & Journals",
          "Office",
          "Office",
          "Nest",
          "Nest"
         ],
         "xaxis": "x",
         "y": {
          "_inputArray": {
           "0": 20,
           "1": 155,
           "10": 200,
           "11": 300,
           "12": 138,
           "13": 500,
           "14": 500,
           "15": 150,
           "16": 300,
           "17": 400,
           "18": 240,
           "19": 91,
           "2": 144,
           "20": 500,
           "21": 176,
           "22": 500,
           "23": 300,
           "24": 563,
           "25": 791,
           "26": 185,
           "27": 600,
           "28": 160,
           "29": 4,
           "3": 75,
           "30": 5,
           "4": 50,
           "5": 75,
           "6": 300,
           "7": 75,
           "8": 315,
           "9": 400,
           "bdata": "FACbAJAASwAyAEsALAFLADsBkAHIACwBigD0AfQBlgAsAZAB8ABbAPQBsAD0ASwBMwIXA7kAWAKgAAQABQA=",
           "dtype": "i2",
           "shape": "31"
          },
          "bdata": "FACbAJAASwAyAEsALAFLADsBkAHIACwBigD0AfQBlgAsAZAB8ABbAPQBsAD0ASwBMwIXA7kAWAKgAAQABQA=",
          "dtype": "i2"
         },
         "yaxis": "y"
        },
        {
         "alignmentgroup": "True",
         "hovertemplate": "Location=Washington DC<br>Product_Category=%{x}<br>Quantity=%{y}<extra></extra>",
         "legendgroup": "Washington DC",
         "marker": {
          "color": "gray",
          "pattern": {
           "shape": ""
          }
         },
         "name": "Washington DC",
         "offsetgroup": "Washington DC",
         "orientation": "v",
         "showlegend": true,
         "textposition": "auto",
         "type": "bar",
         "x": [
          "Apparel",
          "Bags",
          "Bags",
          "Office",
          "Notebooks & Journals",
          "Apparel"
         ],
         "xaxis": "x",
         "y": {
          "_inputArray": {
           "0": 144,
           "1": 300,
           "2": 600,
           "3": 400,
           "4": 100,
           "5": 85,
           "bdata": "kAAsAVgCkAFkAFUA",
           "dtype": "i2",
           "shape": "6"
          },
          "bdata": "kAAsAVgCkAFkAFUA",
          "dtype": "i2"
         },
         "yaxis": "y"
        },
        {
         "alignmentgroup": "True",
         "hovertemplate": "Location=New Jersey<br>Product_Category=%{x}<br>Quantity=%{y}<extra></extra>",
         "legendgroup": "New Jersey",
         "marker": {
          "color": "#b6b6b6",
          "pattern": {
           "shape": ""
          }
         },
         "name": "New Jersey",
         "offsetgroup": "New Jersey",
         "orientation": "v",
         "showlegend": true,
         "textposition": "auto",
         "type": "bar",
         "x": [
          "Office",
          "Apparel",
          "Lifestyle",
          "Office",
          "Office",
          "Bags"
         ],
         "xaxis": "x",
         "y": {
          "_inputArray": {
           "0": 500,
           "1": 22,
           "2": 750,
           "3": 600,
           "4": 400,
           "5": 500,
           "bdata": "9AEWAO4CWAKQAfQB",
           "dtype": "i2",
           "shape": "6"
          },
          "bdata": "9AEWAO4CWAKQAfQB",
          "dtype": "i2"
         },
         "yaxis": "y"
        },
        {
         "alignmentgroup": "True",
         "hovertemplate": "Location=New York<br>Product_Category=%{x}<br>Quantity=%{y}<extra></extra>",
         "legendgroup": "New York",
         "marker": {
          "color": "#0a80bf",
          "pattern": {
           "shape": ""
          }
         },
         "name": "New York",
         "offsetgroup": "New York",
         "orientation": "v",
         "showlegend": true,
         "textposition": "auto",
         "type": "bar",
         "x": [
          "Apparel",
          "Apparel",
          "Apparel",
          "Apparel",
          "Office",
          "Apparel",
          "Apparel",
          "Apparel",
          "Apparel",
          "Drinkware",
          "Nest"
         ],
         "xaxis": "x",
         "y": {
          "_inputArray": {
           "0": 55,
           "1": 37,
           "10": 4,
           "2": 42,
           "3": 55,
           "4": 250,
           "5": 36,
           "6": 36,
           "7": 36,
           "8": 144,
           "9": 80,
           "bdata": "NwAlACoANwD6ACQAJAAkAJAAUAAEAA==",
           "dtype": "i2",
           "shape": "11"
          },
          "bdata": "NwAlACoANwD6ACQAJAAkAJAAUAAEAA==",
          "dtype": "i2"
         },
         "yaxis": "y"
        },
        {
         "alignmentgroup": "True",
         "hovertemplate": "Location=California<br>Product_Category=%{x}<br>Quantity=%{y}<extra></extra>",
         "legendgroup": "California",
         "marker": {
          "color": "#dc7f18",
          "pattern": {
           "shape": ""
          }
         },
         "name": "California",
         "offsetgroup": "California",
         "orientation": "v",
         "showlegend": true,
         "textposition": "auto",
         "type": "bar",
         "x": [
          "Apparel",
          "Apparel",
          "Apparel",
          "Drinkware",
          "Notebooks & Journals",
          "Notebooks & Journals",
          "Drinkware",
          "Apparel",
          "Apparel",
          "Apparel",
          "Apparel",
          "Apparel",
          "Apparel",
          "Bags",
          "Notebooks & Journals",
          "Notebooks & Journals",
          "Headgear",
          "Notebooks & Journals",
          "Notebooks & Journals",
          "Bags",
          "Nest",
          "Nest",
          "Nest",
          "Drinkware",
          "Drinkware",
          "Office"
         ],
         "xaxis": "x",
         "y": {
          "_inputArray": {
           "0": 91,
           "1": 50,
           "10": 70,
           "11": 72,
           "12": 150,
           "13": 500,
           "14": 300,
           "15": 300,
           "16": 400,
           "17": 400,
           "18": 300,
           "19": 17,
           "2": 95,
           "20": 5,
           "21": 6,
           "22": 5,
           "23": 102,
           "24": 102,
           "25": 209,
           "3": 115,
           "4": 400,
           "5": 200,
           "6": 110,
           "7": 144,
           "8": 144,
           "9": 76,
           "bdata": "WwAyAF8AcwCQAcgAbgCQAJAATABGAEgAlgD0ASwBLAGQAZABLAERAAUABgAFAGYAZgDRAA==",
           "dtype": "i2",
           "shape": "26"
          },
          "bdata": "WwAyAF8AcwCQAcgAbgCQAJAATABGAEgAlgD0ASwBLAGQAZABLAERAAUABgAFAGYAZgDRAA==",
          "dtype": "i2"
         },
         "yaxis": "y"
        }
       ],
       "layout": {
        "barmode": "group",
        "font": {
         "family": "Arial",
         "size": 16
        },
        "height": 650,
        "legend": {
         "title": {
          "text": "Location"
         },
         "tracegroupgap": 0
        },
        "margin": {
         "b": 50,
         "l": 100,
         "r": 50,
         "t": 80
        },
        "template": {
         "data": {
          "bar": [
           {
            "error_x": {
             "color": "#2a3f5f"
            },
            "error_y": {
             "color": "#2a3f5f"
            },
            "marker": {
             "line": {
              "color": "#E5ECF6",
              "width": 0.5
             },
             "pattern": {
              "fillmode": "overlay",
              "size": 10,
              "solidity": 0.2
             }
            },
            "type": "bar"
           }
          ],
          "barpolar": [
           {
            "marker": {
             "line": {
              "color": "#E5ECF6",
              "width": 0.5
             },
             "pattern": {
              "fillmode": "overlay",
              "size": 10,
              "solidity": 0.2
             }
            },
            "type": "barpolar"
           }
          ],
          "carpet": [
           {
            "aaxis": {
             "endlinecolor": "#2a3f5f",
             "gridcolor": "white",
             "linecolor": "white",
             "minorgridcolor": "white",
             "startlinecolor": "#2a3f5f"
            },
            "baxis": {
             "endlinecolor": "#2a3f5f",
             "gridcolor": "white",
             "linecolor": "white",
             "minorgridcolor": "white",
             "startlinecolor": "#2a3f5f"
            },
            "type": "carpet"
           }
          ],
          "choropleth": [
           {
            "colorbar": {
             "outlinewidth": 0,
             "ticks": ""
            },
            "type": "choropleth"
           }
          ],
          "contour": [
           {
            "colorbar": {
             "outlinewidth": 0,
             "ticks": ""
            },
            "colorscale": [
             [
              0,
              "#0d0887"
             ],
             [
              0.1111111111111111,
              "#46039f"
             ],
             [
              0.2222222222222222,
              "#7201a8"
             ],
             [
              0.3333333333333333,
              "#9c179e"
             ],
             [
              0.4444444444444444,
              "#bd3786"
             ],
             [
              0.5555555555555556,
              "#d8576b"
             ],
             [
              0.6666666666666666,
              "#ed7953"
             ],
             [
              0.7777777777777778,
              "#fb9f3a"
             ],
             [
              0.8888888888888888,
              "#fdca26"
             ],
             [
              1,
              "#f0f921"
             ]
            ],
            "type": "contour"
           }
          ],
          "contourcarpet": [
           {
            "colorbar": {
             "outlinewidth": 0,
             "ticks": ""
            },
            "type": "contourcarpet"
           }
          ],
          "heatmap": [
           {
            "colorbar": {
             "outlinewidth": 0,
             "ticks": ""
            },
            "colorscale": [
             [
              0,
              "#0d0887"
             ],
             [
              0.1111111111111111,
              "#46039f"
             ],
             [
              0.2222222222222222,
              "#7201a8"
             ],
             [
              0.3333333333333333,
              "#9c179e"
             ],
             [
              0.4444444444444444,
              "#bd3786"
             ],
             [
              0.5555555555555556,
              "#d8576b"
             ],
             [
              0.6666666666666666,
              "#ed7953"
             ],
             [
              0.7777777777777778,
              "#fb9f3a"
             ],
             [
              0.8888888888888888,
              "#fdca26"
             ],
             [
              1,
              "#f0f921"
             ]
            ],
            "type": "heatmap"
           }
          ],
          "histogram": [
           {
            "marker": {
             "pattern": {
              "fillmode": "overlay",
              "size": 10,
              "solidity": 0.2
             }
            },
            "type": "histogram"
           }
          ],
          "histogram2d": [
           {
            "colorbar": {
             "outlinewidth": 0,
             "ticks": ""
            },
            "colorscale": [
             [
              0,
              "#0d0887"
             ],
             [
              0.1111111111111111,
              "#46039f"
             ],
             [
              0.2222222222222222,
              "#7201a8"
             ],
             [
              0.3333333333333333,
              "#9c179e"
             ],
             [
              0.4444444444444444,
              "#bd3786"
             ],
             [
              0.5555555555555556,
              "#d8576b"
             ],
             [
              0.6666666666666666,
              "#ed7953"
             ],
             [
              0.7777777777777778,
              "#fb9f3a"
             ],
             [
              0.8888888888888888,
              "#fdca26"
             ],
             [
              1,
              "#f0f921"
             ]
            ],
            "type": "histogram2d"
           }
          ],
          "histogram2dcontour": [
           {
            "colorbar": {
             "outlinewidth": 0,
             "ticks": ""
            },
            "colorscale": [
             [
              0,
              "#0d0887"
             ],
             [
              0.1111111111111111,
              "#46039f"
             ],
             [
              0.2222222222222222,
              "#7201a8"
             ],
             [
              0.3333333333333333,
              "#9c179e"
             ],
             [
              0.4444444444444444,
              "#bd3786"
             ],
             [
              0.5555555555555556,
              "#d8576b"
             ],
             [
              0.6666666666666666,
              "#ed7953"
             ],
             [
              0.7777777777777778,
              "#fb9f3a"
             ],
             [
              0.8888888888888888,
              "#fdca26"
             ],
             [
              1,
              "#f0f921"
             ]
            ],
            "type": "histogram2dcontour"
           }
          ],
          "mesh3d": [
           {
            "colorbar": {
             "outlinewidth": 0,
             "ticks": ""
            },
            "type": "mesh3d"
           }
          ],
          "parcoords": [
           {
            "line": {
             "colorbar": {
              "outlinewidth": 0,
              "ticks": ""
             }
            },
            "type": "parcoords"
           }
          ],
          "pie": [
           {
            "automargin": true,
            "type": "pie"
           }
          ],
          "scatter": [
           {
            "fillpattern": {
             "fillmode": "overlay",
             "size": 10,
             "solidity": 0.2
            },
            "type": "scatter"
           }
          ],
          "scatter3d": [
           {
            "line": {
             "colorbar": {
              "outlinewidth": 0,
              "ticks": ""
             }
            },
            "marker": {
             "colorbar": {
              "outlinewidth": 0,
              "ticks": ""
             }
            },
            "type": "scatter3d"
           }
          ],
          "scattercarpet": [
           {
            "marker": {
             "colorbar": {
              "outlinewidth": 0,
              "ticks": ""
             }
            },
            "type": "scattercarpet"
           }
          ],
          "scattergeo": [
           {
            "marker": {
             "colorbar": {
              "outlinewidth": 0,
              "ticks": ""
             }
            },
            "type": "scattergeo"
           }
          ],
          "scattergl": [
           {
            "marker": {
             "colorbar": {
              "outlinewidth": 0,
              "ticks": ""
             }
            },
            "type": "scattergl"
           }
          ],
          "scattermap": [
           {
            "marker": {
             "colorbar": {
              "outlinewidth": 0,
              "ticks": ""
             }
            },
            "type": "scattermap"
           }
          ],
          "scattermapbox": [
           {
            "marker": {
             "colorbar": {
              "outlinewidth": 0,
              "ticks": ""
             }
            },
            "type": "scattermapbox"
           }
          ],
          "scatterpolar": [
           {
            "marker": {
             "colorbar": {
              "outlinewidth": 0,
              "ticks": ""
             }
            },
            "type": "scatterpolar"
           }
          ],
          "scatterpolargl": [
           {
            "marker": {
             "colorbar": {
              "outlinewidth": 0,
              "ticks": ""
             }
            },
            "type": "scatterpolargl"
           }
          ],
          "scatterternary": [
           {
            "marker": {
             "colorbar": {
              "outlinewidth": 0,
              "ticks": ""
             }
            },
            "type": "scatterternary"
           }
          ],
          "surface": [
           {
            "colorbar": {
             "outlinewidth": 0,
             "ticks": ""
            },
            "colorscale": [
             [
              0,
              "#0d0887"
             ],
             [
              0.1111111111111111,
              "#46039f"
             ],
             [
              0.2222222222222222,
              "#7201a8"
             ],
             [
              0.3333333333333333,
              "#9c179e"
             ],
             [
              0.4444444444444444,
              "#bd3786"
             ],
             [
              0.5555555555555556,
              "#d8576b"
             ],
             [
              0.6666666666666666,
              "#ed7953"
             ],
             [
              0.7777777777777778,
              "#fb9f3a"
             ],
             [
              0.8888888888888888,
              "#fdca26"
             ],
             [
              1,
              "#f0f921"
             ]
            ],
            "type": "surface"
           }
          ],
          "table": [
           {
            "cells": {
             "fill": {
              "color": "#EBF0F8"
             },
             "line": {
              "color": "white"
             }
            },
            "header": {
             "fill": {
              "color": "#C8D4E3"
             },
             "line": {
              "color": "white"
             }
            },
            "type": "table"
           }
          ]
         },
         "layout": {
          "annotationdefaults": {
           "arrowcolor": "#2a3f5f",
           "arrowhead": 0,
           "arrowwidth": 1
          },
          "autotypenumbers": "strict",
          "coloraxis": {
           "colorbar": {
            "outlinewidth": 0,
            "ticks": ""
           }
          },
          "colorscale": {
           "diverging": [
            [
             0,
             "#8e0152"
            ],
            [
             0.1,
             "#c51b7d"
            ],
            [
             0.2,
             "#de77ae"
            ],
            [
             0.3,
             "#f1b6da"
            ],
            [
             0.4,
             "#fde0ef"
            ],
            [
             0.5,
             "#f7f7f7"
            ],
            [
             0.6,
             "#e6f5d0"
            ],
            [
             0.7,
             "#b8e186"
            ],
            [
             0.8,
             "#7fbc41"
            ],
            [
             0.9,
             "#4d9221"
            ],
            [
             1,
             "#276419"
            ]
           ],
           "sequential": [
            [
             0,
             "#0d0887"
            ],
            [
             0.1111111111111111,
             "#46039f"
            ],
            [
             0.2222222222222222,
             "#7201a8"
            ],
            [
             0.3333333333333333,
             "#9c179e"
            ],
            [
             0.4444444444444444,
             "#bd3786"
            ],
            [
             0.5555555555555556,
             "#d8576b"
            ],
            [
             0.6666666666666666,
             "#ed7953"
            ],
            [
             0.7777777777777778,
             "#fb9f3a"
            ],
            [
             0.8888888888888888,
             "#fdca26"
            ],
            [
             1,
             "#f0f921"
            ]
           ],
           "sequentialminus": [
            [
             0,
             "#0d0887"
            ],
            [
             0.1111111111111111,
             "#46039f"
            ],
            [
             0.2222222222222222,
             "#7201a8"
            ],
            [
             0.3333333333333333,
             "#9c179e"
            ],
            [
             0.4444444444444444,
             "#bd3786"
            ],
            [
             0.5555555555555556,
             "#d8576b"
            ],
            [
             0.6666666666666666,
             "#ed7953"
            ],
            [
             0.7777777777777778,
             "#fb9f3a"
            ],
            [
             0.8888888888888888,
             "#fdca26"
            ],
            [
             1,
             "#f0f921"
            ]
           ]
          },
          "colorway": [
           "#636efa",
           "#EF553B",
           "#00cc96",
           "#ab63fa",
           "#FFA15A",
           "#19d3f3",
           "#FF6692",
           "#B6E880",
           "#FF97FF",
           "#FECB52"
          ],
          "font": {
           "color": "#2a3f5f"
          },
          "geo": {
           "bgcolor": "white",
           "lakecolor": "white",
           "landcolor": "#E5ECF6",
           "showlakes": true,
           "showland": true,
           "subunitcolor": "white"
          },
          "hoverlabel": {
           "align": "left"
          },
          "hovermode": "closest",
          "mapbox": {
           "style": "light"
          },
          "paper_bgcolor": "white",
          "plot_bgcolor": "#E5ECF6",
          "polar": {
           "angularaxis": {
            "gridcolor": "white",
            "linecolor": "white",
            "ticks": ""
           },
           "bgcolor": "#E5ECF6",
           "radialaxis": {
            "gridcolor": "white",
            "linecolor": "white",
            "ticks": ""
           }
          },
          "scene": {
           "xaxis": {
            "backgroundcolor": "#E5ECF6",
            "gridcolor": "white",
            "gridwidth": 2,
            "linecolor": "white",
            "showbackground": true,
            "ticks": "",
            "zerolinecolor": "white"
           },
           "yaxis": {
            "backgroundcolor": "#E5ECF6",
            "gridcolor": "white",
            "gridwidth": 2,
            "linecolor": "white",
            "showbackground": true,
            "ticks": "",
            "zerolinecolor": "white"
           },
           "zaxis": {
            "backgroundcolor": "#E5ECF6",
            "gridcolor": "white",
            "gridwidth": 2,
            "linecolor": "white",
            "showbackground": true,
            "ticks": "",
            "zerolinecolor": "white"
           }
          },
          "shapedefaults": {
           "line": {
            "color": "#2a3f5f"
           }
          },
          "ternary": {
           "aaxis": {
            "gridcolor": "white",
            "linecolor": "white",
            "ticks": ""
           },
           "baxis": {
            "gridcolor": "white",
            "linecolor": "white",
            "ticks": ""
           },
           "bgcolor": "#E5ECF6",
           "caxis": {
            "gridcolor": "white",
            "linecolor": "white",
            "ticks": ""
           }
          },
          "title": {
           "x": 0.05
          },
          "xaxis": {
           "automargin": true,
           "gridcolor": "white",
           "linecolor": "white",
           "ticks": "",
           "title": {
            "standoff": 15
           },
           "zerolinecolor": "white",
           "zerolinewidth": 2
          },
          "yaxis": {
           "automargin": true,
           "gridcolor": "white",
           "linecolor": "white",
           "ticks": "",
           "title": {
            "standoff": 15
           },
           "zerolinecolor": "white",
           "zerolinewidth": 2
          }
         }
        },
        "title": {
         "font": {
          "size": 20
         },
         "text": "<b>Quantity Sold to Elite Customers by Category and Location</b>"
        },
        "width": 950,
        "xaxis": {
         "anchor": "y",
         "autorange": true,
         "domain": [
          0,
          1
         ],
         "range": [
          -0.5,
          7.5
         ],
         "tickangle": -45,
         "title": {
          "font": {
           "size": 16
          },
          "text": ""
         },
         "type": "category"
        },
        "yaxis": {
         "anchor": "x",
         "autorange": true,
         "domain": [
          0,
          1
         ],
         "range": [
          0,
          2268.421052631579
         ],
         "title": {
          "font": {
           "size": 16
          },
          "text": ""
         },
         "type": "linear"
        }
       }
      }
     },
     "metadata": {},
     "output_type": "display_data"
    }
   ],
   "source": [
    "#visualize results\n",
    "fig = px.bar(\n",
    "    vip,\n",
    "    x = \"Product_Category\",         \n",
    "    y = \"Quantity\",\n",
    "    color = \"Location\",  \n",
    "    barmode=\"group\",\n",
    "    title = \"<b>Quantity Sold to Elite Customers by Category and Location</b>\",\n",
    "    width=950,\n",
    "    height=650,\n",
    "    color_discrete_sequence=[\"#ad372c\", \"gray\", \"#b6b6b6\", \"#0a80bf\", \"#dc7f18\"]\n",
    ")\n",
    "\n",
    "fig.update_layout(yaxis_title=\"\", xaxis_title=\"\", font=dict(size=16, family=\"Arial\"),\n",
    "                  title_font_size=20, xaxis_title_font_size=16, yaxis_title_font_size=16,\n",
    "                  margin=dict(t=80, l=100, r=50, b=50))\n",
    "fig.update_xaxes(tickangle= -45)\n",
    "\n",
    "# Save as PNG (or use .jpeg, .pdf, etc.)\n",
    "fig.write_image(\"vip_quantity.png\", scale = 3)  \n",
    "fig.show()"
   ]
  },
  {
   "cell_type": "markdown",
   "id": "883f88cf-d592-4dba-a438-fd38e9f2b4fd",
   "metadata": {},
   "source": [
    "![Quantity sold to Elite customers by location](../images/vip_quantity.png)"
   ]
  },
  {
   "cell_type": "markdown",
   "id": "6b2e9168-334b-4a76-bfe6-3e5dd236f41b",
   "metadata": {},
   "source": [
    "## Temporal Trends of High-Value Transactions\n",
    "\n",
    "### **Business Impact:**\n",
    "\n",
    "Identify seasonality, campaign impact, or anomalies in high-value sales to optimize timing for marketing and restocking."
   ]
  },
  {
   "cell_type": "code",
   "execution_count": 42,
   "id": "58602bcf-648b-4768-acb7-254c2862b943",
   "metadata": {},
   "outputs": [
    {
     "data": {
      "text/html": [
       "<div>\n",
       "<style scoped>\n",
       "    .dataframe tbody tr th:only-of-type {\n",
       "        vertical-align: middle;\n",
       "    }\n",
       "\n",
       "    .dataframe tbody tr th {\n",
       "        vertical-align: top;\n",
       "    }\n",
       "\n",
       "    .dataframe thead th {\n",
       "        text-align: right;\n",
       "    }\n",
       "</style>\n",
       "<table border=\"1\" class=\"dataframe\">\n",
       "  <thead>\n",
       "    <tr style=\"text-align: right;\">\n",
       "      <th></th>\n",
       "      <th>Transaction_Date</th>\n",
       "      <th>net_sales</th>\n",
       "      <th>Month</th>\n",
       "    </tr>\n",
       "  </thead>\n",
       "  <tbody>\n",
       "    <tr>\n",
       "      <th>0</th>\n",
       "      <td>2019-01</td>\n",
       "      <td>2802.015</td>\n",
       "      <td>2019-01-01</td>\n",
       "    </tr>\n",
       "    <tr>\n",
       "      <th>1</th>\n",
       "      <td>2019-02</td>\n",
       "      <td>8371.648</td>\n",
       "      <td>2019-02-01</td>\n",
       "    </tr>\n",
       "    <tr>\n",
       "      <th>2</th>\n",
       "      <td>2019-03</td>\n",
       "      <td>7213.927</td>\n",
       "      <td>2019-03-01</td>\n",
       "    </tr>\n",
       "    <tr>\n",
       "      <th>3</th>\n",
       "      <td>2019-04</td>\n",
       "      <td>75827.133</td>\n",
       "      <td>2019-04-01</td>\n",
       "    </tr>\n",
       "    <tr>\n",
       "      <th>4</th>\n",
       "      <td>2019-05</td>\n",
       "      <td>1105.832</td>\n",
       "      <td>2019-05-01</td>\n",
       "    </tr>\n",
       "    <tr>\n",
       "      <th>5</th>\n",
       "      <td>2019-06</td>\n",
       "      <td>4316.522</td>\n",
       "      <td>2019-06-01</td>\n",
       "    </tr>\n",
       "    <tr>\n",
       "      <th>6</th>\n",
       "      <td>2019-07</td>\n",
       "      <td>27824.472</td>\n",
       "      <td>2019-07-01</td>\n",
       "    </tr>\n",
       "    <tr>\n",
       "      <th>7</th>\n",
       "      <td>2019-08</td>\n",
       "      <td>27735.008</td>\n",
       "      <td>2019-08-01</td>\n",
       "    </tr>\n",
       "    <tr>\n",
       "      <th>8</th>\n",
       "      <td>2019-09</td>\n",
       "      <td>1010.905</td>\n",
       "      <td>2019-09-01</td>\n",
       "    </tr>\n",
       "    <tr>\n",
       "      <th>9</th>\n",
       "      <td>2019-10</td>\n",
       "      <td>5544.027</td>\n",
       "      <td>2019-10-01</td>\n",
       "    </tr>\n",
       "    <tr>\n",
       "      <th>10</th>\n",
       "      <td>2019-11</td>\n",
       "      <td>3571.200</td>\n",
       "      <td>2019-11-01</td>\n",
       "    </tr>\n",
       "    <tr>\n",
       "      <th>11</th>\n",
       "      <td>2019-12</td>\n",
       "      <td>4610.081</td>\n",
       "      <td>2019-12-01</td>\n",
       "    </tr>\n",
       "  </tbody>\n",
       "</table>\n",
       "</div>"
      ],
      "text/plain": [
       "   Transaction_Date  net_sales      Month\n",
       "0           2019-01   2802.015 2019-01-01\n",
       "1           2019-02   8371.648 2019-02-01\n",
       "2           2019-03   7213.927 2019-03-01\n",
       "3           2019-04  75827.133 2019-04-01\n",
       "4           2019-05   1105.832 2019-05-01\n",
       "5           2019-06   4316.522 2019-06-01\n",
       "6           2019-07  27824.472 2019-07-01\n",
       "7           2019-08  27735.008 2019-08-01\n",
       "8           2019-09   1010.905 2019-09-01\n",
       "9           2019-10   5544.027 2019-10-01\n",
       "10          2019-11   3571.200 2019-11-01\n",
       "11          2019-12   4610.081 2019-12-01"
      ]
     },
     "execution_count": 42,
     "metadata": {},
     "output_type": "execute_result"
    }
   ],
   "source": [
    "#change transaction date to datetime\n",
    "vip[\"Transaction_Date\"] = pd.to_datetime(vip[\"Transaction_Date_x\"])\n",
    "\n",
    "#group by month and calculate total monthly sales\n",
    "monthly_trend = vip.groupby(vip[\"Transaction_Date\"].dt.to_period(\"M\"))[\"net_sales\"].sum().reset_index()\n",
    "monthly_trend[\"Month\"] = monthly_trend[\"Transaction_Date\"].dt.to_timestamp()\n",
    "monthly_trend\n"
   ]
  },
  {
   "cell_type": "code",
   "execution_count": 43,
   "id": "212b129e-1f58-46f2-bbc7-96d4f6fab9e8",
   "metadata": {},
   "outputs": [],
   "source": [
    "vip[\"Transaction_Date\"] = pd.to_datetime(vip[\"Transaction_Date_x\"])\n",
    "\n",
    "# Create a 'Month' column for grouping\n",
    "vip[\"Monthly\"] = vip[\"Transaction_Date\"].dt.month_name()\n",
    "\n",
    "# aggregate by month since we have multiple transactions per month\n",
    "# Plotly will plot all points unless we don't aggregate, so for a clean trend line we aggregate first:\n",
    "\n",
    "monthly_trend = vip.groupby(\"Monthly\")[\"net_sales\"].sum().reset_index()\n",
    "\n",
    "month_order = [\n",
    "    'January', 'February', 'March', 'April', 'May', 'June',\n",
    "    'July', 'August', 'September', 'October', 'November', 'December'\n",
    "]\n",
    "\n",
    "# Convert month column to categorical type\n",
    "monthly_trend['Monthly'] = pd.Categorical(monthly_trend['Monthly'], categories=month_order, ordered=True)\n",
    "\n",
    "# Sort by calendar order\n",
    "monthly_trend = monthly_trend.sort_values('Monthly')\n"
   ]
  },
  {
   "cell_type": "code",
   "execution_count": 44,
   "id": "4b645c4c-70dd-4975-a92a-7dbe83372c94",
   "metadata": {},
   "outputs": [
    {
     "data": {
      "application/vnd.plotly.v1+json": {
       "config": {
        "plotlyServerURL": "https://plot.ly"
       },
       "data": [
        {
         "hovertemplate": "Monthly=%{x}<br>net_sales=%{y}<extra></extra>",
         "legendgroup": "",
         "line": {
          "color": "#0a80bf",
          "dash": "solid"
         },
         "marker": {
          "symbol": "circle"
         },
         "mode": "lines+markers",
         "name": "",
         "orientation": "v",
         "showlegend": false,
         "type": "scatter",
         "x": [
          "January",
          "February",
          "March",
          "April",
          "May",
          "June",
          "July",
          "August",
          "September",
          "October",
          "November",
          "December"
         ],
         "xaxis": "x",
         "y": {
          "_inputArray": {
           "0": 2802.0150000000003,
           "1": 8371.648000000001,
           "10": 3571.2,
           "11": 4610.080999999999,
           "2": 7213.927,
           "3": 75827.133,
           "4": 1105.832,
           "5": 4316.521999999999,
           "6": 27824.472,
           "7": 27735.008,
           "8": 1010.9049999999999,
           "9": 5544.027,
           "bdata": "4noUrgfkpUDo+6nx0lnAQGQ730/tLbxAppvEIDKD8kAX2c73U0eRQILAyqGF3LBA7nw/NR4s20CYbhKDwBXbQAnXo3A9l49A/tR46QaotUBmZmZmZuarQPl+arwUArJA",
           "dtype": "f8",
           "shape": "12"
          },
          "bdata": "4noUrgfkpUDo+6nx0lnAQGQ730/tLbxAppvEIDKD8kAX2c73U0eRQILAyqGF3LBA7nw/NR4s20CYbhKDwBXbQAnXo3A9l49A/tR46QaotUBmZmZmZuarQPl+arwUArJA",
          "dtype": "f8"
         },
         "yaxis": "y"
        }
       ],
       "layout": {
        "font": {
         "family": "Arial",
         "size": 16
        },
        "height": 450,
        "legend": {
         "tracegroupgap": 0
        },
        "margin": {
         "b": 50,
         "l": 100,
         "r": 50,
         "t": 80
        },
        "template": {
         "data": {
          "bar": [
           {
            "error_x": {
             "color": "#2a3f5f"
            },
            "error_y": {
             "color": "#2a3f5f"
            },
            "marker": {
             "line": {
              "color": "#E5ECF6",
              "width": 0.5
             },
             "pattern": {
              "fillmode": "overlay",
              "size": 10,
              "solidity": 0.2
             }
            },
            "type": "bar"
           }
          ],
          "barpolar": [
           {
            "marker": {
             "line": {
              "color": "#E5ECF6",
              "width": 0.5
             },
             "pattern": {
              "fillmode": "overlay",
              "size": 10,
              "solidity": 0.2
             }
            },
            "type": "barpolar"
           }
          ],
          "carpet": [
           {
            "aaxis": {
             "endlinecolor": "#2a3f5f",
             "gridcolor": "white",
             "linecolor": "white",
             "minorgridcolor": "white",
             "startlinecolor": "#2a3f5f"
            },
            "baxis": {
             "endlinecolor": "#2a3f5f",
             "gridcolor": "white",
             "linecolor": "white",
             "minorgridcolor": "white",
             "startlinecolor": "#2a3f5f"
            },
            "type": "carpet"
           }
          ],
          "choropleth": [
           {
            "colorbar": {
             "outlinewidth": 0,
             "ticks": ""
            },
            "type": "choropleth"
           }
          ],
          "contour": [
           {
            "colorbar": {
             "outlinewidth": 0,
             "ticks": ""
            },
            "colorscale": [
             [
              0,
              "#0d0887"
             ],
             [
              0.1111111111111111,
              "#46039f"
             ],
             [
              0.2222222222222222,
              "#7201a8"
             ],
             [
              0.3333333333333333,
              "#9c179e"
             ],
             [
              0.4444444444444444,
              "#bd3786"
             ],
             [
              0.5555555555555556,
              "#d8576b"
             ],
             [
              0.6666666666666666,
              "#ed7953"
             ],
             [
              0.7777777777777778,
              "#fb9f3a"
             ],
             [
              0.8888888888888888,
              "#fdca26"
             ],
             [
              1,
              "#f0f921"
             ]
            ],
            "type": "contour"
           }
          ],
          "contourcarpet": [
           {
            "colorbar": {
             "outlinewidth": 0,
             "ticks": ""
            },
            "type": "contourcarpet"
           }
          ],
          "heatmap": [
           {
            "colorbar": {
             "outlinewidth": 0,
             "ticks": ""
            },
            "colorscale": [
             [
              0,
              "#0d0887"
             ],
             [
              0.1111111111111111,
              "#46039f"
             ],
             [
              0.2222222222222222,
              "#7201a8"
             ],
             [
              0.3333333333333333,
              "#9c179e"
             ],
             [
              0.4444444444444444,
              "#bd3786"
             ],
             [
              0.5555555555555556,
              "#d8576b"
             ],
             [
              0.6666666666666666,
              "#ed7953"
             ],
             [
              0.7777777777777778,
              "#fb9f3a"
             ],
             [
              0.8888888888888888,
              "#fdca26"
             ],
             [
              1,
              "#f0f921"
             ]
            ],
            "type": "heatmap"
           }
          ],
          "histogram": [
           {
            "marker": {
             "pattern": {
              "fillmode": "overlay",
              "size": 10,
              "solidity": 0.2
             }
            },
            "type": "histogram"
           }
          ],
          "histogram2d": [
           {
            "colorbar": {
             "outlinewidth": 0,
             "ticks": ""
            },
            "colorscale": [
             [
              0,
              "#0d0887"
             ],
             [
              0.1111111111111111,
              "#46039f"
             ],
             [
              0.2222222222222222,
              "#7201a8"
             ],
             [
              0.3333333333333333,
              "#9c179e"
             ],
             [
              0.4444444444444444,
              "#bd3786"
             ],
             [
              0.5555555555555556,
              "#d8576b"
             ],
             [
              0.6666666666666666,
              "#ed7953"
             ],
             [
              0.7777777777777778,
              "#fb9f3a"
             ],
             [
              0.8888888888888888,
              "#fdca26"
             ],
             [
              1,
              "#f0f921"
             ]
            ],
            "type": "histogram2d"
           }
          ],
          "histogram2dcontour": [
           {
            "colorbar": {
             "outlinewidth": 0,
             "ticks": ""
            },
            "colorscale": [
             [
              0,
              "#0d0887"
             ],
             [
              0.1111111111111111,
              "#46039f"
             ],
             [
              0.2222222222222222,
              "#7201a8"
             ],
             [
              0.3333333333333333,
              "#9c179e"
             ],
             [
              0.4444444444444444,
              "#bd3786"
             ],
             [
              0.5555555555555556,
              "#d8576b"
             ],
             [
              0.6666666666666666,
              "#ed7953"
             ],
             [
              0.7777777777777778,
              "#fb9f3a"
             ],
             [
              0.8888888888888888,
              "#fdca26"
             ],
             [
              1,
              "#f0f921"
             ]
            ],
            "type": "histogram2dcontour"
           }
          ],
          "mesh3d": [
           {
            "colorbar": {
             "outlinewidth": 0,
             "ticks": ""
            },
            "type": "mesh3d"
           }
          ],
          "parcoords": [
           {
            "line": {
             "colorbar": {
              "outlinewidth": 0,
              "ticks": ""
             }
            },
            "type": "parcoords"
           }
          ],
          "pie": [
           {
            "automargin": true,
            "type": "pie"
           }
          ],
          "scatter": [
           {
            "fillpattern": {
             "fillmode": "overlay",
             "size": 10,
             "solidity": 0.2
            },
            "type": "scatter"
           }
          ],
          "scatter3d": [
           {
            "line": {
             "colorbar": {
              "outlinewidth": 0,
              "ticks": ""
             }
            },
            "marker": {
             "colorbar": {
              "outlinewidth": 0,
              "ticks": ""
             }
            },
            "type": "scatter3d"
           }
          ],
          "scattercarpet": [
           {
            "marker": {
             "colorbar": {
              "outlinewidth": 0,
              "ticks": ""
             }
            },
            "type": "scattercarpet"
           }
          ],
          "scattergeo": [
           {
            "marker": {
             "colorbar": {
              "outlinewidth": 0,
              "ticks": ""
             }
            },
            "type": "scattergeo"
           }
          ],
          "scattergl": [
           {
            "marker": {
             "colorbar": {
              "outlinewidth": 0,
              "ticks": ""
             }
            },
            "type": "scattergl"
           }
          ],
          "scattermap": [
           {
            "marker": {
             "colorbar": {
              "outlinewidth": 0,
              "ticks": ""
             }
            },
            "type": "scattermap"
           }
          ],
          "scattermapbox": [
           {
            "marker": {
             "colorbar": {
              "outlinewidth": 0,
              "ticks": ""
             }
            },
            "type": "scattermapbox"
           }
          ],
          "scatterpolar": [
           {
            "marker": {
             "colorbar": {
              "outlinewidth": 0,
              "ticks": ""
             }
            },
            "type": "scatterpolar"
           }
          ],
          "scatterpolargl": [
           {
            "marker": {
             "colorbar": {
              "outlinewidth": 0,
              "ticks": ""
             }
            },
            "type": "scatterpolargl"
           }
          ],
          "scatterternary": [
           {
            "marker": {
             "colorbar": {
              "outlinewidth": 0,
              "ticks": ""
             }
            },
            "type": "scatterternary"
           }
          ],
          "surface": [
           {
            "colorbar": {
             "outlinewidth": 0,
             "ticks": ""
            },
            "colorscale": [
             [
              0,
              "#0d0887"
             ],
             [
              0.1111111111111111,
              "#46039f"
             ],
             [
              0.2222222222222222,
              "#7201a8"
             ],
             [
              0.3333333333333333,
              "#9c179e"
             ],
             [
              0.4444444444444444,
              "#bd3786"
             ],
             [
              0.5555555555555556,
              "#d8576b"
             ],
             [
              0.6666666666666666,
              "#ed7953"
             ],
             [
              0.7777777777777778,
              "#fb9f3a"
             ],
             [
              0.8888888888888888,
              "#fdca26"
             ],
             [
              1,
              "#f0f921"
             ]
            ],
            "type": "surface"
           }
          ],
          "table": [
           {
            "cells": {
             "fill": {
              "color": "#EBF0F8"
             },
             "line": {
              "color": "white"
             }
            },
            "header": {
             "fill": {
              "color": "#C8D4E3"
             },
             "line": {
              "color": "white"
             }
            },
            "type": "table"
           }
          ]
         },
         "layout": {
          "annotationdefaults": {
           "arrowcolor": "#2a3f5f",
           "arrowhead": 0,
           "arrowwidth": 1
          },
          "autotypenumbers": "strict",
          "coloraxis": {
           "colorbar": {
            "outlinewidth": 0,
            "ticks": ""
           }
          },
          "colorscale": {
           "diverging": [
            [
             0,
             "#8e0152"
            ],
            [
             0.1,
             "#c51b7d"
            ],
            [
             0.2,
             "#de77ae"
            ],
            [
             0.3,
             "#f1b6da"
            ],
            [
             0.4,
             "#fde0ef"
            ],
            [
             0.5,
             "#f7f7f7"
            ],
            [
             0.6,
             "#e6f5d0"
            ],
            [
             0.7,
             "#b8e186"
            ],
            [
             0.8,
             "#7fbc41"
            ],
            [
             0.9,
             "#4d9221"
            ],
            [
             1,
             "#276419"
            ]
           ],
           "sequential": [
            [
             0,
             "#0d0887"
            ],
            [
             0.1111111111111111,
             "#46039f"
            ],
            [
             0.2222222222222222,
             "#7201a8"
            ],
            [
             0.3333333333333333,
             "#9c179e"
            ],
            [
             0.4444444444444444,
             "#bd3786"
            ],
            [
             0.5555555555555556,
             "#d8576b"
            ],
            [
             0.6666666666666666,
             "#ed7953"
            ],
            [
             0.7777777777777778,
             "#fb9f3a"
            ],
            [
             0.8888888888888888,
             "#fdca26"
            ],
            [
             1,
             "#f0f921"
            ]
           ],
           "sequentialminus": [
            [
             0,
             "#0d0887"
            ],
            [
             0.1111111111111111,
             "#46039f"
            ],
            [
             0.2222222222222222,
             "#7201a8"
            ],
            [
             0.3333333333333333,
             "#9c179e"
            ],
            [
             0.4444444444444444,
             "#bd3786"
            ],
            [
             0.5555555555555556,
             "#d8576b"
            ],
            [
             0.6666666666666666,
             "#ed7953"
            ],
            [
             0.7777777777777778,
             "#fb9f3a"
            ],
            [
             0.8888888888888888,
             "#fdca26"
            ],
            [
             1,
             "#f0f921"
            ]
           ]
          },
          "colorway": [
           "#636efa",
           "#EF553B",
           "#00cc96",
           "#ab63fa",
           "#FFA15A",
           "#19d3f3",
           "#FF6692",
           "#B6E880",
           "#FF97FF",
           "#FECB52"
          ],
          "font": {
           "color": "#2a3f5f"
          },
          "geo": {
           "bgcolor": "white",
           "lakecolor": "white",
           "landcolor": "#E5ECF6",
           "showlakes": true,
           "showland": true,
           "subunitcolor": "white"
          },
          "hoverlabel": {
           "align": "left"
          },
          "hovermode": "closest",
          "mapbox": {
           "style": "light"
          },
          "paper_bgcolor": "white",
          "plot_bgcolor": "#E5ECF6",
          "polar": {
           "angularaxis": {
            "gridcolor": "white",
            "linecolor": "white",
            "ticks": ""
           },
           "bgcolor": "#E5ECF6",
           "radialaxis": {
            "gridcolor": "white",
            "linecolor": "white",
            "ticks": ""
           }
          },
          "scene": {
           "xaxis": {
            "backgroundcolor": "#E5ECF6",
            "gridcolor": "white",
            "gridwidth": 2,
            "linecolor": "white",
            "showbackground": true,
            "ticks": "",
            "zerolinecolor": "white"
           },
           "yaxis": {
            "backgroundcolor": "#E5ECF6",
            "gridcolor": "white",
            "gridwidth": 2,
            "linecolor": "white",
            "showbackground": true,
            "ticks": "",
            "zerolinecolor": "white"
           },
           "zaxis": {
            "backgroundcolor": "#E5ECF6",
            "gridcolor": "white",
            "gridwidth": 2,
            "linecolor": "white",
            "showbackground": true,
            "ticks": "",
            "zerolinecolor": "white"
           }
          },
          "shapedefaults": {
           "line": {
            "color": "#2a3f5f"
           }
          },
          "ternary": {
           "aaxis": {
            "gridcolor": "white",
            "linecolor": "white",
            "ticks": ""
           },
           "baxis": {
            "gridcolor": "white",
            "linecolor": "white",
            "ticks": ""
           },
           "bgcolor": "#E5ECF6",
           "caxis": {
            "gridcolor": "white",
            "linecolor": "white",
            "ticks": ""
           }
          },
          "title": {
           "x": 0.05
          },
          "xaxis": {
           "automargin": true,
           "gridcolor": "white",
           "linecolor": "white",
           "ticks": "",
           "title": {
            "standoff": 15
           },
           "zerolinecolor": "white",
           "zerolinewidth": 2
          },
          "yaxis": {
           "automargin": true,
           "gridcolor": "white",
           "linecolor": "white",
           "ticks": "",
           "title": {
            "standoff": 15
           },
           "zerolinecolor": "white",
           "zerolinewidth": 2
          }
         }
        },
        "title": {
         "font": {
          "size": 20
         },
         "text": "<b>Monthly Elite Sales<b>"
        },
        "width": 800,
        "xaxis": {
         "anchor": "y",
         "autorange": true,
         "domain": [
          0,
          1
         ],
         "range": [
          -0.6904761904761906,
          11.69047619047619
         ],
         "tickangle": -45,
         "title": {
          "font": {
           "size": 16
          },
          "text": ""
         },
         "type": "category"
        },
        "yaxis": {
         "anchor": "x",
         "autorange": true,
         "domain": [
          0,
          1
         ],
         "range": [
          -4527.353012411348,
          81365.39101241135
         ],
         "title": {
          "font": {
           "size": 16
          },
          "text": "Total Net Sales"
         },
         "type": "linear"
        }
       }
      }
     },
     "metadata": {},
     "output_type": "display_data"
    }
   ],
   "source": [
    "#visualize monthly sales\n",
    "fig = px.line(\n",
    "    monthly_trend,\n",
    "    x=\"Monthly\",\n",
    "    y=\"net_sales\",\n",
    "    markers=True,\n",
    "    title=\"<b>Monthly Elite Sales<b>\",\n",
    "    color_discrete_sequence=[\"#0a80bf\"]\n",
    ")\n",
    "\n",
    "fig.update_layout(yaxis_title=\"Total Net Sales\", width=800, height=450, xaxis_title=\"\", \n",
    "                  font=dict(size=16, family=\"Arial\"), title_font_size=20, \n",
    "                  xaxis_title_font_size=16, yaxis_title_font_size=16,\n",
    "                  margin=dict(t=80, l=100, r=50, b=50))\n",
    "fig.update_xaxes(tickangle= -45)\n",
    "\n",
    "# Save as PNG (or use .jpeg, .pdf, etc.)\n",
    "fig.write_image(\"monthly_sales.png\", scale = 3)  \n",
    "\n",
    "fig.show()"
   ]
  },
  {
   "cell_type": "markdown",
   "id": "f661c733-f2a9-4139-a3e5-e5cdba11e0a4",
   "metadata": {},
   "source": [
    "![High value monthly sales](../images/monthly_sales.png)"
   ]
  },
  {
   "cell_type": "markdown",
   "id": "4dfc8548-e7ee-4bb7-a905-95f8ff662a81",
   "metadata": {},
   "source": [
    "There was a spike of sales in April"
   ]
  },
  {
   "cell_type": "markdown",
   "id": "33152118-04e9-4b43-8fa6-221f53c9c932",
   "metadata": {},
   "source": [
    "#### Aggregate Transaction counts over time"
   ]
  },
  {
   "cell_type": "code",
   "execution_count": 45,
   "id": "3e5ebca0-ad20-4680-9dd1-a3c42dcb9a39",
   "metadata": {},
   "outputs": [
    {
     "data": {
      "application/vnd.plotly.v1+json": {
       "config": {
        "plotlyServerURL": "https://plot.ly"
       },
       "data": [
        {
         "hovertemplate": "Transaction_Date=%{x}<br>transaction_count=%{y}<extra></extra>",
         "legendgroup": "",
         "line": {
          "color": "#0a80bf",
          "dash": "solid"
         },
         "marker": {
          "symbol": "circle"
         },
         "mode": "lines+markers",
         "name": "",
         "orientation": "v",
         "showlegend": false,
         "type": "scatter",
         "x": [
          "2019-01-18",
          "2019-01-24",
          "2019-02-09",
          "2019-02-14",
          "2019-03-24",
          "2019-03-28",
          "2019-04-04",
          "2019-04-05",
          "2019-04-07",
          "2019-04-13",
          "2019-04-14",
          "2019-04-18",
          "2019-04-19",
          "2019-04-22",
          "2019-04-27",
          "2019-05-05",
          "2019-06-14",
          "2019-06-28",
          "2019-07-13",
          "2019-07-18",
          "2019-07-31",
          "2019-08-02",
          "2019-08-04",
          "2019-08-08",
          "2019-08-23",
          "2019-08-30",
          "2019-09-13",
          "2019-10-03",
          "2019-10-04",
          "2019-10-17",
          "2019-10-20",
          "2019-10-24",
          "2019-11-08",
          "2019-11-13",
          "2019-11-21",
          "2019-12-15"
         ],
         "xaxis": "x",
         "y": {
          "_inputArray": {
           "0": 1,
           "1": 1,
           "10": 1,
           "11": 9,
           "12": 3,
           "13": 1,
           "14": 3,
           "15": 1,
           "16": 1,
           "17": 2,
           "18": 4,
           "19": 8,
           "2": 1,
           "20": 1,
           "21": 3,
           "22": 2,
           "23": 1,
           "24": 2,
           "25": 1,
           "26": 1,
           "27": 1,
           "28": 1,
           "29": 1,
           "3": 4,
           "30": 1,
           "31": 1,
           "32": 1,
           "33": 1,
           "34": 1,
           "35": 3,
           "4": 4,
           "5": 1,
           "6": 1,
           "7": 10,
           "8": 1,
           "9": 1,
           "bdata": "AQEBBAQBAQoBAQEJAwEDAQECBAgBAwIBAgEBAQEBAQEBAQED",
           "dtype": "i1",
           "shape": "36"
          },
          "bdata": "AQEBBAQBAQoBAQEJAwEDAQECBAgBAwIBAgEBAQEBAQEBAQED",
          "dtype": "i1"
         },
         "yaxis": "y"
        }
       ],
       "layout": {
        "font": {
         "family": "Arial",
         "size": 16
        },
        "height": 450,
        "legend": {
         "tracegroupgap": 0
        },
        "margin": {
         "b": 50,
         "l": 100,
         "r": 50,
         "t": 80
        },
        "template": {
         "data": {
          "bar": [
           {
            "error_x": {
             "color": "#2a3f5f"
            },
            "error_y": {
             "color": "#2a3f5f"
            },
            "marker": {
             "line": {
              "color": "#E5ECF6",
              "width": 0.5
             },
             "pattern": {
              "fillmode": "overlay",
              "size": 10,
              "solidity": 0.2
             }
            },
            "type": "bar"
           }
          ],
          "barpolar": [
           {
            "marker": {
             "line": {
              "color": "#E5ECF6",
              "width": 0.5
             },
             "pattern": {
              "fillmode": "overlay",
              "size": 10,
              "solidity": 0.2
             }
            },
            "type": "barpolar"
           }
          ],
          "carpet": [
           {
            "aaxis": {
             "endlinecolor": "#2a3f5f",
             "gridcolor": "white",
             "linecolor": "white",
             "minorgridcolor": "white",
             "startlinecolor": "#2a3f5f"
            },
            "baxis": {
             "endlinecolor": "#2a3f5f",
             "gridcolor": "white",
             "linecolor": "white",
             "minorgridcolor": "white",
             "startlinecolor": "#2a3f5f"
            },
            "type": "carpet"
           }
          ],
          "choropleth": [
           {
            "colorbar": {
             "outlinewidth": 0,
             "ticks": ""
            },
            "type": "choropleth"
           }
          ],
          "contour": [
           {
            "colorbar": {
             "outlinewidth": 0,
             "ticks": ""
            },
            "colorscale": [
             [
              0,
              "#0d0887"
             ],
             [
              0.1111111111111111,
              "#46039f"
             ],
             [
              0.2222222222222222,
              "#7201a8"
             ],
             [
              0.3333333333333333,
              "#9c179e"
             ],
             [
              0.4444444444444444,
              "#bd3786"
             ],
             [
              0.5555555555555556,
              "#d8576b"
             ],
             [
              0.6666666666666666,
              "#ed7953"
             ],
             [
              0.7777777777777778,
              "#fb9f3a"
             ],
             [
              0.8888888888888888,
              "#fdca26"
             ],
             [
              1,
              "#f0f921"
             ]
            ],
            "type": "contour"
           }
          ],
          "contourcarpet": [
           {
            "colorbar": {
             "outlinewidth": 0,
             "ticks": ""
            },
            "type": "contourcarpet"
           }
          ],
          "heatmap": [
           {
            "colorbar": {
             "outlinewidth": 0,
             "ticks": ""
            },
            "colorscale": [
             [
              0,
              "#0d0887"
             ],
             [
              0.1111111111111111,
              "#46039f"
             ],
             [
              0.2222222222222222,
              "#7201a8"
             ],
             [
              0.3333333333333333,
              "#9c179e"
             ],
             [
              0.4444444444444444,
              "#bd3786"
             ],
             [
              0.5555555555555556,
              "#d8576b"
             ],
             [
              0.6666666666666666,
              "#ed7953"
             ],
             [
              0.7777777777777778,
              "#fb9f3a"
             ],
             [
              0.8888888888888888,
              "#fdca26"
             ],
             [
              1,
              "#f0f921"
             ]
            ],
            "type": "heatmap"
           }
          ],
          "histogram": [
           {
            "marker": {
             "pattern": {
              "fillmode": "overlay",
              "size": 10,
              "solidity": 0.2
             }
            },
            "type": "histogram"
           }
          ],
          "histogram2d": [
           {
            "colorbar": {
             "outlinewidth": 0,
             "ticks": ""
            },
            "colorscale": [
             [
              0,
              "#0d0887"
             ],
             [
              0.1111111111111111,
              "#46039f"
             ],
             [
              0.2222222222222222,
              "#7201a8"
             ],
             [
              0.3333333333333333,
              "#9c179e"
             ],
             [
              0.4444444444444444,
              "#bd3786"
             ],
             [
              0.5555555555555556,
              "#d8576b"
             ],
             [
              0.6666666666666666,
              "#ed7953"
             ],
             [
              0.7777777777777778,
              "#fb9f3a"
             ],
             [
              0.8888888888888888,
              "#fdca26"
             ],
             [
              1,
              "#f0f921"
             ]
            ],
            "type": "histogram2d"
           }
          ],
          "histogram2dcontour": [
           {
            "colorbar": {
             "outlinewidth": 0,
             "ticks": ""
            },
            "colorscale": [
             [
              0,
              "#0d0887"
             ],
             [
              0.1111111111111111,
              "#46039f"
             ],
             [
              0.2222222222222222,
              "#7201a8"
             ],
             [
              0.3333333333333333,
              "#9c179e"
             ],
             [
              0.4444444444444444,
              "#bd3786"
             ],
             [
              0.5555555555555556,
              "#d8576b"
             ],
             [
              0.6666666666666666,
              "#ed7953"
             ],
             [
              0.7777777777777778,
              "#fb9f3a"
             ],
             [
              0.8888888888888888,
              "#fdca26"
             ],
             [
              1,
              "#f0f921"
             ]
            ],
            "type": "histogram2dcontour"
           }
          ],
          "mesh3d": [
           {
            "colorbar": {
             "outlinewidth": 0,
             "ticks": ""
            },
            "type": "mesh3d"
           }
          ],
          "parcoords": [
           {
            "line": {
             "colorbar": {
              "outlinewidth": 0,
              "ticks": ""
             }
            },
            "type": "parcoords"
           }
          ],
          "pie": [
           {
            "automargin": true,
            "type": "pie"
           }
          ],
          "scatter": [
           {
            "fillpattern": {
             "fillmode": "overlay",
             "size": 10,
             "solidity": 0.2
            },
            "type": "scatter"
           }
          ],
          "scatter3d": [
           {
            "line": {
             "colorbar": {
              "outlinewidth": 0,
              "ticks": ""
             }
            },
            "marker": {
             "colorbar": {
              "outlinewidth": 0,
              "ticks": ""
             }
            },
            "type": "scatter3d"
           }
          ],
          "scattercarpet": [
           {
            "marker": {
             "colorbar": {
              "outlinewidth": 0,
              "ticks": ""
             }
            },
            "type": "scattercarpet"
           }
          ],
          "scattergeo": [
           {
            "marker": {
             "colorbar": {
              "outlinewidth": 0,
              "ticks": ""
             }
            },
            "type": "scattergeo"
           }
          ],
          "scattergl": [
           {
            "marker": {
             "colorbar": {
              "outlinewidth": 0,
              "ticks": ""
             }
            },
            "type": "scattergl"
           }
          ],
          "scattermap": [
           {
            "marker": {
             "colorbar": {
              "outlinewidth": 0,
              "ticks": ""
             }
            },
            "type": "scattermap"
           }
          ],
          "scattermapbox": [
           {
            "marker": {
             "colorbar": {
              "outlinewidth": 0,
              "ticks": ""
             }
            },
            "type": "scattermapbox"
           }
          ],
          "scatterpolar": [
           {
            "marker": {
             "colorbar": {
              "outlinewidth": 0,
              "ticks": ""
             }
            },
            "type": "scatterpolar"
           }
          ],
          "scatterpolargl": [
           {
            "marker": {
             "colorbar": {
              "outlinewidth": 0,
              "ticks": ""
             }
            },
            "type": "scatterpolargl"
           }
          ],
          "scatterternary": [
           {
            "marker": {
             "colorbar": {
              "outlinewidth": 0,
              "ticks": ""
             }
            },
            "type": "scatterternary"
           }
          ],
          "surface": [
           {
            "colorbar": {
             "outlinewidth": 0,
             "ticks": ""
            },
            "colorscale": [
             [
              0,
              "#0d0887"
             ],
             [
              0.1111111111111111,
              "#46039f"
             ],
             [
              0.2222222222222222,
              "#7201a8"
             ],
             [
              0.3333333333333333,
              "#9c179e"
             ],
             [
              0.4444444444444444,
              "#bd3786"
             ],
             [
              0.5555555555555556,
              "#d8576b"
             ],
             [
              0.6666666666666666,
              "#ed7953"
             ],
             [
              0.7777777777777778,
              "#fb9f3a"
             ],
             [
              0.8888888888888888,
              "#fdca26"
             ],
             [
              1,
              "#f0f921"
             ]
            ],
            "type": "surface"
           }
          ],
          "table": [
           {
            "cells": {
             "fill": {
              "color": "#EBF0F8"
             },
             "line": {
              "color": "white"
             }
            },
            "header": {
             "fill": {
              "color": "#C8D4E3"
             },
             "line": {
              "color": "white"
             }
            },
            "type": "table"
           }
          ]
         },
         "layout": {
          "annotationdefaults": {
           "arrowcolor": "#2a3f5f",
           "arrowhead": 0,
           "arrowwidth": 1
          },
          "autotypenumbers": "strict",
          "coloraxis": {
           "colorbar": {
            "outlinewidth": 0,
            "ticks": ""
           }
          },
          "colorscale": {
           "diverging": [
            [
             0,
             "#8e0152"
            ],
            [
             0.1,
             "#c51b7d"
            ],
            [
             0.2,
             "#de77ae"
            ],
            [
             0.3,
             "#f1b6da"
            ],
            [
             0.4,
             "#fde0ef"
            ],
            [
             0.5,
             "#f7f7f7"
            ],
            [
             0.6,
             "#e6f5d0"
            ],
            [
             0.7,
             "#b8e186"
            ],
            [
             0.8,
             "#7fbc41"
            ],
            [
             0.9,
             "#4d9221"
            ],
            [
             1,
             "#276419"
            ]
           ],
           "sequential": [
            [
             0,
             "#0d0887"
            ],
            [
             0.1111111111111111,
             "#46039f"
            ],
            [
             0.2222222222222222,
             "#7201a8"
            ],
            [
             0.3333333333333333,
             "#9c179e"
            ],
            [
             0.4444444444444444,
             "#bd3786"
            ],
            [
             0.5555555555555556,
             "#d8576b"
            ],
            [
             0.6666666666666666,
             "#ed7953"
            ],
            [
             0.7777777777777778,
             "#fb9f3a"
            ],
            [
             0.8888888888888888,
             "#fdca26"
            ],
            [
             1,
             "#f0f921"
            ]
           ],
           "sequentialminus": [
            [
             0,
             "#0d0887"
            ],
            [
             0.1111111111111111,
             "#46039f"
            ],
            [
             0.2222222222222222,
             "#7201a8"
            ],
            [
             0.3333333333333333,
             "#9c179e"
            ],
            [
             0.4444444444444444,
             "#bd3786"
            ],
            [
             0.5555555555555556,
             "#d8576b"
            ],
            [
             0.6666666666666666,
             "#ed7953"
            ],
            [
             0.7777777777777778,
             "#fb9f3a"
            ],
            [
             0.8888888888888888,
             "#fdca26"
            ],
            [
             1,
             "#f0f921"
            ]
           ]
          },
          "colorway": [
           "#636efa",
           "#EF553B",
           "#00cc96",
           "#ab63fa",
           "#FFA15A",
           "#19d3f3",
           "#FF6692",
           "#B6E880",
           "#FF97FF",
           "#FECB52"
          ],
          "font": {
           "color": "#2a3f5f"
          },
          "geo": {
           "bgcolor": "white",
           "lakecolor": "white",
           "landcolor": "#E5ECF6",
           "showlakes": true,
           "showland": true,
           "subunitcolor": "white"
          },
          "hoverlabel": {
           "align": "left"
          },
          "hovermode": "closest",
          "mapbox": {
           "style": "light"
          },
          "paper_bgcolor": "white",
          "plot_bgcolor": "#E5ECF6",
          "polar": {
           "angularaxis": {
            "gridcolor": "white",
            "linecolor": "white",
            "ticks": ""
           },
           "bgcolor": "#E5ECF6",
           "radialaxis": {
            "gridcolor": "white",
            "linecolor": "white",
            "ticks": ""
           }
          },
          "scene": {
           "xaxis": {
            "backgroundcolor": "#E5ECF6",
            "gridcolor": "white",
            "gridwidth": 2,
            "linecolor": "white",
            "showbackground": true,
            "ticks": "",
            "zerolinecolor": "white"
           },
           "yaxis": {
            "backgroundcolor": "#E5ECF6",
            "gridcolor": "white",
            "gridwidth": 2,
            "linecolor": "white",
            "showbackground": true,
            "ticks": "",
            "zerolinecolor": "white"
           },
           "zaxis": {
            "backgroundcolor": "#E5ECF6",
            "gridcolor": "white",
            "gridwidth": 2,
            "linecolor": "white",
            "showbackground": true,
            "ticks": "",
            "zerolinecolor": "white"
           }
          },
          "shapedefaults": {
           "line": {
            "color": "#2a3f5f"
           }
          },
          "ternary": {
           "aaxis": {
            "gridcolor": "white",
            "linecolor": "white",
            "ticks": ""
           },
           "baxis": {
            "gridcolor": "white",
            "linecolor": "white",
            "ticks": ""
           },
           "bgcolor": "#E5ECF6",
           "caxis": {
            "gridcolor": "white",
            "linecolor": "white",
            "ticks": ""
           }
          },
          "title": {
           "x": 0.05
          },
          "xaxis": {
           "automargin": true,
           "gridcolor": "white",
           "linecolor": "white",
           "ticks": "",
           "title": {
            "standoff": 15
           },
           "zerolinecolor": "white",
           "zerolinewidth": 2
          },
          "yaxis": {
           "automargin": true,
           "gridcolor": "white",
           "linecolor": "white",
           "ticks": "",
           "title": {
            "standoff": 15
           },
           "zerolinecolor": "white",
           "zerolinewidth": 2
          }
         }
        },
        "title": {
         "font": {
          "size": 20
         },
         "text": "<b>Elite Transactions Over Time</b>"
        },
        "width": 800,
        "xaxis": {
         "anchor": "y",
         "autorange": true,
         "domain": [
          0,
          1
         ],
         "range": [
          "2018-12-28 05:21:02.3377",
          "2020-01-04 18:38:57.6623"
         ],
         "title": {
          "font": {
           "size": 16
          },
          "text": ""
         },
         "type": "date"
        },
        "yaxis": {
         "anchor": "x",
         "autorange": true,
         "domain": [
          0,
          1
         ],
         "range": [
          0.3623348017621145,
          10.637665198237885
         ],
         "title": {
          "font": {
           "size": 16
          },
          "text": "Number of Transactions"
         },
         "type": "linear"
        }
       }
      }
     },
     "metadata": {},
     "output_type": "display_data"
    }
   ],
   "source": [
    "# transactions per day\n",
    "# Group by date for transaction count\n",
    "daily_counts = vip.groupby(vip[\"Transaction_Date\"].dt.date).size().reset_index(name=\"transaction_count\")\n",
    "\n",
    "\n",
    "#visualize\n",
    "fig1 = px.line(daily_counts, x=\"Transaction_Date\", y=\"transaction_count\", markers=True, \n",
    "               title=\"<b>Elite Transactions Over Time</b>\", width=800, height=450,\n",
    "              color_discrete_sequence=[\"#0a80bf\"])\n",
    "fig1.update_layout(xaxis_title=\"\", yaxis_title=\"Number of Transactions\", \n",
    "                  font=dict(size=16, family=\"Arial\"), title_font_size=20, \n",
    "                  xaxis_title_font_size=16, yaxis_title_font_size=16,\n",
    "                  margin=dict(t=80, l=100, r=50, b=50))\n",
    "\n",
    "# Save as PNG (or use .jpeg, .pdf, etc.)\n",
    "fig1.write_image(\"transactions_overtime.png\", scale = 3)  \n",
    "fig1.show()"
   ]
  },
  {
   "cell_type": "markdown",
   "id": "bee2aff8-47a9-4a23-a09a-2bc4f3d49c92",
   "metadata": {},
   "source": [
    "![High value transactions over time](../images/transactions_overtime.png)"
   ]
  },
  {
   "cell_type": "code",
   "execution_count": 46,
   "id": "c153b8b9-7508-4646-8755-491fcfa097f9",
   "metadata": {},
   "outputs": [
    {
     "data": {
      "application/vnd.plotly.v1+json": {
       "config": {
        "plotlyServerURL": "https://plot.ly"
       },
       "data": [
        {
         "hovertemplate": "Transaction_Date=%{x}<br>net_sales=%{y}<extra></extra>",
         "legendgroup": "",
         "line": {
          "color": "#0a80bf",
          "dash": "solid"
         },
         "marker": {
          "symbol": "circle"
         },
         "mode": "lines+markers",
         "name": "",
         "orientation": "v",
         "showlegend": false,
         "type": "scatter",
         "x": [
          "2019-01-18T00:00:00",
          "2019-01-24T00:00:00",
          "2019-02-09T00:00:00",
          "2019-02-14T00:00:00",
          "2019-03-24T00:00:00",
          "2019-03-28T00:00:00",
          "2019-04-04T00:00:00",
          "2019-04-05T00:00:00",
          "2019-04-07T00:00:00",
          "2019-04-13T00:00:00",
          "2019-04-14T00:00:00",
          "2019-04-18T00:00:00",
          "2019-04-19T00:00:00",
          "2019-04-22T00:00:00",
          "2019-04-27T00:00:00",
          "2019-05-05T00:00:00",
          "2019-06-14T00:00:00",
          "2019-06-28T00:00:00",
          "2019-07-13T00:00:00",
          "2019-07-18T00:00:00",
          "2019-07-31T00:00:00",
          "2019-08-02T00:00:00",
          "2019-08-04T00:00:00",
          "2019-08-08T00:00:00",
          "2019-08-23T00:00:00",
          "2019-08-30T00:00:00",
          "2019-09-13T00:00:00",
          "2019-10-03T00:00:00",
          "2019-10-04T00:00:00",
          "2019-10-17T00:00:00",
          "2019-10-20T00:00:00",
          "2019-10-24T00:00:00",
          "2019-11-08T00:00:00",
          "2019-11-13T00:00:00",
          "2019-11-21T00:00:00",
          "2019-12-15T00:00:00"
         ],
         "xaxis": "x",
         "y": {
          "_inputArray": {
           "0": 1390.815,
           "1": 1411.2,
           "10": 1033.9650000000001,
           "11": 22572.621,
           "12": 3303.8280000000004,
           "13": 1034.6399999999999,
           "14": 8087.958,
           "15": 1105.832,
           "16": 1107.792,
           "17": 3208.7299999999996,
           "18": 6961.248,
           "19": 19517.724000000002,
           "2": 1596,
           "20": 1345.5,
           "21": 13776.312,
           "22": 2944.2960000000003,
           "23": 1420.8000000000002,
           "24": 8394.400000000001,
           "25": 1199.2,
           "26": 1010.9049999999999,
           "27": 1070.847,
           "28": 1255.5,
           "29": 1004.4,
           "3": 6775.648000000001,
           "30": 1004.4,
           "31": 1208.8799999999999,
           "32": 1339.2,
           "33": 1116,
           "34": 1116,
           "35": 4610.080999999999,
           "4": 5290.677,
           "5": 1923.2499999999998,
           "6": 1078.65,
           "7": 36337.104,
           "8": 1247.202,
           "9": 1131.1650000000002,
           "bdata": "9ihcj0K7lUDNzMzMzAyWQAAAAAAA8JhA0PdT46V3ukBkO99Praq0QP//////DJ5AmpmZmZnakEDZzvdTI77hQCuHFtnOfJNAXY/C9aiskUCQwvUo3CeQQLTIdr4nC9ZALrKd76fPqUDC9ShcjyqQQJHtfD/1l79AF9nO91NHkUC6SQwCK0+RQChcj8J1EalAaJHtfD8xu0CUGARWbg/TQAAAAAAABpVALbKd7yfoykA830+NlwCnQDQzMzMzM5ZANDMzMzNlwEDNzMzMzLySQAnXo3A9l49A2c73U2O7kEAAAAAAAJ6TQDMzMzMzY49AMzMzMzNjj0DrUbgeheOSQM3MzMzM7JRAAAAAAABwkUAAAAAAAHCRQPl+arwUArJA",
           "dtype": "f8",
           "shape": "36"
          },
          "bdata": "9ihcj0K7lUDNzMzMzAyWQAAAAAAA8JhA0PdT46V3ukBkO99Praq0QP//////DJ5AmpmZmZnakEDZzvdTI77hQCuHFtnOfJNAXY/C9aiskUCQwvUo3CeQQLTIdr4nC9ZALrKd76fPqUDC9ShcjyqQQJHtfD/1l79AF9nO91NHkUC6SQwCK0+RQChcj8J1EalAaJHtfD8xu0CUGARWbg/TQAAAAAAABpVALbKd7yfoykA830+NlwCnQDQzMzMzM5ZANDMzMzNlwEDNzMzMzLySQAnXo3A9l49A2c73U2O7kEAAAAAAAJ6TQDMzMzMzY49AMzMzMzNjj0DrUbgeheOSQM3MzMzM7JRAAAAAAABwkUAAAAAAAHCRQPl+arwUArJA",
          "dtype": "f8"
         },
         "yaxis": "y"
        }
       ],
       "layout": {
        "font": {
         "family": "Arial",
         "size": 16
        },
        "height": 450,
        "legend": {
         "tracegroupgap": 0
        },
        "margin": {
         "b": 50,
         "l": 100,
         "r": 50,
         "t": 80
        },
        "template": {
         "data": {
          "bar": [
           {
            "error_x": {
             "color": "#2a3f5f"
            },
            "error_y": {
             "color": "#2a3f5f"
            },
            "marker": {
             "line": {
              "color": "#E5ECF6",
              "width": 0.5
             },
             "pattern": {
              "fillmode": "overlay",
              "size": 10,
              "solidity": 0.2
             }
            },
            "type": "bar"
           }
          ],
          "barpolar": [
           {
            "marker": {
             "line": {
              "color": "#E5ECF6",
              "width": 0.5
             },
             "pattern": {
              "fillmode": "overlay",
              "size": 10,
              "solidity": 0.2
             }
            },
            "type": "barpolar"
           }
          ],
          "carpet": [
           {
            "aaxis": {
             "endlinecolor": "#2a3f5f",
             "gridcolor": "white",
             "linecolor": "white",
             "minorgridcolor": "white",
             "startlinecolor": "#2a3f5f"
            },
            "baxis": {
             "endlinecolor": "#2a3f5f",
             "gridcolor": "white",
             "linecolor": "white",
             "minorgridcolor": "white",
             "startlinecolor": "#2a3f5f"
            },
            "type": "carpet"
           }
          ],
          "choropleth": [
           {
            "colorbar": {
             "outlinewidth": 0,
             "ticks": ""
            },
            "type": "choropleth"
           }
          ],
          "contour": [
           {
            "colorbar": {
             "outlinewidth": 0,
             "ticks": ""
            },
            "colorscale": [
             [
              0,
              "#0d0887"
             ],
             [
              0.1111111111111111,
              "#46039f"
             ],
             [
              0.2222222222222222,
              "#7201a8"
             ],
             [
              0.3333333333333333,
              "#9c179e"
             ],
             [
              0.4444444444444444,
              "#bd3786"
             ],
             [
              0.5555555555555556,
              "#d8576b"
             ],
             [
              0.6666666666666666,
              "#ed7953"
             ],
             [
              0.7777777777777778,
              "#fb9f3a"
             ],
             [
              0.8888888888888888,
              "#fdca26"
             ],
             [
              1,
              "#f0f921"
             ]
            ],
            "type": "contour"
           }
          ],
          "contourcarpet": [
           {
            "colorbar": {
             "outlinewidth": 0,
             "ticks": ""
            },
            "type": "contourcarpet"
           }
          ],
          "heatmap": [
           {
            "colorbar": {
             "outlinewidth": 0,
             "ticks": ""
            },
            "colorscale": [
             [
              0,
              "#0d0887"
             ],
             [
              0.1111111111111111,
              "#46039f"
             ],
             [
              0.2222222222222222,
              "#7201a8"
             ],
             [
              0.3333333333333333,
              "#9c179e"
             ],
             [
              0.4444444444444444,
              "#bd3786"
             ],
             [
              0.5555555555555556,
              "#d8576b"
             ],
             [
              0.6666666666666666,
              "#ed7953"
             ],
             [
              0.7777777777777778,
              "#fb9f3a"
             ],
             [
              0.8888888888888888,
              "#fdca26"
             ],
             [
              1,
              "#f0f921"
             ]
            ],
            "type": "heatmap"
           }
          ],
          "histogram": [
           {
            "marker": {
             "pattern": {
              "fillmode": "overlay",
              "size": 10,
              "solidity": 0.2
             }
            },
            "type": "histogram"
           }
          ],
          "histogram2d": [
           {
            "colorbar": {
             "outlinewidth": 0,
             "ticks": ""
            },
            "colorscale": [
             [
              0,
              "#0d0887"
             ],
             [
              0.1111111111111111,
              "#46039f"
             ],
             [
              0.2222222222222222,
              "#7201a8"
             ],
             [
              0.3333333333333333,
              "#9c179e"
             ],
             [
              0.4444444444444444,
              "#bd3786"
             ],
             [
              0.5555555555555556,
              "#d8576b"
             ],
             [
              0.6666666666666666,
              "#ed7953"
             ],
             [
              0.7777777777777778,
              "#fb9f3a"
             ],
             [
              0.8888888888888888,
              "#fdca26"
             ],
             [
              1,
              "#f0f921"
             ]
            ],
            "type": "histogram2d"
           }
          ],
          "histogram2dcontour": [
           {
            "colorbar": {
             "outlinewidth": 0,
             "ticks": ""
            },
            "colorscale": [
             [
              0,
              "#0d0887"
             ],
             [
              0.1111111111111111,
              "#46039f"
             ],
             [
              0.2222222222222222,
              "#7201a8"
             ],
             [
              0.3333333333333333,
              "#9c179e"
             ],
             [
              0.4444444444444444,
              "#bd3786"
             ],
             [
              0.5555555555555556,
              "#d8576b"
             ],
             [
              0.6666666666666666,
              "#ed7953"
             ],
             [
              0.7777777777777778,
              "#fb9f3a"
             ],
             [
              0.8888888888888888,
              "#fdca26"
             ],
             [
              1,
              "#f0f921"
             ]
            ],
            "type": "histogram2dcontour"
           }
          ],
          "mesh3d": [
           {
            "colorbar": {
             "outlinewidth": 0,
             "ticks": ""
            },
            "type": "mesh3d"
           }
          ],
          "parcoords": [
           {
            "line": {
             "colorbar": {
              "outlinewidth": 0,
              "ticks": ""
             }
            },
            "type": "parcoords"
           }
          ],
          "pie": [
           {
            "automargin": true,
            "type": "pie"
           }
          ],
          "scatter": [
           {
            "fillpattern": {
             "fillmode": "overlay",
             "size": 10,
             "solidity": 0.2
            },
            "type": "scatter"
           }
          ],
          "scatter3d": [
           {
            "line": {
             "colorbar": {
              "outlinewidth": 0,
              "ticks": ""
             }
            },
            "marker": {
             "colorbar": {
              "outlinewidth": 0,
              "ticks": ""
             }
            },
            "type": "scatter3d"
           }
          ],
          "scattercarpet": [
           {
            "marker": {
             "colorbar": {
              "outlinewidth": 0,
              "ticks": ""
             }
            },
            "type": "scattercarpet"
           }
          ],
          "scattergeo": [
           {
            "marker": {
             "colorbar": {
              "outlinewidth": 0,
              "ticks": ""
             }
            },
            "type": "scattergeo"
           }
          ],
          "scattergl": [
           {
            "marker": {
             "colorbar": {
              "outlinewidth": 0,
              "ticks": ""
             }
            },
            "type": "scattergl"
           }
          ],
          "scattermap": [
           {
            "marker": {
             "colorbar": {
              "outlinewidth": 0,
              "ticks": ""
             }
            },
            "type": "scattermap"
           }
          ],
          "scattermapbox": [
           {
            "marker": {
             "colorbar": {
              "outlinewidth": 0,
              "ticks": ""
             }
            },
            "type": "scattermapbox"
           }
          ],
          "scatterpolar": [
           {
            "marker": {
             "colorbar": {
              "outlinewidth": 0,
              "ticks": ""
             }
            },
            "type": "scatterpolar"
           }
          ],
          "scatterpolargl": [
           {
            "marker": {
             "colorbar": {
              "outlinewidth": 0,
              "ticks": ""
             }
            },
            "type": "scatterpolargl"
           }
          ],
          "scatterternary": [
           {
            "marker": {
             "colorbar": {
              "outlinewidth": 0,
              "ticks": ""
             }
            },
            "type": "scatterternary"
           }
          ],
          "surface": [
           {
            "colorbar": {
             "outlinewidth": 0,
             "ticks": ""
            },
            "colorscale": [
             [
              0,
              "#0d0887"
             ],
             [
              0.1111111111111111,
              "#46039f"
             ],
             [
              0.2222222222222222,
              "#7201a8"
             ],
             [
              0.3333333333333333,
              "#9c179e"
             ],
             [
              0.4444444444444444,
              "#bd3786"
             ],
             [
              0.5555555555555556,
              "#d8576b"
             ],
             [
              0.6666666666666666,
              "#ed7953"
             ],
             [
              0.7777777777777778,
              "#fb9f3a"
             ],
             [
              0.8888888888888888,
              "#fdca26"
             ],
             [
              1,
              "#f0f921"
             ]
            ],
            "type": "surface"
           }
          ],
          "table": [
           {
            "cells": {
             "fill": {
              "color": "#EBF0F8"
             },
             "line": {
              "color": "white"
             }
            },
            "header": {
             "fill": {
              "color": "#C8D4E3"
             },
             "line": {
              "color": "white"
             }
            },
            "type": "table"
           }
          ]
         },
         "layout": {
          "annotationdefaults": {
           "arrowcolor": "#2a3f5f",
           "arrowhead": 0,
           "arrowwidth": 1
          },
          "autotypenumbers": "strict",
          "coloraxis": {
           "colorbar": {
            "outlinewidth": 0,
            "ticks": ""
           }
          },
          "colorscale": {
           "diverging": [
            [
             0,
             "#8e0152"
            ],
            [
             0.1,
             "#c51b7d"
            ],
            [
             0.2,
             "#de77ae"
            ],
            [
             0.3,
             "#f1b6da"
            ],
            [
             0.4,
             "#fde0ef"
            ],
            [
             0.5,
             "#f7f7f7"
            ],
            [
             0.6,
             "#e6f5d0"
            ],
            [
             0.7,
             "#b8e186"
            ],
            [
             0.8,
             "#7fbc41"
            ],
            [
             0.9,
             "#4d9221"
            ],
            [
             1,
             "#276419"
            ]
           ],
           "sequential": [
            [
             0,
             "#0d0887"
            ],
            [
             0.1111111111111111,
             "#46039f"
            ],
            [
             0.2222222222222222,
             "#7201a8"
            ],
            [
             0.3333333333333333,
             "#9c179e"
            ],
            [
             0.4444444444444444,
             "#bd3786"
            ],
            [
             0.5555555555555556,
             "#d8576b"
            ],
            [
             0.6666666666666666,
             "#ed7953"
            ],
            [
             0.7777777777777778,
             "#fb9f3a"
            ],
            [
             0.8888888888888888,
             "#fdca26"
            ],
            [
             1,
             "#f0f921"
            ]
           ],
           "sequentialminus": [
            [
             0,
             "#0d0887"
            ],
            [
             0.1111111111111111,
             "#46039f"
            ],
            [
             0.2222222222222222,
             "#7201a8"
            ],
            [
             0.3333333333333333,
             "#9c179e"
            ],
            [
             0.4444444444444444,
             "#bd3786"
            ],
            [
             0.5555555555555556,
             "#d8576b"
            ],
            [
             0.6666666666666666,
             "#ed7953"
            ],
            [
             0.7777777777777778,
             "#fb9f3a"
            ],
            [
             0.8888888888888888,
             "#fdca26"
            ],
            [
             1,
             "#f0f921"
            ]
           ]
          },
          "colorway": [
           "#636efa",
           "#EF553B",
           "#00cc96",
           "#ab63fa",
           "#FFA15A",
           "#19d3f3",
           "#FF6692",
           "#B6E880",
           "#FF97FF",
           "#FECB52"
          ],
          "font": {
           "color": "#2a3f5f"
          },
          "geo": {
           "bgcolor": "white",
           "lakecolor": "white",
           "landcolor": "#E5ECF6",
           "showlakes": true,
           "showland": true,
           "subunitcolor": "white"
          },
          "hoverlabel": {
           "align": "left"
          },
          "hovermode": "closest",
          "mapbox": {
           "style": "light"
          },
          "paper_bgcolor": "white",
          "plot_bgcolor": "#E5ECF6",
          "polar": {
           "angularaxis": {
            "gridcolor": "white",
            "linecolor": "white",
            "ticks": ""
           },
           "bgcolor": "#E5ECF6",
           "radialaxis": {
            "gridcolor": "white",
            "linecolor": "white",
            "ticks": ""
           }
          },
          "scene": {
           "xaxis": {
            "backgroundcolor": "#E5ECF6",
            "gridcolor": "white",
            "gridwidth": 2,
            "linecolor": "white",
            "showbackground": true,
            "ticks": "",
            "zerolinecolor": "white"
           },
           "yaxis": {
            "backgroundcolor": "#E5ECF6",
            "gridcolor": "white",
            "gridwidth": 2,
            "linecolor": "white",
            "showbackground": true,
            "ticks": "",
            "zerolinecolor": "white"
           },
           "zaxis": {
            "backgroundcolor": "#E5ECF6",
            "gridcolor": "white",
            "gridwidth": 2,
            "linecolor": "white",
            "showbackground": true,
            "ticks": "",
            "zerolinecolor": "white"
           }
          },
          "shapedefaults": {
           "line": {
            "color": "#2a3f5f"
           }
          },
          "ternary": {
           "aaxis": {
            "gridcolor": "white",
            "linecolor": "white",
            "ticks": ""
           },
           "baxis": {
            "gridcolor": "white",
            "linecolor": "white",
            "ticks": ""
           },
           "bgcolor": "#E5ECF6",
           "caxis": {
            "gridcolor": "white",
            "linecolor": "white",
            "ticks": ""
           }
          },
          "title": {
           "x": 0.05
          },
          "xaxis": {
           "automargin": true,
           "gridcolor": "white",
           "linecolor": "white",
           "ticks": "",
           "title": {
            "standoff": 15
           },
           "zerolinecolor": "white",
           "zerolinewidth": 2
          },
          "yaxis": {
           "automargin": true,
           "gridcolor": "white",
           "linecolor": "white",
           "ticks": "",
           "title": {
            "standoff": 15
           },
           "zerolinecolor": "white",
           "zerolinewidth": 2
          }
         }
        },
        "title": {
         "font": {
          "size": 20
         },
         "text": "<b>Elite Sales Over Time</b>"
        },
        "width": 800,
        "xaxis": {
         "anchor": "y",
         "autorange": true,
         "domain": [
          0,
          1
         ],
         "range": [
          "2018-12-28 05:21:02.3377",
          "2020-01-04 18:38:57.6623"
         ],
         "title": {
          "font": {
           "size": 16
          },
          "text": ""
         },
         "type": "date"
        },
        "yaxis": {
         "anchor": "x",
         "autorange": true,
         "domain": [
          0,
          1
         ],
         "range": [
          -1498.981744493392,
          38840.48574449339
         ],
         "title": {
          "font": {
           "size": 18
          },
          "text": "Net Sales"
         },
         "type": "linear"
        }
       }
      }
     },
     "metadata": {},
     "output_type": "display_data"
    }
   ],
   "source": [
    "# Group by date for net sales sum\n",
    "daily_sales = vip.groupby(vip[\"Transaction_Date\"])[\"net_sales\"].sum().reset_index()\n",
    "\n",
    "#visualize\n",
    "fig2 = px.line(daily_sales, x=\"Transaction_Date\", y=\"net_sales\", title=\"<b>Elite Sales Over Time</b>\",\n",
    "              markers = True, color_discrete_sequence=[\"#0a80bf\"])\n",
    "fig2.update_layout(xaxis_title=\"\", yaxis_title=\"Net Sales\", width=800, height=450,  \n",
    "                  font=dict(size=16, family=\"Arial\"), title_font_size=20, \n",
    "                  xaxis_title_font_size=16, yaxis_title_font_size=18,\n",
    "                  margin=dict(t=80, l=100, r=50, b=50))\n",
    "\n",
    "# Save as PNG (or use .jpeg, .pdf, etc.)\n",
    "fig2.write_image(\"sales_overtime.png\", scale = 3)  \n",
    "fig2.show()"
   ]
  },
  {
   "cell_type": "markdown",
   "id": "5fdbfd74-2868-4735-8e06-1c3a9d7b8acb",
   "metadata": {},
   "source": [
    "![High value sales over time](../images/sales_overtime.png)"
   ]
  },
  {
   "cell_type": "markdown",
   "id": "0ac968d3-afef-4b0f-ad7e-8b4ef828a9d4",
   "metadata": {},
   "source": [
    "- High value sales spike in April with April 5th leading in revenue generated from elite customers."
   ]
  },
  {
   "cell_type": "markdown",
   "id": "7ff5807b-fa1a-491b-95f4-2eb3f587792a",
   "metadata": {},
   "source": [
    "#### Which Days of the Week do We Expect Elite Sales?"
   ]
  },
  {
   "cell_type": "code",
   "execution_count": 47,
   "id": "8ed851cd-7076-4ee6-94f5-3015bde36146",
   "metadata": {},
   "outputs": [],
   "source": [
    "#extract day of the week from date \n",
    "vip[\"DayOfWeek\"] = vip[\"Transaction_Date\"].dt.day_name()\n",
    "\n",
    "#count the number of transactions per day\n",
    "day_counts = vip[\"DayOfWeek\"].value_counts().reindex([\n",
    "    \"Monday\", \"Tuesday\", \"Wednesday\", \"Thursday\", \"Friday\", \"Saturday\", \"Sunday\"\n",
    "]).reset_index()\n",
    "day_counts.columns = [\"DayOfWeek\", \"TransactionCount\"]\n",
    "\n",
    "\n",
    "#total transaction amount per day\n",
    "day_sales = vip.groupby(\"DayOfWeek\")[\"net_sales\"].sum().reindex([\n",
    "    \"Monday\", \"Tuesday\", \"Wednesday\", \"Thursday\", \"Friday\", \"Saturday\", \"Sunday\"\n",
    "]).reset_index()\n"
   ]
  },
  {
   "cell_type": "code",
   "execution_count": 48,
   "id": "9361fda1-837d-4653-be42-0b59832960ca",
   "metadata": {},
   "outputs": [
    {
     "data": {
      "text/html": [
       "<div>\n",
       "<style scoped>\n",
       "    .dataframe tbody tr th:only-of-type {\n",
       "        vertical-align: middle;\n",
       "    }\n",
       "\n",
       "    .dataframe tbody tr th {\n",
       "        vertical-align: top;\n",
       "    }\n",
       "\n",
       "    .dataframe thead th {\n",
       "        text-align: right;\n",
       "    }\n",
       "</style>\n",
       "<table border=\"1\" class=\"dataframe\">\n",
       "  <thead>\n",
       "    <tr style=\"text-align: right;\">\n",
       "      <th></th>\n",
       "      <th>DayOfWeek</th>\n",
       "      <th>TransactionCount</th>\n",
       "    </tr>\n",
       "  </thead>\n",
       "  <tbody>\n",
       "    <tr>\n",
       "      <th>0</th>\n",
       "      <td>Monday</td>\n",
       "      <td>1.0</td>\n",
       "    </tr>\n",
       "    <tr>\n",
       "      <th>1</th>\n",
       "      <td>Tuesday</td>\n",
       "      <td>NaN</td>\n",
       "    </tr>\n",
       "    <tr>\n",
       "      <th>2</th>\n",
       "      <td>Wednesday</td>\n",
       "      <td>2.0</td>\n",
       "    </tr>\n",
       "    <tr>\n",
       "      <th>3</th>\n",
       "      <td>Thursday</td>\n",
       "      <td>29.0</td>\n",
       "    </tr>\n",
       "    <tr>\n",
       "      <th>4</th>\n",
       "      <td>Friday</td>\n",
       "      <td>26.0</td>\n",
       "    </tr>\n",
       "    <tr>\n",
       "      <th>5</th>\n",
       "      <td>Saturday</td>\n",
       "      <td>9.0</td>\n",
       "    </tr>\n",
       "    <tr>\n",
       "      <th>6</th>\n",
       "      <td>Sunday</td>\n",
       "      <td>13.0</td>\n",
       "    </tr>\n",
       "  </tbody>\n",
       "</table>\n",
       "</div>"
      ],
      "text/plain": [
       "   DayOfWeek  TransactionCount\n",
       "0     Monday               1.0\n",
       "1    Tuesday               NaN\n",
       "2  Wednesday               2.0\n",
       "3   Thursday              29.0\n",
       "4     Friday              26.0\n",
       "5   Saturday               9.0\n",
       "6     Sunday              13.0"
      ]
     },
     "execution_count": 48,
     "metadata": {},
     "output_type": "execute_result"
    }
   ],
   "source": [
    "day_counts"
   ]
  },
  {
   "cell_type": "code",
   "execution_count": 49,
   "id": "af62ba4b-3df5-42e6-8150-152d304cadc8",
   "metadata": {},
   "outputs": [
    {
     "data": {
      "application/vnd.plotly.v1+json": {
       "config": {
        "plotlyServerURL": "https://plot.ly"
       },
       "data": [
        {
         "hovertemplate": "DayOfWeek=%{x}<br>TransactionCount=%{y}<extra></extra>",
         "legendgroup": "",
         "line": {
          "color": "#0a80bf",
          "dash": "solid"
         },
         "marker": {
          "symbol": "circle"
         },
         "mode": "lines+markers",
         "name": "",
         "orientation": "v",
         "showlegend": false,
         "type": "scatter",
         "x": [
          "Monday",
          "Tuesday",
          "Wednesday",
          "Thursday",
          "Friday",
          "Saturday",
          "Sunday"
         ],
         "xaxis": "x",
         "y": {
          "_inputArray": {
           "0": 1,
           "1": null,
           "2": 2,
           "3": 29,
           "4": 26,
           "5": 9,
           "6": 13,
           "bdata": "AAAAAAAA8D8AAAAAAAD4fwAAAAAAAABAAAAAAAAAPUAAAAAAAAA6QAAAAAAAACJAAAAAAAAAKkA=",
           "dtype": "f8",
           "shape": "7"
          },
          "bdata": "AAAAAAAA8D8AAAAAAAD4fwAAAAAAAABAAAAAAAAAPUAAAAAAAAA6QAAAAAAAACJAAAAAAAAAKkA=",
          "dtype": "f8"
         },
         "yaxis": "y"
        }
       ],
       "layout": {
        "font": {
         "family": "Arial",
         "size": 16
        },
        "height": 450,
        "legend": {
         "tracegroupgap": 0
        },
        "margin": {
         "b": 50,
         "l": 100,
         "r": 50,
         "t": 80
        },
        "template": {
         "data": {
          "bar": [
           {
            "error_x": {
             "color": "#2a3f5f"
            },
            "error_y": {
             "color": "#2a3f5f"
            },
            "marker": {
             "line": {
              "color": "#E5ECF6",
              "width": 0.5
             },
             "pattern": {
              "fillmode": "overlay",
              "size": 10,
              "solidity": 0.2
             }
            },
            "type": "bar"
           }
          ],
          "barpolar": [
           {
            "marker": {
             "line": {
              "color": "#E5ECF6",
              "width": 0.5
             },
             "pattern": {
              "fillmode": "overlay",
              "size": 10,
              "solidity": 0.2
             }
            },
            "type": "barpolar"
           }
          ],
          "carpet": [
           {
            "aaxis": {
             "endlinecolor": "#2a3f5f",
             "gridcolor": "white",
             "linecolor": "white",
             "minorgridcolor": "white",
             "startlinecolor": "#2a3f5f"
            },
            "baxis": {
             "endlinecolor": "#2a3f5f",
             "gridcolor": "white",
             "linecolor": "white",
             "minorgridcolor": "white",
             "startlinecolor": "#2a3f5f"
            },
            "type": "carpet"
           }
          ],
          "choropleth": [
           {
            "colorbar": {
             "outlinewidth": 0,
             "ticks": ""
            },
            "type": "choropleth"
           }
          ],
          "contour": [
           {
            "colorbar": {
             "outlinewidth": 0,
             "ticks": ""
            },
            "colorscale": [
             [
              0,
              "#0d0887"
             ],
             [
              0.1111111111111111,
              "#46039f"
             ],
             [
              0.2222222222222222,
              "#7201a8"
             ],
             [
              0.3333333333333333,
              "#9c179e"
             ],
             [
              0.4444444444444444,
              "#bd3786"
             ],
             [
              0.5555555555555556,
              "#d8576b"
             ],
             [
              0.6666666666666666,
              "#ed7953"
             ],
             [
              0.7777777777777778,
              "#fb9f3a"
             ],
             [
              0.8888888888888888,
              "#fdca26"
             ],
             [
              1,
              "#f0f921"
             ]
            ],
            "type": "contour"
           }
          ],
          "contourcarpet": [
           {
            "colorbar": {
             "outlinewidth": 0,
             "ticks": ""
            },
            "type": "contourcarpet"
           }
          ],
          "heatmap": [
           {
            "colorbar": {
             "outlinewidth": 0,
             "ticks": ""
            },
            "colorscale": [
             [
              0,
              "#0d0887"
             ],
             [
              0.1111111111111111,
              "#46039f"
             ],
             [
              0.2222222222222222,
              "#7201a8"
             ],
             [
              0.3333333333333333,
              "#9c179e"
             ],
             [
              0.4444444444444444,
              "#bd3786"
             ],
             [
              0.5555555555555556,
              "#d8576b"
             ],
             [
              0.6666666666666666,
              "#ed7953"
             ],
             [
              0.7777777777777778,
              "#fb9f3a"
             ],
             [
              0.8888888888888888,
              "#fdca26"
             ],
             [
              1,
              "#f0f921"
             ]
            ],
            "type": "heatmap"
           }
          ],
          "histogram": [
           {
            "marker": {
             "pattern": {
              "fillmode": "overlay",
              "size": 10,
              "solidity": 0.2
             }
            },
            "type": "histogram"
           }
          ],
          "histogram2d": [
           {
            "colorbar": {
             "outlinewidth": 0,
             "ticks": ""
            },
            "colorscale": [
             [
              0,
              "#0d0887"
             ],
             [
              0.1111111111111111,
              "#46039f"
             ],
             [
              0.2222222222222222,
              "#7201a8"
             ],
             [
              0.3333333333333333,
              "#9c179e"
             ],
             [
              0.4444444444444444,
              "#bd3786"
             ],
             [
              0.5555555555555556,
              "#d8576b"
             ],
             [
              0.6666666666666666,
              "#ed7953"
             ],
             [
              0.7777777777777778,
              "#fb9f3a"
             ],
             [
              0.8888888888888888,
              "#fdca26"
             ],
             [
              1,
              "#f0f921"
             ]
            ],
            "type": "histogram2d"
           }
          ],
          "histogram2dcontour": [
           {
            "colorbar": {
             "outlinewidth": 0,
             "ticks": ""
            },
            "colorscale": [
             [
              0,
              "#0d0887"
             ],
             [
              0.1111111111111111,
              "#46039f"
             ],
             [
              0.2222222222222222,
              "#7201a8"
             ],
             [
              0.3333333333333333,
              "#9c179e"
             ],
             [
              0.4444444444444444,
              "#bd3786"
             ],
             [
              0.5555555555555556,
              "#d8576b"
             ],
             [
              0.6666666666666666,
              "#ed7953"
             ],
             [
              0.7777777777777778,
              "#fb9f3a"
             ],
             [
              0.8888888888888888,
              "#fdca26"
             ],
             [
              1,
              "#f0f921"
             ]
            ],
            "type": "histogram2dcontour"
           }
          ],
          "mesh3d": [
           {
            "colorbar": {
             "outlinewidth": 0,
             "ticks": ""
            },
            "type": "mesh3d"
           }
          ],
          "parcoords": [
           {
            "line": {
             "colorbar": {
              "outlinewidth": 0,
              "ticks": ""
             }
            },
            "type": "parcoords"
           }
          ],
          "pie": [
           {
            "automargin": true,
            "type": "pie"
           }
          ],
          "scatter": [
           {
            "fillpattern": {
             "fillmode": "overlay",
             "size": 10,
             "solidity": 0.2
            },
            "type": "scatter"
           }
          ],
          "scatter3d": [
           {
            "line": {
             "colorbar": {
              "outlinewidth": 0,
              "ticks": ""
             }
            },
            "marker": {
             "colorbar": {
              "outlinewidth": 0,
              "ticks": ""
             }
            },
            "type": "scatter3d"
           }
          ],
          "scattercarpet": [
           {
            "marker": {
             "colorbar": {
              "outlinewidth": 0,
              "ticks": ""
             }
            },
            "type": "scattercarpet"
           }
          ],
          "scattergeo": [
           {
            "marker": {
             "colorbar": {
              "outlinewidth": 0,
              "ticks": ""
             }
            },
            "type": "scattergeo"
           }
          ],
          "scattergl": [
           {
            "marker": {
             "colorbar": {
              "outlinewidth": 0,
              "ticks": ""
             }
            },
            "type": "scattergl"
           }
          ],
          "scattermap": [
           {
            "marker": {
             "colorbar": {
              "outlinewidth": 0,
              "ticks": ""
             }
            },
            "type": "scattermap"
           }
          ],
          "scattermapbox": [
           {
            "marker": {
             "colorbar": {
              "outlinewidth": 0,
              "ticks": ""
             }
            },
            "type": "scattermapbox"
           }
          ],
          "scatterpolar": [
           {
            "marker": {
             "colorbar": {
              "outlinewidth": 0,
              "ticks": ""
             }
            },
            "type": "scatterpolar"
           }
          ],
          "scatterpolargl": [
           {
            "marker": {
             "colorbar": {
              "outlinewidth": 0,
              "ticks": ""
             }
            },
            "type": "scatterpolargl"
           }
          ],
          "scatterternary": [
           {
            "marker": {
             "colorbar": {
              "outlinewidth": 0,
              "ticks": ""
             }
            },
            "type": "scatterternary"
           }
          ],
          "surface": [
           {
            "colorbar": {
             "outlinewidth": 0,
             "ticks": ""
            },
            "colorscale": [
             [
              0,
              "#0d0887"
             ],
             [
              0.1111111111111111,
              "#46039f"
             ],
             [
              0.2222222222222222,
              "#7201a8"
             ],
             [
              0.3333333333333333,
              "#9c179e"
             ],
             [
              0.4444444444444444,
              "#bd3786"
             ],
             [
              0.5555555555555556,
              "#d8576b"
             ],
             [
              0.6666666666666666,
              "#ed7953"
             ],
             [
              0.7777777777777778,
              "#fb9f3a"
             ],
             [
              0.8888888888888888,
              "#fdca26"
             ],
             [
              1,
              "#f0f921"
             ]
            ],
            "type": "surface"
           }
          ],
          "table": [
           {
            "cells": {
             "fill": {
              "color": "#EBF0F8"
             },
             "line": {
              "color": "white"
             }
            },
            "header": {
             "fill": {
              "color": "#C8D4E3"
             },
             "line": {
              "color": "white"
             }
            },
            "type": "table"
           }
          ]
         },
         "layout": {
          "annotationdefaults": {
           "arrowcolor": "#2a3f5f",
           "arrowhead": 0,
           "arrowwidth": 1
          },
          "autotypenumbers": "strict",
          "coloraxis": {
           "colorbar": {
            "outlinewidth": 0,
            "ticks": ""
           }
          },
          "colorscale": {
           "diverging": [
            [
             0,
             "#8e0152"
            ],
            [
             0.1,
             "#c51b7d"
            ],
            [
             0.2,
             "#de77ae"
            ],
            [
             0.3,
             "#f1b6da"
            ],
            [
             0.4,
             "#fde0ef"
            ],
            [
             0.5,
             "#f7f7f7"
            ],
            [
             0.6,
             "#e6f5d0"
            ],
            [
             0.7,
             "#b8e186"
            ],
            [
             0.8,
             "#7fbc41"
            ],
            [
             0.9,
             "#4d9221"
            ],
            [
             1,
             "#276419"
            ]
           ],
           "sequential": [
            [
             0,
             "#0d0887"
            ],
            [
             0.1111111111111111,
             "#46039f"
            ],
            [
             0.2222222222222222,
             "#7201a8"
            ],
            [
             0.3333333333333333,
             "#9c179e"
            ],
            [
             0.4444444444444444,
             "#bd3786"
            ],
            [
             0.5555555555555556,
             "#d8576b"
            ],
            [
             0.6666666666666666,
             "#ed7953"
            ],
            [
             0.7777777777777778,
             "#fb9f3a"
            ],
            [
             0.8888888888888888,
             "#fdca26"
            ],
            [
             1,
             "#f0f921"
            ]
           ],
           "sequentialminus": [
            [
             0,
             "#0d0887"
            ],
            [
             0.1111111111111111,
             "#46039f"
            ],
            [
             0.2222222222222222,
             "#7201a8"
            ],
            [
             0.3333333333333333,
             "#9c179e"
            ],
            [
             0.4444444444444444,
             "#bd3786"
            ],
            [
             0.5555555555555556,
             "#d8576b"
            ],
            [
             0.6666666666666666,
             "#ed7953"
            ],
            [
             0.7777777777777778,
             "#fb9f3a"
            ],
            [
             0.8888888888888888,
             "#fdca26"
            ],
            [
             1,
             "#f0f921"
            ]
           ]
          },
          "colorway": [
           "#636efa",
           "#EF553B",
           "#00cc96",
           "#ab63fa",
           "#FFA15A",
           "#19d3f3",
           "#FF6692",
           "#B6E880",
           "#FF97FF",
           "#FECB52"
          ],
          "font": {
           "color": "#2a3f5f"
          },
          "geo": {
           "bgcolor": "white",
           "lakecolor": "white",
           "landcolor": "#E5ECF6",
           "showlakes": true,
           "showland": true,
           "subunitcolor": "white"
          },
          "hoverlabel": {
           "align": "left"
          },
          "hovermode": "closest",
          "mapbox": {
           "style": "light"
          },
          "paper_bgcolor": "white",
          "plot_bgcolor": "#E5ECF6",
          "polar": {
           "angularaxis": {
            "gridcolor": "white",
            "linecolor": "white",
            "ticks": ""
           },
           "bgcolor": "#E5ECF6",
           "radialaxis": {
            "gridcolor": "white",
            "linecolor": "white",
            "ticks": ""
           }
          },
          "scene": {
           "xaxis": {
            "backgroundcolor": "#E5ECF6",
            "gridcolor": "white",
            "gridwidth": 2,
            "linecolor": "white",
            "showbackground": true,
            "ticks": "",
            "zerolinecolor": "white"
           },
           "yaxis": {
            "backgroundcolor": "#E5ECF6",
            "gridcolor": "white",
            "gridwidth": 2,
            "linecolor": "white",
            "showbackground": true,
            "ticks": "",
            "zerolinecolor": "white"
           },
           "zaxis": {
            "backgroundcolor": "#E5ECF6",
            "gridcolor": "white",
            "gridwidth": 2,
            "linecolor": "white",
            "showbackground": true,
            "ticks": "",
            "zerolinecolor": "white"
           }
          },
          "shapedefaults": {
           "line": {
            "color": "#2a3f5f"
           }
          },
          "ternary": {
           "aaxis": {
            "gridcolor": "white",
            "linecolor": "white",
            "ticks": ""
           },
           "baxis": {
            "gridcolor": "white",
            "linecolor": "white",
            "ticks": ""
           },
           "bgcolor": "#E5ECF6",
           "caxis": {
            "gridcolor": "white",
            "linecolor": "white",
            "ticks": ""
           }
          },
          "title": {
           "x": 0.05
          },
          "xaxis": {
           "automargin": true,
           "gridcolor": "white",
           "linecolor": "white",
           "ticks": "",
           "title": {
            "standoff": 15
           },
           "zerolinecolor": "white",
           "zerolinewidth": 2
          },
          "yaxis": {
           "automargin": true,
           "gridcolor": "white",
           "linecolor": "white",
           "ticks": "",
           "title": {
            "standoff": 15
           },
           "zerolinecolor": "white",
           "zerolinewidth": 2
          }
         }
        },
        "title": {
         "font": {
          "size": 20
         },
         "text": "<b>Transactions by Day of the Week</b>"
        },
        "width": 700,
        "xaxis": {
         "anchor": "y",
         "autorange": true,
         "domain": [
          0,
          1
         ],
         "range": [
          -0.38461538461538464,
          6.384615384615385
         ],
         "tickangle": -45,
         "title": {
          "font": {
           "size": 16
          },
          "text": ""
         },
         "type": "category"
        },
        "yaxis": {
         "anchor": "x",
         "autorange": true,
         "domain": [
          0,
          1
         ],
         "range": [
          -1.0810810810810807,
          31.08108108108108
         ],
         "title": {
          "font": {
           "size": 16
          },
          "text": "Number of Transactions"
         },
         "type": "linear"
        }
       }
      }
     },
     "metadata": {},
     "output_type": "display_data"
    }
   ],
   "source": [
    "# visualize daily transactions\n",
    "fig = px.line(\n",
    "    day_counts,\n",
    "    x=\"DayOfWeek\",\n",
    "    y=\"TransactionCount\",\n",
    "    markers=True,\n",
    "    title=\"<b>Transactions by Day of the Week</b>\",\n",
    "    width=700, height=450,\n",
    "    color_discrete_sequence=[\"#0a80bf\"]\n",
    ")\n",
    "fig.update_layout(xaxis_title=\"\", yaxis_title=\"Number of Transactions\", \n",
    "                  font=dict(size=16, family=\"Arial\"), title_font_size=20, \n",
    "                  xaxis_title_font_size=16, yaxis_title_font_size=16,\n",
    "                  margin=dict(t=80, l=100, r=50, b=50))\n",
    "\n",
    "fig.update_xaxes(tickangle= -45)\n",
    "\n",
    "# Save as PNG (or use .jpeg, .pdf, etc.)\n",
    "fig.write_image(\"trans_dayofweek.png\", scale = 3)  \n",
    "fig.show()"
   ]
  },
  {
   "cell_type": "markdown",
   "id": "2b0d151a-dfe2-4c2f-847e-43df958b64e0",
   "metadata": {},
   "source": [
    "![High value transactions by day of the week](../images/trans_dayofweek.png)"
   ]
  },
  {
   "cell_type": "code",
   "execution_count": 50,
   "id": "338ee4f5-9a2a-4bae-a9af-1ba752ef724b",
   "metadata": {
    "scrolled": true
   },
   "outputs": [
    {
     "data": {
      "application/vnd.plotly.v1+json": {
       "config": {
        "plotlyServerURL": "https://plot.ly"
       },
       "data": [
        {
         "hovertemplate": "DayOfWeek=%{x}<br>net_sales=%{y}<extra></extra>",
         "legendgroup": "",
         "line": {
          "color": "#0a80bf",
          "dash": "solid"
         },
         "marker": {
          "symbol": "circle"
         },
         "mode": "lines+markers",
         "name": "",
         "orientation": "v",
         "showlegend": false,
         "type": "scatter",
         "x": [
          "Monday",
          "Tuesday",
          "Wednesday",
          "Thursday",
          "Friday",
          "Saturday",
          "Sunday"
         ],
         "xaxis": "x",
         "y": {
          "_inputArray": {
           "0": 1034.6399999999999,
           "1": null,
           "2": 2461.5,
           "3": 59100.020000000004,
           "4": 72323.78600000001,
           "5": 17776.371,
           "6": 17236.453,
           "bdata": "wvUoXI8qkEAAAAAAAAD4fwAAAAAAO6NAPgrXo4Db7EBrvHSTPKjxQLTIdr4XXNFARrbz/RzV0EA=",
           "dtype": "f8",
           "shape": "7"
          },
          "bdata": "wvUoXI8qkEAAAAAAAAD4fwAAAAAAO6NAPgrXo4Db7EBrvHSTPKjxQLTIdr4XXNFARrbz/RzV0EA=",
          "dtype": "f8"
         },
         "yaxis": "y"
        }
       ],
       "layout": {
        "font": {
         "family": "Arial",
         "size": 16
        },
        "height": 450,
        "legend": {
         "tracegroupgap": 0
        },
        "margin": {
         "b": 50,
         "l": 100,
         "r": 50,
         "t": 80
        },
        "template": {
         "data": {
          "bar": [
           {
            "error_x": {
             "color": "#2a3f5f"
            },
            "error_y": {
             "color": "#2a3f5f"
            },
            "marker": {
             "line": {
              "color": "#E5ECF6",
              "width": 0.5
             },
             "pattern": {
              "fillmode": "overlay",
              "size": 10,
              "solidity": 0.2
             }
            },
            "type": "bar"
           }
          ],
          "barpolar": [
           {
            "marker": {
             "line": {
              "color": "#E5ECF6",
              "width": 0.5
             },
             "pattern": {
              "fillmode": "overlay",
              "size": 10,
              "solidity": 0.2
             }
            },
            "type": "barpolar"
           }
          ],
          "carpet": [
           {
            "aaxis": {
             "endlinecolor": "#2a3f5f",
             "gridcolor": "white",
             "linecolor": "white",
             "minorgridcolor": "white",
             "startlinecolor": "#2a3f5f"
            },
            "baxis": {
             "endlinecolor": "#2a3f5f",
             "gridcolor": "white",
             "linecolor": "white",
             "minorgridcolor": "white",
             "startlinecolor": "#2a3f5f"
            },
            "type": "carpet"
           }
          ],
          "choropleth": [
           {
            "colorbar": {
             "outlinewidth": 0,
             "ticks": ""
            },
            "type": "choropleth"
           }
          ],
          "contour": [
           {
            "colorbar": {
             "outlinewidth": 0,
             "ticks": ""
            },
            "colorscale": [
             [
              0,
              "#0d0887"
             ],
             [
              0.1111111111111111,
              "#46039f"
             ],
             [
              0.2222222222222222,
              "#7201a8"
             ],
             [
              0.3333333333333333,
              "#9c179e"
             ],
             [
              0.4444444444444444,
              "#bd3786"
             ],
             [
              0.5555555555555556,
              "#d8576b"
             ],
             [
              0.6666666666666666,
              "#ed7953"
             ],
             [
              0.7777777777777778,
              "#fb9f3a"
             ],
             [
              0.8888888888888888,
              "#fdca26"
             ],
             [
              1,
              "#f0f921"
             ]
            ],
            "type": "contour"
           }
          ],
          "contourcarpet": [
           {
            "colorbar": {
             "outlinewidth": 0,
             "ticks": ""
            },
            "type": "contourcarpet"
           }
          ],
          "heatmap": [
           {
            "colorbar": {
             "outlinewidth": 0,
             "ticks": ""
            },
            "colorscale": [
             [
              0,
              "#0d0887"
             ],
             [
              0.1111111111111111,
              "#46039f"
             ],
             [
              0.2222222222222222,
              "#7201a8"
             ],
             [
              0.3333333333333333,
              "#9c179e"
             ],
             [
              0.4444444444444444,
              "#bd3786"
             ],
             [
              0.5555555555555556,
              "#d8576b"
             ],
             [
              0.6666666666666666,
              "#ed7953"
             ],
             [
              0.7777777777777778,
              "#fb9f3a"
             ],
             [
              0.8888888888888888,
              "#fdca26"
             ],
             [
              1,
              "#f0f921"
             ]
            ],
            "type": "heatmap"
           }
          ],
          "histogram": [
           {
            "marker": {
             "pattern": {
              "fillmode": "overlay",
              "size": 10,
              "solidity": 0.2
             }
            },
            "type": "histogram"
           }
          ],
          "histogram2d": [
           {
            "colorbar": {
             "outlinewidth": 0,
             "ticks": ""
            },
            "colorscale": [
             [
              0,
              "#0d0887"
             ],
             [
              0.1111111111111111,
              "#46039f"
             ],
             [
              0.2222222222222222,
              "#7201a8"
             ],
             [
              0.3333333333333333,
              "#9c179e"
             ],
             [
              0.4444444444444444,
              "#bd3786"
             ],
             [
              0.5555555555555556,
              "#d8576b"
             ],
             [
              0.6666666666666666,
              "#ed7953"
             ],
             [
              0.7777777777777778,
              "#fb9f3a"
             ],
             [
              0.8888888888888888,
              "#fdca26"
             ],
             [
              1,
              "#f0f921"
             ]
            ],
            "type": "histogram2d"
           }
          ],
          "histogram2dcontour": [
           {
            "colorbar": {
             "outlinewidth": 0,
             "ticks": ""
            },
            "colorscale": [
             [
              0,
              "#0d0887"
             ],
             [
              0.1111111111111111,
              "#46039f"
             ],
             [
              0.2222222222222222,
              "#7201a8"
             ],
             [
              0.3333333333333333,
              "#9c179e"
             ],
             [
              0.4444444444444444,
              "#bd3786"
             ],
             [
              0.5555555555555556,
              "#d8576b"
             ],
             [
              0.6666666666666666,
              "#ed7953"
             ],
             [
              0.7777777777777778,
              "#fb9f3a"
             ],
             [
              0.8888888888888888,
              "#fdca26"
             ],
             [
              1,
              "#f0f921"
             ]
            ],
            "type": "histogram2dcontour"
           }
          ],
          "mesh3d": [
           {
            "colorbar": {
             "outlinewidth": 0,
             "ticks": ""
            },
            "type": "mesh3d"
           }
          ],
          "parcoords": [
           {
            "line": {
             "colorbar": {
              "outlinewidth": 0,
              "ticks": ""
             }
            },
            "type": "parcoords"
           }
          ],
          "pie": [
           {
            "automargin": true,
            "type": "pie"
           }
          ],
          "scatter": [
           {
            "fillpattern": {
             "fillmode": "overlay",
             "size": 10,
             "solidity": 0.2
            },
            "type": "scatter"
           }
          ],
          "scatter3d": [
           {
            "line": {
             "colorbar": {
              "outlinewidth": 0,
              "ticks": ""
             }
            },
            "marker": {
             "colorbar": {
              "outlinewidth": 0,
              "ticks": ""
             }
            },
            "type": "scatter3d"
           }
          ],
          "scattercarpet": [
           {
            "marker": {
             "colorbar": {
              "outlinewidth": 0,
              "ticks": ""
             }
            },
            "type": "scattercarpet"
           }
          ],
          "scattergeo": [
           {
            "marker": {
             "colorbar": {
              "outlinewidth": 0,
              "ticks": ""
             }
            },
            "type": "scattergeo"
           }
          ],
          "scattergl": [
           {
            "marker": {
             "colorbar": {
              "outlinewidth": 0,
              "ticks": ""
             }
            },
            "type": "scattergl"
           }
          ],
          "scattermap": [
           {
            "marker": {
             "colorbar": {
              "outlinewidth": 0,
              "ticks": ""
             }
            },
            "type": "scattermap"
           }
          ],
          "scattermapbox": [
           {
            "marker": {
             "colorbar": {
              "outlinewidth": 0,
              "ticks": ""
             }
            },
            "type": "scattermapbox"
           }
          ],
          "scatterpolar": [
           {
            "marker": {
             "colorbar": {
              "outlinewidth": 0,
              "ticks": ""
             }
            },
            "type": "scatterpolar"
           }
          ],
          "scatterpolargl": [
           {
            "marker": {
             "colorbar": {
              "outlinewidth": 0,
              "ticks": ""
             }
            },
            "type": "scatterpolargl"
           }
          ],
          "scatterternary": [
           {
            "marker": {
             "colorbar": {
              "outlinewidth": 0,
              "ticks": ""
             }
            },
            "type": "scatterternary"
           }
          ],
          "surface": [
           {
            "colorbar": {
             "outlinewidth": 0,
             "ticks": ""
            },
            "colorscale": [
             [
              0,
              "#0d0887"
             ],
             [
              0.1111111111111111,
              "#46039f"
             ],
             [
              0.2222222222222222,
              "#7201a8"
             ],
             [
              0.3333333333333333,
              "#9c179e"
             ],
             [
              0.4444444444444444,
              "#bd3786"
             ],
             [
              0.5555555555555556,
              "#d8576b"
             ],
             [
              0.6666666666666666,
              "#ed7953"
             ],
             [
              0.7777777777777778,
              "#fb9f3a"
             ],
             [
              0.8888888888888888,
              "#fdca26"
             ],
             [
              1,
              "#f0f921"
             ]
            ],
            "type": "surface"
           }
          ],
          "table": [
           {
            "cells": {
             "fill": {
              "color": "#EBF0F8"
             },
             "line": {
              "color": "white"
             }
            },
            "header": {
             "fill": {
              "color": "#C8D4E3"
             },
             "line": {
              "color": "white"
             }
            },
            "type": "table"
           }
          ]
         },
         "layout": {
          "annotationdefaults": {
           "arrowcolor": "#2a3f5f",
           "arrowhead": 0,
           "arrowwidth": 1
          },
          "autotypenumbers": "strict",
          "coloraxis": {
           "colorbar": {
            "outlinewidth": 0,
            "ticks": ""
           }
          },
          "colorscale": {
           "diverging": [
            [
             0,
             "#8e0152"
            ],
            [
             0.1,
             "#c51b7d"
            ],
            [
             0.2,
             "#de77ae"
            ],
            [
             0.3,
             "#f1b6da"
            ],
            [
             0.4,
             "#fde0ef"
            ],
            [
             0.5,
             "#f7f7f7"
            ],
            [
             0.6,
             "#e6f5d0"
            ],
            [
             0.7,
             "#b8e186"
            ],
            [
             0.8,
             "#7fbc41"
            ],
            [
             0.9,
             "#4d9221"
            ],
            [
             1,
             "#276419"
            ]
           ],
           "sequential": [
            [
             0,
             "#0d0887"
            ],
            [
             0.1111111111111111,
             "#46039f"
            ],
            [
             0.2222222222222222,
             "#7201a8"
            ],
            [
             0.3333333333333333,
             "#9c179e"
            ],
            [
             0.4444444444444444,
             "#bd3786"
            ],
            [
             0.5555555555555556,
             "#d8576b"
            ],
            [
             0.6666666666666666,
             "#ed7953"
            ],
            [
             0.7777777777777778,
             "#fb9f3a"
            ],
            [
             0.8888888888888888,
             "#fdca26"
            ],
            [
             1,
             "#f0f921"
            ]
           ],
           "sequentialminus": [
            [
             0,
             "#0d0887"
            ],
            [
             0.1111111111111111,
             "#46039f"
            ],
            [
             0.2222222222222222,
             "#7201a8"
            ],
            [
             0.3333333333333333,
             "#9c179e"
            ],
            [
             0.4444444444444444,
             "#bd3786"
            ],
            [
             0.5555555555555556,
             "#d8576b"
            ],
            [
             0.6666666666666666,
             "#ed7953"
            ],
            [
             0.7777777777777778,
             "#fb9f3a"
            ],
            [
             0.8888888888888888,
             "#fdca26"
            ],
            [
             1,
             "#f0f921"
            ]
           ]
          },
          "colorway": [
           "#636efa",
           "#EF553B",
           "#00cc96",
           "#ab63fa",
           "#FFA15A",
           "#19d3f3",
           "#FF6692",
           "#B6E880",
           "#FF97FF",
           "#FECB52"
          ],
          "font": {
           "color": "#2a3f5f"
          },
          "geo": {
           "bgcolor": "white",
           "lakecolor": "white",
           "landcolor": "#E5ECF6",
           "showlakes": true,
           "showland": true,
           "subunitcolor": "white"
          },
          "hoverlabel": {
           "align": "left"
          },
          "hovermode": "closest",
          "mapbox": {
           "style": "light"
          },
          "paper_bgcolor": "white",
          "plot_bgcolor": "#E5ECF6",
          "polar": {
           "angularaxis": {
            "gridcolor": "white",
            "linecolor": "white",
            "ticks": ""
           },
           "bgcolor": "#E5ECF6",
           "radialaxis": {
            "gridcolor": "white",
            "linecolor": "white",
            "ticks": ""
           }
          },
          "scene": {
           "xaxis": {
            "backgroundcolor": "#E5ECF6",
            "gridcolor": "white",
            "gridwidth": 2,
            "linecolor": "white",
            "showbackground": true,
            "ticks": "",
            "zerolinecolor": "white"
           },
           "yaxis": {
            "backgroundcolor": "#E5ECF6",
            "gridcolor": "white",
            "gridwidth": 2,
            "linecolor": "white",
            "showbackground": true,
            "ticks": "",
            "zerolinecolor": "white"
           },
           "zaxis": {
            "backgroundcolor": "#E5ECF6",
            "gridcolor": "white",
            "gridwidth": 2,
            "linecolor": "white",
            "showbackground": true,
            "ticks": "",
            "zerolinecolor": "white"
           }
          },
          "shapedefaults": {
           "line": {
            "color": "#2a3f5f"
           }
          },
          "ternary": {
           "aaxis": {
            "gridcolor": "white",
            "linecolor": "white",
            "ticks": ""
           },
           "baxis": {
            "gridcolor": "white",
            "linecolor": "white",
            "ticks": ""
           },
           "bgcolor": "#E5ECF6",
           "caxis": {
            "gridcolor": "white",
            "linecolor": "white",
            "ticks": ""
           }
          },
          "title": {
           "x": 0.05
          },
          "xaxis": {
           "automargin": true,
           "gridcolor": "white",
           "linecolor": "white",
           "ticks": "",
           "title": {
            "standoff": 15
           },
           "zerolinecolor": "white",
           "zerolinewidth": 2
          },
          "yaxis": {
           "automargin": true,
           "gridcolor": "white",
           "linecolor": "white",
           "ticks": "",
           "title": {
            "standoff": 15
           },
           "zerolinecolor": "white",
           "zerolinewidth": 2
          }
         }
        },
        "title": {
         "font": {
          "size": 20
         },
         "text": "<b>Net Sales by Day of the Week<b>"
        },
        "width": 650,
        "xaxis": {
         "anchor": "y",
         "autorange": true,
         "domain": [
          0,
          1
         ],
         "range": [
          -0.3898305084745763,
          6.389830508474576
         ],
         "tickangle": -45,
         "title": {
          "font": {
           "size": 16
          },
          "text": ""
         },
         "type": "category"
        },
        "yaxis": {
         "anchor": "x",
         "autorange": true,
         "domain": [
          0,
          1
         ],
         "range": [
          -4263.877608108109,
          77622.30360810812
         ],
         "title": {
          "font": {
           "size": 16
          },
          "text": "Net Sales"
         },
         "type": "linear"
        }
       }
      },
      "image/png": "[encoded data removed]"
     },
     "metadata": {},
     "output_type": "display_data"
    }
   ],
   "source": [
    "#net daily sales\n",
    "fig = px.line(\n",
    "    day_sales,\n",
    "    x=\"DayOfWeek\",\n",
    "    y=\"net_sales\",\n",
    "    markers=True,\n",
    "    title=\"<b>Net Sales by Day of the Week<b>\",\n",
    "    width=650, height=450, color_discrete_sequence=[\"#0a80bf\"]\n",
    ")\n",
    "fig.update_layout(xaxis_title=\"\", yaxis_title=\"Net Sales\", \n",
    "                  font=dict(size=16, family=\"Arial\"), title_font_size=20, \n",
    "                  xaxis_title_font_size=16, yaxis_title_font_size=16,\n",
    "                  margin=dict(t=80, l=100, r=50, b=50))\n",
    "\n",
    "fig.update_xaxes(tickangle= -45)\n",
    "fig.show()"
   ]
  },
  {
   "cell_type": "markdown",
   "id": "84035bd5-1772-4ccf-9144-1e176fab740e",
   "metadata": {},
   "source": [
    "![High value sales by day of the week](../images/sales_by_weekday.png)"
   ]
  },
  {
   "cell_type": "markdown",
   "id": "75b1ff63-3f7c-470e-846a-f79639a0813a",
   "metadata": {},
   "source": [
    "- There are no elite transactions on Tuesdays\n",
    "- Elite transactions cluster around Thursdays and Fridays\n",
    "- Although there are more elite transactions on Thurdays than Fridays, revenue generated on Fridays is higher than that generated from elite sales on Thursdays."
   ]
  },
  {
   "cell_type": "markdown",
   "id": "770742a0-5deb-49cf-9a2f-0a0dac769fd5",
   "metadata": {},
   "source": [
    "## How do Sales Vary by Segment?"
   ]
  },
  {
   "cell_type": "code",
   "execution_count": 51,
   "id": "9b349a24-3e87-4acf-a087-e609d18df32b",
   "metadata": {},
   "outputs": [
    {
     "data": {
      "text/html": [
       "<div>\n",
       "<style scoped>\n",
       "    .dataframe tbody tr th:only-of-type {\n",
       "        vertical-align: middle;\n",
       "    }\n",
       "\n",
       "    .dataframe tbody tr th {\n",
       "        vertical-align: top;\n",
       "    }\n",
       "\n",
       "    .dataframe thead th {\n",
       "        text-align: right;\n",
       "    }\n",
       "</style>\n",
       "<table border=\"1\" class=\"dataframe\">\n",
       "  <thead>\n",
       "    <tr style=\"text-align: right;\">\n",
       "      <th></th>\n",
       "      <th>segment</th>\n",
       "      <th>CustomerID</th>\n",
       "      <th>Transaction_ID</th>\n",
       "      <th>Quantity</th>\n",
       "      <th>net_sales</th>\n",
       "    </tr>\n",
       "  </thead>\n",
       "  <tbody>\n",
       "    <tr>\n",
       "      <th>0</th>\n",
       "      <td>Loyalty Tier</td>\n",
       "      <td>508</td>\n",
       "      <td>20991</td>\n",
       "      <td>75438</td>\n",
       "      <td>1416308.385</td>\n",
       "    </tr>\n",
       "    <tr>\n",
       "      <th>1</th>\n",
       "      <td>Premium Tier</td>\n",
       "      <td>258</td>\n",
       "      <td>17332</td>\n",
       "      <td>90120</td>\n",
       "      <td>1352027.974</td>\n",
       "    </tr>\n",
       "    <tr>\n",
       "      <th>2</th>\n",
       "      <td>Elite Tier</td>\n",
       "      <td>41</td>\n",
       "      <td>4208</td>\n",
       "      <td>37587</td>\n",
       "      <td>485205.163</td>\n",
       "    </tr>\n",
       "    <tr>\n",
       "      <th>3</th>\n",
       "      <td>Regular Tier</td>\n",
       "      <td>661</td>\n",
       "      <td>9993</td>\n",
       "      <td>33222</td>\n",
       "      <td>464125.725</td>\n",
       "    </tr>\n",
       "  </tbody>\n",
       "</table>\n",
       "</div>"
      ],
      "text/plain": [
       "        segment  CustomerID  Transaction_ID  Quantity    net_sales\n",
       "0  Loyalty Tier         508           20991     75438  1416308.385\n",
       "1  Premium Tier         258           17332     90120  1352027.974\n",
       "2    Elite Tier          41            4208     37587   485205.163\n",
       "3  Regular Tier         661            9993     33222   464125.725"
      ]
     },
     "execution_count": 51,
     "metadata": {},
     "output_type": "execute_result"
    }
   ],
   "source": [
    "by_segment = df.groupby(\"segment\").agg({\n",
    "    \"CustomerID\": \"nunique\",\n",
    "    \"Transaction_ID\": \"count\",\n",
    "    \"Quantity\": \"sum\",\n",
    "    \"net_sales\": \"sum\"\n",
    "}).sort_values(\"net_sales\", ascending = False).reset_index()\n",
    "\n",
    "by_segment"
   ]
  },
  {
   "cell_type": "markdown",
   "id": "de3b5f02-4e7c-48bb-b15f-49acec70dceb",
   "metadata": {},
   "source": [
    "- Our Loyalty tier is the leading, with $1,416,308 in revenue negerated between Jan 2019 and Dec 2019. This segment also has the second largest number of customers (508).\n",
    "  \n",
    "- While our Regular segment has the largest number of customers (661), this it generated the least amount of revenue, $464,125 in 2019.\n",
    "\n",
    "- For detailed comparative analysis between segments, please check my Power BI dashboards [here](https://machanig.github.io/2025/02/09/customer-behavior.html)"
   ]
  },
  {
   "cell_type": "code",
   "execution_count": 52,
   "id": "dd7e9568-c0d6-4b8d-bedd-106339725f97",
   "metadata": {},
   "outputs": [],
   "source": [
    "#save the df to csv so that we can export it to power Bi for comparative analysis of segments\n",
    "df.to_csv(\"marketing_df.csv\", index = False)"
   ]
  },
  {
   "cell_type": "markdown",
   "id": "a05a522c-cb55-4534-892f-08078a225d13",
   "metadata": {},
   "source": [
    "*authored by frida*"
   ]
  }
 ],
 "metadata": {
  "kernelspec": {
   "display_name": "Python 3 (ipykernel)",
   "language": "python",
   "name": "python3"
  },
  "language_info": {
   "codemirror_mode": {
    "name": "ipython",
    "version": 3
   },
   "file_extension": ".py",
   "mimetype": "text/x-python",
   "name": "python",
   "nbconvert_exporter": "python",
   "pygments_lexer": "ipython3",
   "version": "3.12.7"
  }
 },
 "nbformat": 4,
 "nbformat_minor": 5
}
